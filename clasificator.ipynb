{
  "cells": [
    {
      "cell_type": "code",
      "execution_count": 1,
      "metadata": {
        "colab": {
          "base_uri": "https://localhost:8080/"
        },
        "id": "qsi6E4DsqouV",
        "outputId": "af1c4a1f-ebba-47dc-aaed-dbebab010f89"
      },
      "outputs": [
        {
          "name": "stdout",
          "output_type": "stream",
          "text": [
            "Requirement already satisfied: transformers in /usr/local/lib/python3.10/dist-packages (4.44.2)\n",
            "Collecting datasets\n",
            "  Downloading datasets-2.21.0-py3-none-any.whl.metadata (21 kB)\n",
            "Collecting evaluate\n",
            "  Downloading evaluate-0.4.2-py3-none-any.whl.metadata (9.3 kB)\n",
            "Requirement already satisfied: accelerate in /usr/local/lib/python3.10/dist-packages (0.33.0)\n",
            "Requirement already satisfied: filelock in /usr/local/lib/python3.10/dist-packages (from transformers) (3.15.4)\n",
            "Requirement already satisfied: huggingface-hub<1.0,>=0.23.2 in /usr/local/lib/python3.10/dist-packages (from transformers) (0.24.6)\n",
            "Requirement already satisfied: numpy>=1.17 in /usr/local/lib/python3.10/dist-packages (from transformers) (1.26.4)\n",
            "Requirement already satisfied: packaging>=20.0 in /usr/local/lib/python3.10/dist-packages (from transformers) (24.1)\n",
            "Requirement already satisfied: pyyaml>=5.1 in /usr/local/lib/python3.10/dist-packages (from transformers) (6.0.2)\n",
            "Requirement already satisfied: regex!=2019.12.17 in /usr/local/lib/python3.10/dist-packages (from transformers) (2024.5.15)\n",
            "Requirement already satisfied: requests in /usr/local/lib/python3.10/dist-packages (from transformers) (2.32.3)\n",
            "Requirement already satisfied: safetensors>=0.4.1 in /usr/local/lib/python3.10/dist-packages (from transformers) (0.4.4)\n",
            "Requirement already satisfied: tokenizers<0.20,>=0.19 in /usr/local/lib/python3.10/dist-packages (from transformers) (0.19.1)\n",
            "Requirement already satisfied: tqdm>=4.27 in /usr/local/lib/python3.10/dist-packages (from transformers) (4.66.5)\n",
            "Collecting pyarrow>=15.0.0 (from datasets)\n",
            "  Downloading pyarrow-17.0.0-cp310-cp310-manylinux_2_28_x86_64.whl.metadata (3.3 kB)\n",
            "Collecting dill<0.3.9,>=0.3.0 (from datasets)\n",
            "  Downloading dill-0.3.8-py3-none-any.whl.metadata (10 kB)\n",
            "Requirement already satisfied: pandas in /usr/local/lib/python3.10/dist-packages (from datasets) (2.1.4)\n",
            "Collecting xxhash (from datasets)\n",
            "  Downloading xxhash-3.5.0-cp310-cp310-manylinux_2_17_x86_64.manylinux2014_x86_64.whl.metadata (12 kB)\n",
            "Collecting multiprocess (from datasets)\n",
            "  Downloading multiprocess-0.70.16-py310-none-any.whl.metadata (7.2 kB)\n",
            "Requirement already satisfied: fsspec<=2024.6.1,>=2023.1.0 in /usr/local/lib/python3.10/dist-packages (from fsspec[http]<=2024.6.1,>=2023.1.0->datasets) (2024.6.1)\n",
            "Requirement already satisfied: aiohttp in /usr/local/lib/python3.10/dist-packages (from datasets) (3.10.5)\n",
            "Requirement already satisfied: psutil in /usr/local/lib/python3.10/dist-packages (from accelerate) (5.9.5)\n",
            "Requirement already satisfied: torch>=1.10.0 in /usr/local/lib/python3.10/dist-packages (from accelerate) (2.4.0+cu121)\n",
            "Requirement already satisfied: aiohappyeyeballs>=2.3.0 in /usr/local/lib/python3.10/dist-packages (from aiohttp->datasets) (2.4.0)\n",
            "Requirement already satisfied: aiosignal>=1.1.2 in /usr/local/lib/python3.10/dist-packages (from aiohttp->datasets) (1.3.1)\n",
            "Requirement already satisfied: attrs>=17.3.0 in /usr/local/lib/python3.10/dist-packages (from aiohttp->datasets) (24.2.0)\n",
            "Requirement already satisfied: frozenlist>=1.1.1 in /usr/local/lib/python3.10/dist-packages (from aiohttp->datasets) (1.4.1)\n",
            "Requirement already satisfied: multidict<7.0,>=4.5 in /usr/local/lib/python3.10/dist-packages (from aiohttp->datasets) (6.0.5)\n",
            "Requirement already satisfied: yarl<2.0,>=1.0 in /usr/local/lib/python3.10/dist-packages (from aiohttp->datasets) (1.9.4)\n",
            "Requirement already satisfied: async-timeout<5.0,>=4.0 in /usr/local/lib/python3.10/dist-packages (from aiohttp->datasets) (4.0.3)\n",
            "Requirement already satisfied: typing-extensions>=3.7.4.3 in /usr/local/lib/python3.10/dist-packages (from huggingface-hub<1.0,>=0.23.2->transformers) (4.12.2)\n",
            "Requirement already satisfied: charset-normalizer<4,>=2 in /usr/local/lib/python3.10/dist-packages (from requests->transformers) (3.3.2)\n",
            "Requirement already satisfied: idna<4,>=2.5 in /usr/local/lib/python3.10/dist-packages (from requests->transformers) (3.8)\n",
            "Requirement already satisfied: urllib3<3,>=1.21.1 in /usr/local/lib/python3.10/dist-packages (from requests->transformers) (2.0.7)\n",
            "Requirement already satisfied: certifi>=2017.4.17 in /usr/local/lib/python3.10/dist-packages (from requests->transformers) (2024.8.30)\n",
            "Requirement already satisfied: sympy in /usr/local/lib/python3.10/dist-packages (from torch>=1.10.0->accelerate) (1.13.2)\n",
            "Requirement already satisfied: networkx in /usr/local/lib/python3.10/dist-packages (from torch>=1.10.0->accelerate) (3.3)\n",
            "Requirement already satisfied: jinja2 in /usr/local/lib/python3.10/dist-packages (from torch>=1.10.0->accelerate) (3.1.4)\n",
            "Requirement already satisfied: python-dateutil>=2.8.2 in /usr/local/lib/python3.10/dist-packages (from pandas->datasets) (2.8.2)\n",
            "Requirement already satisfied: pytz>=2020.1 in /usr/local/lib/python3.10/dist-packages (from pandas->datasets) (2024.1)\n",
            "Requirement already satisfied: tzdata>=2022.1 in /usr/local/lib/python3.10/dist-packages (from pandas->datasets) (2024.1)\n",
            "Requirement already satisfied: six>=1.5 in /usr/local/lib/python3.10/dist-packages (from python-dateutil>=2.8.2->pandas->datasets) (1.16.0)\n",
            "Requirement already satisfied: MarkupSafe>=2.0 in /usr/local/lib/python3.10/dist-packages (from jinja2->torch>=1.10.0->accelerate) (2.1.5)\n",
            "Requirement already satisfied: mpmath<1.4,>=1.1.0 in /usr/local/lib/python3.10/dist-packages (from sympy->torch>=1.10.0->accelerate) (1.3.0)\n",
            "Downloading datasets-2.21.0-py3-none-any.whl (527 kB)\n",
            "\u001b[2K   \u001b[90m━━━━━━━━━━━━━━━━━━━━━━━━━━━━━━━━━━━━━━━━\u001b[0m \u001b[32m527.3/527.3 kB\u001b[0m \u001b[31m17.3 MB/s\u001b[0m eta \u001b[36m0:00:00\u001b[0m\n",
            "\u001b[?25hDownloading evaluate-0.4.2-py3-none-any.whl (84 kB)\n",
            "\u001b[2K   \u001b[90m━━━━━━━━━━━━━━━━━━━━━━━━━━━━━━━━━━━━━━━━\u001b[0m \u001b[32m84.1/84.1 kB\u001b[0m \u001b[31m5.0 MB/s\u001b[0m eta \u001b[36m0:00:00\u001b[0m\n",
            "\u001b[?25hDownloading dill-0.3.8-py3-none-any.whl (116 kB)\n",
            "\u001b[2K   \u001b[90m━━━━━━━━━━━━━━━━━━━━━━━━━━━━━━━━━━━━━━━━\u001b[0m \u001b[32m116.3/116.3 kB\u001b[0m \u001b[31m8.2 MB/s\u001b[0m eta \u001b[36m0:00:00\u001b[0m\n",
            "\u001b[?25hDownloading pyarrow-17.0.0-cp310-cp310-manylinux_2_28_x86_64.whl (39.9 MB)\n",
            "\u001b[2K   \u001b[90m━━━━━━━━━━━━━━━━━━━━━━━━━━━━━━━━━━━━━━━━\u001b[0m \u001b[32m39.9/39.9 MB\u001b[0m \u001b[31m11.0 MB/s\u001b[0m eta \u001b[36m0:00:00\u001b[0m\n",
            "\u001b[?25hDownloading multiprocess-0.70.16-py310-none-any.whl (134 kB)\n",
            "\u001b[2K   \u001b[90m━━━━━━━━━━━━━━━━━━━━━━━━━━━━━━━━━━━━━━━━\u001b[0m \u001b[32m134.8/134.8 kB\u001b[0m \u001b[31m9.4 MB/s\u001b[0m eta \u001b[36m0:00:00\u001b[0m\n",
            "\u001b[?25hDownloading xxhash-3.5.0-cp310-cp310-manylinux_2_17_x86_64.manylinux2014_x86_64.whl (194 kB)\n",
            "\u001b[2K   \u001b[90m━━━━━━━━━━━━━━━━━━━━━━━━━━━━━━━━━━━━━━━━\u001b[0m \u001b[32m194.1/194.1 kB\u001b[0m \u001b[31m20.2 MB/s\u001b[0m eta \u001b[36m0:00:00\u001b[0m\n",
            "\u001b[?25hInstalling collected packages: xxhash, pyarrow, dill, multiprocess, datasets, evaluate\n",
            "  Attempting uninstall: pyarrow\n",
            "    Found existing installation: pyarrow 14.0.2\n",
            "    Uninstalling pyarrow-14.0.2:\n",
            "      Successfully uninstalled pyarrow-14.0.2\n",
            "\u001b[31mERROR: pip's dependency resolver does not currently take into account all the packages that are installed. This behaviour is the source of the following dependency conflicts.\n",
            "cudf-cu12 24.4.1 requires pyarrow<15.0.0a0,>=14.0.1, but you have pyarrow 17.0.0 which is incompatible.\n",
            "ibis-framework 8.0.0 requires pyarrow<16,>=2, but you have pyarrow 17.0.0 which is incompatible.\u001b[0m\u001b[31m\n",
            "\u001b[0mSuccessfully installed datasets-2.21.0 dill-0.3.8 evaluate-0.4.2 multiprocess-0.70.16 pyarrow-17.0.0 xxhash-3.5.0\n"
          ]
        }
      ],
      "source": [
        "%pip install transformers datasets evaluate accelerate"
      ]
    },
    {
      "cell_type": "markdown",
      "metadata": {},
      "source": [
        "Uncomment if working on colab"
      ]
    },
    {
      "cell_type": "code",
      "execution_count": 4,
      "metadata": {
        "colab": {
          "base_uri": "https://localhost:8080/"
        },
        "id": "-efzpoCQqouc",
        "outputId": "0f40f425-3185-427c-c714-9dd22ca0665c"
      },
      "outputs": [
        {
          "name": "stdout",
          "output_type": "stream",
          "text": [
            "Mounted at /content/drive\n"
          ]
        }
      ],
      "source": [
        "# from google.colab import drive\n",
        "# drive.mount('/content/drive', force_remount=True)"
      ]
    },
    {
      "cell_type": "code",
      "execution_count": 57,
      "metadata": {
        "id": "7vyi7D60qoud"
      },
      "outputs": [],
      "source": [
        "from datasets import Dataset, ClassLabel, Features, Sequence, Value, DatasetDict\n",
        "\n",
        "\n",
        "import json\n",
        "\n",
        "with open(\"/content/drive/MyDrive/save_good3.json\", 'r', encoding='utf-8') as file:\n",
        "    # Load the JSON data from the file\n",
        "    data = json.load(file)\n",
        "\n",
        "# data['id'] = data.pop('ids')\n",
        "# ner_feature = ClassLabel(names=['O', 'FURNITURE'])\n",
        "data['ner_tags'] = [0 if tag == 'O' else 1 for tag in data['ner_tags']]\n",
        "\n",
        "\n",
        "# features = Features({\n",
        "#     'text': Sequence(feature=Value('string')),\n",
        "#     'label': Sequence(feature=ner_feature)\n",
        "#     # Add other features if needed\n",
        "# })\n",
        "\n",
        "# Create the Dataset with specified features\n",
        "first_dataset = Dataset.from_dict({\n",
        "    'text': data['tokens'],\n",
        "    'label': data['ner_tags']\n",
        "})"
      ]
    },
    {
      "cell_type": "code",
      "execution_count": 58,
      "metadata": {
        "colab": {
          "base_uri": "https://localhost:8080/"
        },
        "id": "e5vqbLTSqouf",
        "outputId": "a3f03dff-46f1-4fdd-a485-b1ede6fca928"
      },
      "outputs": [
        {
          "name": "stdout",
          "output_type": "stream",
          "text": [
            "DatasetDict({\n",
            "    train: Dataset({\n",
            "        features: ['text', 'label'],\n",
            "        num_rows: 4624\n",
            "    })\n",
            "    test: Dataset({\n",
            "        features: ['text', 'label'],\n",
            "        num_rows: 4716\n",
            "    })\n",
            "    unsupervised: Dataset({\n",
            "        features: ['text', 'label'],\n",
            "        num_rows: 9156\n",
            "    })\n",
            "})\n"
          ]
        }
      ],
      "source": [
        "\n",
        "# raw_datasets = raw_datasets.cast_column(\"ner_tags\", ner_feature)\n",
        "train_dataset, temp_dataset = first_dataset.train_test_split(test_size=0.75).values()\n",
        "\n",
        "# Further split the temp dataset into validation and test\n",
        "validation_dataset, test_dataset = temp_dataset.train_test_split(test_size=0.66).values()\n",
        "\n",
        "raw_datasets = DatasetDict({\n",
        "    'train': train_dataset,\n",
        "    'test': validation_dataset,\n",
        "    'unsupervised': test_dataset\n",
        "})\n",
        "\n",
        "print(raw_datasets)\n",
        "\n",
        "# ner_feature = raw_datasets['train'].features[\"ner_tags\"]\n",
        "# print(ner_feature)\n",
        "# # ner_feature = raw_datasets['validation'].features[\"tokens\"]\n",
        "# # print(ner_feature)\n",
        "# # ner_feature = raw_datasets['test'].features[\"id\"]\n",
        "# # print(ner_feature)\n",
        "# label_names = ner_feature.feature.names\n",
        "# label_names\n",
        "\n"
      ]
    },
    {
      "cell_type": "code",
      "execution_count": 59,
      "metadata": {
        "colab": {
          "base_uri": "https://localhost:8080/"
        },
        "id": "sL0VnRMkqoug",
        "outputId": "b34ae41f-e309-4b8a-f4ad-2ce07b6dc81f"
      },
      "outputs": [
        {
          "name": "stderr",
          "output_type": "stream",
          "text": [
            "/usr/local/lib/python3.10/dist-packages/transformers/tokenization_utils_base.py:1601: FutureWarning: `clean_up_tokenization_spaces` was not set. It will be set to `True` by default. This behavior will be depracted in transformers v4.45, and will be then set to `False` by default. For more details check this issue: https://github.com/huggingface/transformers/issues/31884\n",
            "  warnings.warn(\n"
          ]
        }
      ],
      "source": [
        "from transformers import AutoTokenizer\n",
        "\n",
        "tokenizer = AutoTokenizer.from_pretrained(\"distilbert/distilbert-base-uncased\")"
      ]
    },
    {
      "cell_type": "code",
      "execution_count": 60,
      "metadata": {
        "id": "6Sw4d0Lwqoug"
      },
      "outputs": [],
      "source": [
        "def preprocess_function(examples):\n",
        "    return tokenizer(examples[\"text\"], truncation=True, padding='max_length', max_length=512)"
      ]
    },
    {
      "cell_type": "code",
      "execution_count": 61,
      "metadata": {
        "colab": {
          "base_uri": "https://localhost:8080/",
          "height": 113,
          "referenced_widgets": [
            "c6772167be344eb99e4ecae0cbea1036",
            "ab0d991e60844a3eb359c8507e17ee27",
            "9b430b2490f6422ca63df30eed15a505",
            "2edab05644db4d329869e63cc25f3411",
            "a2ed002980724cf8ac200ace6041028e",
            "7638f2c8fef74041ab613021c9c73aaf",
            "a78a32ac518d4a34bb6b1355cb4cf8aa",
            "41cd942ea05d4d74a51c07d1c384cc5c",
            "f6ff2e4d5eb4453c91f498cd04eb803b",
            "6efbc70f055e4c60a52a7b50738b5b56",
            "ed5723b6383847229df9fb8a278968a0",
            "abb4e782a234475893349b626e30a464",
            "6e13e9e2383541f694e31aa8432d1cb2",
            "fd47aa2210fe46a18e3d30606a6cc042",
            "0678daf5e26f4517a7184b02d13e53bd",
            "cdebc05e50904300a682c7a781214f65",
            "146c4b41385144408c0cb653294b70b1",
            "9bce174dca174064a9da2ce06e0fdfb2",
            "bc74092d272749b48f25c7039018022e",
            "5a199cacfc364f78b9d623b9c3f33f5b",
            "20d3e1e2ce2c4872a17102102f1de26f",
            "cccf014409e247d49a35cdf86c33aef5",
            "e050f6b9f55a45cc9761921897c50844",
            "ef21109e32734fe1a3cc309106de110a",
            "8202e6924ff94ff79ab89b0cdb41ede5",
            "dff67d99a55e4867be339b75fb22e2a3",
            "3f34215bf36f41dd9b377a25b88a288a",
            "a7d58e72e10249b794f8aba1ded56218",
            "6ccc4e0bafa44cc3a7e1a0d396bb7668",
            "d0e79020eb5141f987f2ddba3fb6140e",
            "d4ca4940c5b2446e91362410ce27903b",
            "76c883d48bb74690a9bfc7d667638e29",
            "166039ec870c4a1983b439fb9fc6fb40"
          ]
        },
        "id": "Vm1K4AWwqouh",
        "outputId": "b8848aaf-4fb3-4dce-9fc0-40398569238e"
      },
      "outputs": [
        {
          "data": {
            "application/vnd.jupyter.widget-view+json": {
              "model_id": "c6772167be344eb99e4ecae0cbea1036",
              "version_major": 2,
              "version_minor": 0
            },
            "text/plain": [
              "Map:   0%|          | 0/4624 [00:00<?, ? examples/s]"
            ]
          },
          "metadata": {},
          "output_type": "display_data"
        },
        {
          "data": {
            "application/vnd.jupyter.widget-view+json": {
              "model_id": "abb4e782a234475893349b626e30a464",
              "version_major": 2,
              "version_minor": 0
            },
            "text/plain": [
              "Map:   0%|          | 0/4716 [00:00<?, ? examples/s]"
            ]
          },
          "metadata": {},
          "output_type": "display_data"
        },
        {
          "data": {
            "application/vnd.jupyter.widget-view+json": {
              "model_id": "e050f6b9f55a45cc9761921897c50844",
              "version_major": 2,
              "version_minor": 0
            },
            "text/plain": [
              "Map:   0%|          | 0/9156 [00:00<?, ? examples/s]"
            ]
          },
          "metadata": {},
          "output_type": "display_data"
        }
      ],
      "source": [
        "tokenized_tags = raw_datasets.map(preprocess_function, batched=True)"
      ]
    },
    {
      "cell_type": "code",
      "execution_count": 62,
      "metadata": {
        "id": "QVDAWdkbqoui"
      },
      "outputs": [],
      "source": [
        "from transformers import DataCollatorWithPadding\n",
        "\n",
        "data_collator = DataCollatorWithPadding(tokenizer=tokenizer)"
      ]
    },
    {
      "cell_type": "code",
      "execution_count": 63,
      "metadata": {
        "id": "7Bn3eEY8qoui"
      },
      "outputs": [],
      "source": [
        "import evaluate\n",
        "\n",
        "accuracy = evaluate.load(\"accuracy\")"
      ]
    },
    {
      "cell_type": "code",
      "execution_count": 64,
      "metadata": {
        "id": "lMMKxmaLqouj"
      },
      "outputs": [],
      "source": [
        "import numpy as np\n",
        "\n",
        "\n",
        "def compute_metrics(eval_pred):\n",
        "    predictions, labels = eval_pred\n",
        "    predictions = np.argmax(predictions, axis=1)\n",
        "    return accuracy.compute(predictions=predictions, references=labels)"
      ]
    },
    {
      "cell_type": "code",
      "execution_count": 65,
      "metadata": {
        "id": "kMd6hcQ2qouj"
      },
      "outputs": [],
      "source": [
        "id2label = {0: \"O\", 1: \"FURNITURE\"}\n",
        "label2id = {\"O\": 0, \"FURNITURE\": 1}"
      ]
    },
    {
      "cell_type": "code",
      "execution_count": 93,
      "metadata": {
        "colab": {
          "base_uri": "https://localhost:8080/"
        },
        "id": "XFpKYhQcqouk",
        "outputId": "d03b287e-05d8-4f0e-f5dc-700227219712"
      },
      "outputs": [
        {
          "name": "stderr",
          "output_type": "stream",
          "text": [
            "Some weights of DistilBertForSequenceClassification were not initialized from the model checkpoint at distilbert/distilbert-base-uncased and are newly initialized: ['classifier.bias', 'classifier.weight', 'pre_classifier.bias', 'pre_classifier.weight']\n",
            "You should probably TRAIN this model on a down-stream task to be able to use it for predictions and inference.\n"
          ]
        }
      ],
      "source": [
        "from transformers import AutoModelForSequenceClassification, TrainingArguments, Trainer\n",
        "\n",
        "model = AutoModelForSequenceClassification.from_pretrained(\n",
        "    \"distilbert/distilbert-base-uncased\", num_labels=2, id2label=id2label, label2id=label2id\n",
        ")\n"
      ]
    },
    {
      "cell_type": "code",
      "execution_count": 94,
      "metadata": {
        "colab": {
          "base_uri": "https://localhost:8080/",
          "height": 425
        },
        "id": "IsOAOXJwqouk",
        "outputId": "2fab31aa-0671-4bfe-c877-51f6c25404b8"
      },
      "outputs": [
        {
          "data": {
            "text/html": [
              "\n",
              "    <div>\n",
              "      \n",
              "      <progress value='1157' max='1156' style='width:300px; height:20px; vertical-align: middle;'></progress>\n",
              "      [1156/1156 17:47, Epoch 4/4]\n",
              "    </div>\n",
              "    <table border=\"1\" class=\"dataframe\">\n",
              "  <thead>\n",
              " <tr style=\"text-align: left;\">\n",
              "      <th>Epoch</th>\n",
              "      <th>Training Loss</th>\n",
              "      <th>Validation Loss</th>\n",
              "      <th>Accuracy</th>\n",
              "    </tr>\n",
              "  </thead>\n",
              "  <tbody>\n",
              "    <tr>\n",
              "      <td>1</td>\n",
              "      <td>No log</td>\n",
              "      <td>0.302203</td>\n",
              "      <td>0.880407</td>\n",
              "    </tr>\n",
              "    <tr>\n",
              "      <td>2</td>\n",
              "      <td>0.293000</td>\n",
              "      <td>0.300918</td>\n",
              "      <td>0.884012</td>\n",
              "    </tr>\n",
              "    <tr>\n",
              "      <td>3</td>\n",
              "      <td>0.293000</td>\n",
              "      <td>0.321598</td>\n",
              "      <td>0.901187</td>\n",
              "    </tr>\n",
              "  </tbody>\n",
              "</table><p>\n",
              "    <div>\n",
              "      \n",
              "      <progress value='37' max='295' style='width:300px; height:20px; vertical-align: middle;'></progress>\n",
              "      [ 37/295 00:09 < 01:06, 3.86 it/s]\n",
              "    </div>\n",
              "    "
            ],
            "text/plain": [
              "<IPython.core.display.HTML object>"
            ]
          },
          "metadata": {},
          "output_type": "display_data"
        },
        {
          "data": {
            "text/html": [
              "\n",
              "    <div>\n",
              "      \n",
              "      <progress value='1156' max='1156' style='width:300px; height:20px; vertical-align: middle;'></progress>\n",
              "      [1156/1156 19:15, Epoch 4/4]\n",
              "    </div>\n",
              "    <table border=\"1\" class=\"dataframe\">\n",
              "  <thead>\n",
              " <tr style=\"text-align: left;\">\n",
              "      <th>Epoch</th>\n",
              "      <th>Training Loss</th>\n",
              "      <th>Validation Loss</th>\n",
              "      <th>Accuracy</th>\n",
              "    </tr>\n",
              "  </thead>\n",
              "  <tbody>\n",
              "    <tr>\n",
              "      <td>1</td>\n",
              "      <td>No log</td>\n",
              "      <td>0.302203</td>\n",
              "      <td>0.880407</td>\n",
              "    </tr>\n",
              "    <tr>\n",
              "      <td>2</td>\n",
              "      <td>0.293000</td>\n",
              "      <td>0.300918</td>\n",
              "      <td>0.884012</td>\n",
              "    </tr>\n",
              "    <tr>\n",
              "      <td>3</td>\n",
              "      <td>0.293000</td>\n",
              "      <td>0.321598</td>\n",
              "      <td>0.901187</td>\n",
              "    </tr>\n",
              "    <tr>\n",
              "      <td>4</td>\n",
              "      <td>0.159600</td>\n",
              "      <td>0.332574</td>\n",
              "      <td>0.906913</td>\n",
              "    </tr>\n",
              "  </tbody>\n",
              "</table><p>"
            ],
            "text/plain": [
              "<IPython.core.display.HTML object>"
            ]
          },
          "metadata": {},
          "output_type": "display_data"
        },
        {
          "data": {
            "text/plain": [
              "TrainOutput(global_step=1156, training_loss=0.20923296968004695, metrics={'train_runtime': 1156.326, 'train_samples_per_second': 15.995, 'train_steps_per_second': 1.0, 'total_flos': 2450117005541376.0, 'train_loss': 0.20923296968004695, 'epoch': 4.0})"
            ]
          },
          "execution_count": 94,
          "metadata": {},
          "output_type": "execute_result"
        }
      ],
      "source": [
        "training_args = TrainingArguments(\n",
        "    output_dir=\"/content/drive/MyDrive/Model\",\n",
        "    learning_rate=2e-5,\n",
        "    per_device_train_batch_size=16,\n",
        "    per_device_eval_batch_size=16,\n",
        "    num_train_epochs=4,\n",
        "    weight_decay=0.01,\n",
        "    eval_strategy=\"epoch\",\n",
        "    save_strategy=\"epoch\",\n",
        "    load_best_model_at_end=True,\n",
        "    push_to_hub=False,\n",
        ")\n",
        "\n",
        "trainer = Trainer(\n",
        "    model=model,\n",
        "    args=training_args,\n",
        "    train_dataset=tokenized_tags[\"train\"],\n",
        "    eval_dataset=tokenized_tags[\"test\"],\n",
        "    tokenizer=tokenizer,\n",
        "    data_collator=data_collator,\n",
        "    compute_metrics=compute_metrics,\n",
        ")\n",
        "\n",
        "trainer.train()"
      ]
    },
    {
      "cell_type": "code",
      "execution_count": 3,
      "metadata": {
        "id": "QfJ_L_NGqoul"
      },
      "outputs": [],
      "source": [
        "text1 = \"<a _ngcontent-ng-c4105231812=\\\"\\\" class=\\\"link\\\" href=\\\"/about/privacy-statement\\\">PRIVACY STATEMENT</a>\"\n",
        "text2 = \"<a class=\\\"announcement-bar__link link link--text focus-inset animate-arrow\\\" href=\\\"/pages/mattresses\\\"> <img alt=\\\"\\\" src=\\\"//www.factorybuys.com.au/cdn/shop/files/thumbs-up_449b5a70-dff2-4a1c-acff-bdf45491b079.png?v=1659573667\\\"/> <span class=\\\"announcement-bar__message\\\"> FREE SHIPPING ON MATTRESSES* </span></a>\""
      ]
    },
    {
      "cell_type": "code",
      "execution_count": 4,
      "metadata": {
        "colab": {
          "base_uri": "https://localhost:8080/"
        },
        "id": "qPqZxWBzqoul",
        "outputId": "eabee836-002e-41b5-af9c-a9fbf11977a0"
      },
      "outputs": [
        {
          "name": "stdout",
          "output_type": "stream",
          "text": [
            "O\n",
            "[{'label': 'FURNITURE', 'score': 0.9845311641693115}]\n"
          ]
        }
      ],
      "source": [
        "from transformers import pipeline\n",
        "\n",
        "classifier = pipeline(\"text-classification\", model=\"checkpoint-1156\")\n",
        "print(classifier(text1)[0]['label'])\n",
        "print(classifier(text2))"
      ]
    },
    {
      "cell_type": "code",
      "execution_count": 33,
      "metadata": {
        "id": "DaoQ4-mx1okN"
      },
      "outputs": [],
      "source": [
        "import requests\n",
        "from bs4 import BeautifulSoup\n",
        "\n",
        "headers = {\n",
        "    'User-Agent': 'Mozilla/5.0 (Windows NT 10.0; Win64; x64) AppleWebKit/537.36 (KHTML, like Gecko) Chrome/91.0.4472.124 Safari/537.36'\n",
        "}\n",
        "\n",
        "tags_to_keep = ['p', 'h1', 'h2', 'h3', 'h4', 'h5', 'h6', 'span', 'strong', 'em', 'a']\n",
        "\n",
        "def filter_html_by_tags(soup, tags_to_keep):\n",
        "    # Create a new BeautifulSoup object to store the filtered HTML\n",
        "    filtered_soup = []\n",
        "\n",
        "    # Iterate over all the tags in the soup\n",
        "    for tag in soup.find_all(True):  # True finds all tags\n",
        "        if tag.name in tags_to_keep:\n",
        "            # Copy the tag and its contents to the filtered_soup\n",
        "            filtered_soup.append(str(tag).replace('  ', '').replace('\\n', ' '))\n",
        "\n",
        "    return filtered_soup\n",
        "\n",
        "def copy_web_page(url):\n",
        "    try:\n",
        "        # Attempt to fetch the web page\n",
        "        response = requests.get(url, headers=headers)\n",
        "        response.raise_for_status()  # Raise an error for bad status codes\n",
        "\n",
        "        # Parse the page\n",
        "        soup = BeautifulSoup(response.text, 'html.parser')\n",
        "\n",
        "        # Remove script and style elements\n",
        "        for script in soup(['script', 'style']):\n",
        "            script.extract()\n",
        "\n",
        "        # Filter the soup to keep only the specified tags and their contents\n",
        "        filtered_soup = filter_html_by_tags(soup, tags_to_keep)\n",
        "\n",
        "        # Save the filtered HTML to a file\n",
        "        # with open(f\"{output_directory}/split_htmls.txt\", \"w\", encoding=\"utf-8\") as file:\n",
        "        #     file.write(filtered_soup.prettify())\n",
        "        print(f\"Successfully saved {url}\")\n",
        "\n",
        "        return filtered_soup\n",
        "\n",
        "\n",
        "    except requests.exceptions.RequestException as e:\n",
        "        # Handle any exceptions related to the request\n",
        "        print(f\"Failed to retrieve {url}: {e}\")\n",
        "\n",
        "        return []"
      ]
    },
    {
      "cell_type": "code",
      "execution_count": 34,
      "metadata": {
        "id": "OgqarHsk2W4x"
      },
      "outputs": [],
      "source": [
        "from bs4 import BeautifulSoup\n",
        "\n",
        "def remove_path_tags(html):\n",
        "    soup = BeautifulSoup(html, 'html.parser')\n",
        "\n",
        "    # Find all <svg> elements\n",
        "    for svg in soup.find_all('svg'):\n",
        "        # Remove all <path> tags within each <svg>\n",
        "        for path in svg.find_all('path'):\n",
        "            path.decompose()\n",
        "\n",
        "    # Return cleaned HTML\n",
        "    return str(soup)\n",
        "\n",
        "def remove_empty_tags(tokens):\n",
        "    filtered_indexes = []\n",
        "\n",
        "    for indx, html in enumerate(tokens):\n",
        "        soup = BeautifulSoup(html, 'lxml')\n",
        "        if soup.get_text(strip=True):  # Check if there is any non-whitespace text\n",
        "            filtered_indexes.append(indx)\n",
        "\n",
        "    new_tokens = [remove_path_tags(tokens[i]) for i in filtered_indexes]\n",
        "\n",
        "    return new_tokens\n"
      ]
    },
    {
      "cell_type": "code",
      "execution_count": 35,
      "metadata": {},
      "outputs": [],
      "source": [
        "def parse_html(html_string):    \n",
        "    # Parse the HTML\n",
        "    soup = BeautifulSoup(html_string, 'html.parser')\n",
        "\n",
        "    return soup.get_text()"
      ]
    },
    {
      "cell_type": "code",
      "execution_count": 36,
      "metadata": {},
      "outputs": [],
      "source": [
        "from tqdm import tqdm\n",
        "\n",
        "def process_link(link):\n",
        "  tokens = remove_empty_tags(copy_web_page(link))\n",
        "\n",
        "  processed_list = []\n",
        "  if len(tokens) == 0:\n",
        "    return {'link': link, 'result': 'No furniture found'}\n",
        "\n",
        "  for i in tqdm(range(len(tokens))):\n",
        "    if classifier(tokens[i], truncation=True)[0]['label'] == 'FURNITURE':\n",
        "      processed_list.append(parse_html(tokens[i]))\n",
        "\n",
        "  elem = {'link': link, 'tokens': processed_list}\n",
        "  return elem"
      ]
    },
    {
      "cell_type": "code",
      "execution_count": 40,
      "metadata": {},
      "outputs": [
        {
          "name": "stdout",
          "output_type": "stream",
          "text": [
            "Successfully saved https://www.warmnordic.com/global/products/news\n"
          ]
        },
        {
          "name": "stderr",
          "output_type": "stream",
          "text": [
            "100%|██████████| 835/835 [00:42<00:00, 19.82it/s]\n"
          ]
        },
        {
          "name": "stdout",
          "output_type": "stream",
          "text": [
            "Finished processing link 1\n",
            "Successfully saved https://www.royaloakfurniture.co.uk/products/pop-bench\n"
          ]
        },
        {
          "name": "stderr",
          "output_type": "stream",
          "text": [
            "100%|██████████| 145/145 [00:07<00:00, 20.08it/s]\n"
          ]
        },
        {
          "name": "stdout",
          "output_type": "stream",
          "text": [
            "Finished processing link 2\n",
            "Successfully saved https://mulamu.com/products/membership\n"
          ]
        },
        {
          "name": "stderr",
          "output_type": "stream",
          "text": [
            "100%|██████████| 145/145 [00:07<00:00, 20.58it/s]\n"
          ]
        },
        {
          "name": "stdout",
          "output_type": "stream",
          "text": [
            "Finished processing link 3\n",
            "Successfully saved http://www.genesisfurniturelv.com/products/\n"
          ]
        },
        {
          "name": "stderr",
          "output_type": "stream",
          "text": [
            "100%|██████████| 119/119 [00:04<00:00, 24.13it/s]\n"
          ]
        },
        {
          "name": "stdout",
          "output_type": "stream",
          "text": [
            "Finished processing link 4\n",
            "Failed to retrieve https://daufurniture.com/products/style/transitional/dana-upholstered-bed/: 530 Server Error: Site is frozen for url: https://daufurniture.com/products/style/transitional/dana-upholstered-bed/\n",
            "Finished processing link 5\n",
            "Failed to retrieve https://www.waynesfinefurnitureandbedding.com/search/products/?s=power+recliners&pp=120: 404 Client Error: Not Found for url: https://waynesfinefurnitureandbedding.com/search/products?s=power+recliners&pp=120\n",
            "Finished processing link 6\n",
            "Successfully saved https://theodores.com/products/\n"
          ]
        },
        {
          "name": "stderr",
          "output_type": "stream",
          "text": [
            "100%|██████████| 292/292 [00:26<00:00, 11.23it/s]\n"
          ]
        },
        {
          "name": "stdout",
          "output_type": "stream",
          "text": [
            "Finished processing link 7\n",
            "Successfully saved https://www.theoakfurnitureshop.com/products/country-trend-solid-oak-tv-stand-51/\n",
            "Finished processing link 8\n",
            "Failed to retrieve https://totalpatioaccessories.com/products/product07: 404 Client Error: Not Found for url: https://totalpatioaccessories.com/products/product07\n",
            "Finished processing link 9\n",
            "Failed to retrieve https://www.groensfinefurniture.com/products/Miscellaneous/misc/394554.html: 404 Client Error: Not Found for url: https://groensfinefurniture.com/products/Miscellaneous/misc/394554.html\n",
            "Finished processing link 10\n",
            "Failed to retrieve https://yesterdaystreefurniture.com/products/gifts/: 404 Client Error: Not Found for url: https://www.yesterdaystreefurniture.com/products/gifts/\n",
            "Finished processing link 11\n",
            "Successfully saved https://www.jensen-lewis.com/products/guardsman-gold-complete-plan\n"
          ]
        },
        {
          "name": "stderr",
          "output_type": "stream",
          "text": [
            "100%|██████████| 269/269 [00:18<00:00, 14.22it/s]\n"
          ]
        },
        {
          "name": "stdout",
          "output_type": "stream",
          "text": [
            "Finished processing link 12\n",
            "Failed to retrieve https://www.popandscott.com/products/raffia-sun: 404 Client Error: Not Found for url: https://www.popandscott.com/products/raffia-sun\n",
            "Finished processing link 13\n",
            "Failed to retrieve https://shophorne.com/products/sarpaneva-cast-iron-casserole: 404 Client Error: Not Found for url: https://shophorne.com/products/sarpaneva-cast-iron-casserole\n",
            "Finished processing link 14\n",
            "Successfully saved https://cultdesign.co.nz/products/molloy-chair\n"
          ]
        },
        {
          "name": "stderr",
          "output_type": "stream",
          "text": [
            "100%|██████████| 367/367 [00:19<00:00, 18.62it/s]\n"
          ]
        },
        {
          "name": "stdout",
          "output_type": "stream",
          "text": [
            "Finished processing link 15\n",
            "Successfully saved https://www.gloster.com/en/products/materials/teak\n"
          ]
        },
        {
          "name": "stderr",
          "output_type": "stream",
          "text": [
            "100%|██████████| 65/65 [00:20<00:00,  3.17it/s]\n"
          ]
        },
        {
          "name": "stdout",
          "output_type": "stream",
          "text": [
            "Finished processing link 16\n",
            "Failed to retrieve https://thebrick.com/products/tacoma-chest: 404 Client Error: Not Found for url: https://www.thebrick.com/products/tacoma-chest\n",
            "Finished processing link 17\n",
            "Failed to retrieve https://capsulehome.com/products/frey-sofa'%3EFrey%20Sofa%3C/a%3E%20and%20I%20wanted%20to%20share%20it%20with%20you: 404 Client Error: Not Found for url: https://capsulehome.com/products/frey-sofa'%3EFrey%20Sofa%3C/a%3E%20and%20I%20wanted%20to%20share%20it%20with%20you\n",
            "Finished processing link 18\n",
            "Failed to retrieve https://www.altamodafurniture.com/products/Woodworks/ca_ww/3701npt.html: 404 Client Error: Not Found for url: https://www.altamodafurniture.com/products/Woodworks/ca_ww/3701npt.html\n",
            "Finished processing link 19\n",
            "Successfully saved https://www.normann-copenhagen.com/en/en/products/tivoli/lamps/toli-lamp--20-cm-eu-5005028\n"
          ]
        },
        {
          "name": "stderr",
          "output_type": "stream",
          "text": [
            "100%|██████████| 639/639 [00:43<00:00, 14.79it/s]\n"
          ]
        },
        {
          "name": "stdout",
          "output_type": "stream",
          "text": [
            "Finished processing link 20\n",
            "Failed to retrieve https://www.gowfb.com/products/patio-set-covers: 404 Client Error: Not Found for url: https://www.gowfb.com/products/patio-set-covers\n",
            "Finished processing link 21\n",
            "Successfully saved https://allwoodfurn.com/products/group-119-rustic-two-tone-gathering-table-and-barstools\n"
          ]
        },
        {
          "name": "stderr",
          "output_type": "stream",
          "text": [
            "100%|██████████| 49/49 [00:02<00:00, 18.78it/s]\n"
          ]
        },
        {
          "name": "stdout",
          "output_type": "stream",
          "text": [
            "Finished processing link 22\n",
            "Failed to retrieve https://decorum-shop.co.uk/products/gift-card-10-25-50-100: HTTPSConnectionPool(host='decorum-shop.co.uk', port=443): Max retries exceeded with url: /products/gift-card-10-25-50-100 (Caused by SSLError(SSLCertVerificationError(1, \"[SSL: CERTIFICATE_VERIFY_FAILED] certificate verify failed: Hostname mismatch, certificate is not valid for 'decorum-shop.co.uk'. (_ssl.c:1006)\")))\n",
            "Finished processing link 23\n",
            "Successfully saved https://lostine.com/products/jack-chairs\n"
          ]
        },
        {
          "name": "stderr",
          "output_type": "stream",
          "text": [
            "100%|██████████| 464/464 [00:37<00:00, 12.38it/s]\n"
          ]
        },
        {
          "name": "stdout",
          "output_type": "stream",
          "text": [
            "Finished processing link 24\n",
            "Failed to retrieve https://designkollective.com/stores/woodlandcreek/products/76623: 404 Client Error: Not Found for url: https://designkollective.com/stores/woodlandcreek/products/76623\n",
            "Finished processing link 25\n",
            "Successfully saved https://www.somedaydesigns.co.uk/products/muuto-tip-lamp?variant=513748041743\n"
          ]
        },
        {
          "name": "stderr",
          "output_type": "stream",
          "text": [
            "100%|██████████| 604/604 [00:33<00:00, 17.91it/s]\n"
          ]
        },
        {
          "name": "stdout",
          "output_type": "stream",
          "text": [
            "Finished processing link 26\n",
            "Successfully saved https://www.mainecottage.com/collections/workspace/products/big-cay-desk\n"
          ]
        },
        {
          "name": "stderr",
          "output_type": "stream",
          "text": [
            "100%|██████████| 509/509 [00:48<00:00, 10.50it/s]\n"
          ]
        },
        {
          "name": "stdout",
          "output_type": "stream",
          "text": [
            "Finished processing link 27\n",
            "Failed to retrieve https://pawleysislandhammocks.com/products/swings/rope: 404 Client Error: Not Found for url: https://pawleysislandhammocks.com/products/swings/rope\n",
            "Finished processing link 28\n",
            "Failed to retrieve https://homeresource.com/products/series-7-chair&media=http://cdn.shopify.com/s/files/1/1170/0268/products/Series-7-ann-1423601841_1024x1024.jpeg&description=Series%207%20Chair%20%23Chairs: 404 Client Error: Not Found for url: https://homeresource.com/products/series-7-chair&media=http://cdn.shopify.com/s/files/1/1170/0268/products/Series-7-ann-1423601841_1024x1024.jpeg&description=Series%207%20Chair%20%23Chairs\n",
            "Finished processing link 29\n",
            "Successfully saved https://www.antoninimodernliving.com/products/\n"
          ]
        },
        {
          "name": "stderr",
          "output_type": "stream",
          "text": [
            "100%|██████████| 208/208 [00:16<00:00, 12.74it/s]\n"
          ]
        },
        {
          "name": "stdout",
          "output_type": "stream",
          "text": [
            "Finished processing link 30\n",
            "Successfully saved https://www.shorehousefurniture.com/products/Rowe-Furniture/rowe/c396sect.html\n"
          ]
        },
        {
          "name": "stderr",
          "output_type": "stream",
          "text": [
            "100%|██████████| 360/360 [00:20<00:00, 18.00it/s]\n"
          ]
        },
        {
          "name": "stdout",
          "output_type": "stream",
          "text": [
            "Finished processing link 31\n",
            "Failed to retrieve https://www.jandjtreasuretrove.net/apps/webstore/products/show/8098794: HTTPSConnectionPool(host='www.jandjtreasuretrove.net', port=443): Max retries exceeded with url: /apps/webstore/products/show/8098794 (Caused by SSLError(SSLError(1, '[SSL: TLSV1_ALERT_INTERNAL_ERROR] tlsv1 alert internal error (_ssl.c:1006)')))\n",
            "Finished processing link 32\n",
            "Failed to retrieve https://www.idcmn.com/products/sun-company-861013-queen-bed&source=webclient: 404 Client Error: Not Found for url: https://www.idcmn.com/products/sun-company-861013-queen-bed&source=webclient\n",
            "Finished processing link 33\n",
            "Failed to retrieve https://calligarisla.com/products/living/sofas/metro/minimal-and-contemporary-modular-sofa: HTTPSConnectionPool(host='calligarisla.com', port=443): Max retries exceeded with url: /products/living/sofas/metro/minimal-and-contemporary-modular-sofa (Caused by NameResolutionError(\"<urllib3.connection.HTTPSConnection object at 0x00000226BC4DF910>: Failed to resolve 'calligarisla.com' ([Errno 11001] getaddrinfo failed)\"))\n",
            "Finished processing link 34\n",
            "Failed to retrieve https://stealasofa.com/products/isla-gray-fabric-sectional-sofa-4249: 404 Client Error: Not Found for url: https://furniturecasalinda.com/products/isla-gray-fabric-sectional-sofa-4249\n",
            "Finished processing link 35\n",
            "Failed to retrieve https://urbanfurnishing.net/products/5a-rio: 404 Client Error: Not Found for url: https://urbanfurnishing.net/products/5a-rio\n",
            "Finished processing link 36\n",
            "Successfully saved https://vancouverwoodworks.com/products/aamerica-wslcb5091\n"
          ]
        },
        {
          "name": "stderr",
          "output_type": "stream",
          "text": [
            "100%|██████████| 114/114 [00:06<00:00, 18.59it/s]\n"
          ]
        },
        {
          "name": "stdout",
          "output_type": "stream",
          "text": [
            "Finished processing link 37\n",
            "Successfully saved https://www.kannoa.com/products/lipa-barstool\n"
          ]
        },
        {
          "name": "stderr",
          "output_type": "stream",
          "text": [
            "100%|██████████| 252/252 [00:10<00:00, 23.47it/s]\n"
          ]
        },
        {
          "name": "stdout",
          "output_type": "stream",
          "text": [
            "Finished processing link 38\n",
            "Successfully saved https://furnitureoutletnc.com/products/deluxe-full-mattress\n"
          ]
        },
        {
          "name": "stderr",
          "output_type": "stream",
          "text": [
            "100%|██████████| 6/6 [00:00<00:00, 30.43it/s]\n"
          ]
        },
        {
          "name": "stdout",
          "output_type": "stream",
          "text": [
            "Finished processing link 39\n",
            "Failed to retrieve https://www.furnituremarts.com/products/gallery-home.aspx: HTTPSConnectionPool(host='www.furnituremarts.com', port=443): Max retries exceeded with url: /products/gallery-home.aspx (Caused by SSLError(SSLCertVerificationError(1, \"[SSL: CERTIFICATE_VERIFY_FAILED] certificate verify failed: Hostname mismatch, certificate is not valid for 'www.furnituremarts.com'. (_ssl.c:1006)\")))\n",
            "Finished processing link 40\n",
            "Failed to retrieve https://osmen.com.au/products/customize-cushion: 404 Client Error: Not Found for url: https://osmen.com.au/products/customize-cushion\n",
            "Finished processing link 41\n",
            "Failed to retrieve https://www.stevenshellliving.com/products/piccolo-jug: 404 Client Error: Not Found for url: https://stevenshellliving.com/products/piccolo-jug\n",
            "Finished processing link 42\n",
            "Successfully saved https://www.thefurnituremegastore.co.uk/products/noir-80x180-cm-wall-mirror\n"
          ]
        },
        {
          "name": "stderr",
          "output_type": "stream",
          "text": [
            "100%|██████████| 426/426 [00:23<00:00, 18.03it/s]\n"
          ]
        },
        {
          "name": "stdout",
          "output_type": "stream",
          "text": [
            "Finished processing link 43\n",
            "Failed to retrieve https://contempoconcepts.com/products/winndom-berkeley-iii?_pos=1&_sid=362e09ca2&_ss=r: 404 Client Error: Not Found for url: https://contempoconcepts.com/products/winndom-berkeley-iii?_pos=1&_sid=362e09ca2&_ss=r\n",
            "Finished processing link 44\n",
            "Successfully saved https://eurolivingfurniture.com/products/746-writing-desk\n"
          ]
        },
        {
          "name": "stderr",
          "output_type": "stream",
          "text": [
            "100%|██████████| 807/807 [00:52<00:00, 15.36it/s]\n"
          ]
        },
        {
          "name": "stdout",
          "output_type": "stream",
          "text": [
            "Finished processing link 45\n",
            "Successfully saved https://www.efurnitureny.com/products/wardrobes-and-closets/wardrobe-closet-and-armoires\n"
          ]
        },
        {
          "name": "stderr",
          "output_type": "stream",
          "text": [
            "100%|██████████| 211/211 [00:11<00:00, 18.18it/s]\n"
          ]
        },
        {
          "name": "stdout",
          "output_type": "stream",
          "text": [
            "Finished processing link 46\n",
            "Failed to retrieve https://sarahellison.com.au/collections/all/products/muse: 404 Client Error: Not Found for url: https://ellisonstudios.com/collections/all/products/muse\n",
            "Finished processing link 47\n",
            "Failed to retrieve https://oakspecialists.com/products/bedroom/beds/63/: 404 Client Error: Not Found for url: https://www.oakspecialists.com/products/bedroom/beds/63/\n",
            "Finished processing link 48\n",
            "Failed to retrieve https://midinmod.com/products/vendetta-bookcase%20via%20@https://twitter.com/midinmod?lang=en: 404 Client Error: Not Found for url: https://midinmod.com/products/vendetta-bookcase%20via%20@https://twitter.com/midinmod?lang=en\n",
            "Finished processing link 49\n",
            "Failed to retrieve https://www.unclaimed-furniture.com/products/Standard-Furniture/stand/11406.html: 404 Client Error: Not Found for url: https://www.unclaimed-furniture.com/products/Standard-Furniture/stand/11406.html\n",
            "Finished processing link 50\n",
            "Failed to retrieve http://www.kis-lv.com/Products/products.html: HTTPConnectionPool(host='www.kis-lv.com', port=80): Max retries exceeded with url: /Products/products.html (Caused by NameResolutionError(\"<urllib3.connection.HTTPConnection object at 0x00000226A79F6CD0>: Failed to resolve 'www.kis-lv.com' ([Errno 11001] getaddrinfo failed)\"))\n",
            "Finished processing link 51\n",
            "Failed to retrieve https://wayborn.com/products/: 404 Client Error: Not Found for url: https://wayborn.com/products/\n",
            "Finished processing link 52\n",
            "Failed to retrieve https://www.bovafurniture.com/products/office/desks/page/2/: 404 Client Error: Not Found for url: https://www.bovafurniture.com/products/office/desks/page/2/\n",
            "Finished processing link 53\n",
            "Successfully saved https://hauslondon.com/products/gift-card\n"
          ]
        },
        {
          "name": "stderr",
          "output_type": "stream",
          "text": [
            "100%|██████████| 120/120 [00:05<00:00, 22.34it/s]\n"
          ]
        },
        {
          "name": "stdout",
          "output_type": "stream",
          "text": [
            "Finished processing link 54\n",
            "Successfully saved https://allworldfurniture.com/products/sallie-stool&via=http://www.twitter.com/alworldfurnitur&text=Euro%20Style%20Sallie%20Accent%20Stool\n"
          ]
        },
        {
          "name": "stderr",
          "output_type": "stream",
          "text": [
            "100%|██████████| 47/47 [00:02<00:00, 16.30it/s]\n"
          ]
        },
        {
          "name": "stdout",
          "output_type": "stream",
          "text": [
            "Finished processing link 55\n",
            "Successfully saved https://decorium.us/products/costa-adjustable-barstool\n"
          ]
        },
        {
          "name": "stderr",
          "output_type": "stream",
          "text": [
            "100%|██████████| 289/289 [00:10<00:00, 26.56it/s]\n"
          ]
        },
        {
          "name": "stdout",
          "output_type": "stream",
          "text": [
            "Finished processing link 56\n",
            "Successfully saved https://www.softsquare.com/collections/usm-haller/products/usm-haller-media-o1\n"
          ]
        },
        {
          "name": "stderr",
          "output_type": "stream",
          "text": [
            "100%|██████████| 206/206 [00:10<00:00, 20.53it/s]\n"
          ]
        },
        {
          "name": "stdout",
          "output_type": "stream",
          "text": [
            "Finished processing link 57\n",
            "Failed to retrieve https://www.rockymountain.furniture/products/jofran/15003.html: 404 Client Error: Not Found for url: https://www.rockymountain.furniture/products/jofran/15003.html\n",
            "Finished processing link 58\n",
            "Successfully saved https://www.statewidefurniture.com/products/Ashley-Furniture/ashley/1010494.html\n"
          ]
        },
        {
          "name": "stderr",
          "output_type": "stream",
          "text": [
            "100%|██████████| 232/232 [00:10<00:00, 21.55it/s]\n"
          ]
        },
        {
          "name": "stdout",
          "output_type": "stream",
          "text": [
            "Finished processing link 59\n",
            "Failed to retrieve https://huckandpeck.com/products/gift-card: 404 Client Error: Not Found for url: https://huckandpeck.com/products/gift-card\n",
            "Finished processing link 60\n",
            "Successfully saved https://najarianfurniture.com/products/roma-sofa-pebble\n"
          ]
        },
        {
          "name": "stderr",
          "output_type": "stream",
          "text": [
            "100%|██████████| 357/357 [00:15<00:00, 23.53it/s]\n"
          ]
        },
        {
          "name": "stdout",
          "output_type": "stream",
          "text": [
            "Finished processing link 61\n",
            "Successfully saved https://qualitywoods.com/products/qw-amish-mckee-6pc-dining-set?variant=31793708105810\n"
          ]
        },
        {
          "name": "stderr",
          "output_type": "stream",
          "text": [
            "100%|██████████| 588/588 [00:31<00:00, 18.68it/s]\n"
          ]
        },
        {
          "name": "stdout",
          "output_type": "stream",
          "text": [
            "Finished processing link 62\n",
            "Successfully saved https://mybossfurniture.com/products/tullis-2&via=&text=Tullis%20Cream/Navy/Gray%20Medium%20Rug\n"
          ]
        },
        {
          "name": "stderr",
          "output_type": "stream",
          "text": [
            "100%|██████████| 2/2 [00:00<00:00, 16.99it/s]"
          ]
        },
        {
          "name": "stdout",
          "output_type": "stream",
          "text": [
            "Finished processing link 63\n"
          ]
        },
        {
          "name": "stderr",
          "output_type": "stream",
          "text": [
            "\n"
          ]
        },
        {
          "name": "stdout",
          "output_type": "stream",
          "text": [
            "Failed to retrieve https://www.furnish123quadcities.com/search/products/?s=36505: HTTPSConnectionPool(host='www.furnish123quadcities.com', port=443): Max retries exceeded with url: /search/products/?s=36505 (Caused by SSLError(SSLError(1, '[SSL: TLSV1_ALERT_INTERNAL_ERROR] tlsv1 alert internal error (_ssl.c:1006)')))\n",
            "Finished processing link 64\n",
            "Successfully saved https://americanbackyard.com/products/gift-card\n"
          ]
        },
        {
          "name": "stderr",
          "output_type": "stream",
          "text": [
            "100%|██████████| 347/347 [00:15<00:00, 22.40it/s]\n"
          ]
        },
        {
          "name": "stdout",
          "output_type": "stream",
          "text": [
            "Finished processing link 65\n",
            "Failed to retrieve https://www.roccityfurniture.com/products/abney-4pc-set/: 404 Client Error: Not Found for url: https://www.roccityfurniture.com:443/products/abney-4pc-set\n",
            "Finished processing link 66\n",
            "Failed to retrieve https://www.sutherlandfurniture.com/collections/quick-ship/products/franck-sofa-quickship: 404 Client Error: Not Found for url: https://www.sutherlandfurniture.com/collections/quick-ship/products/franck-sofa-quickship\n",
            "Finished processing link 67\n",
            "Successfully saved https://craftassociatesfurniture.com/products/craft-associates-wool-lounge-chairs-1519\n"
          ]
        },
        {
          "name": "stderr",
          "output_type": "stream",
          "text": [
            "100%|██████████| 148/148 [00:05<00:00, 25.09it/s]\n"
          ]
        },
        {
          "name": "stdout",
          "output_type": "stream",
          "text": [
            "Finished processing link 68\n",
            "Successfully saved https://huset-shop.com/products/gift-card\n"
          ]
        },
        {
          "name": "stderr",
          "output_type": "stream",
          "text": [
            "100%|██████████| 157/157 [00:05<00:00, 29.00it/s]\n"
          ]
        },
        {
          "name": "stdout",
          "output_type": "stream",
          "text": [
            "Finished processing link 69\n",
            "Successfully saved https://www.scotmeachamwoodhome.com/products/hodges-tweed\n"
          ]
        },
        {
          "name": "stderr",
          "output_type": "stream",
          "text": [
            "100%|██████████| 56/56 [00:02<00:00, 24.50it/s]\n"
          ]
        },
        {
          "name": "stdout",
          "output_type": "stream",
          "text": [
            "Finished processing link 70\n",
            "Successfully saved https://www.espasso.com/products/tearsheet/1815\n"
          ]
        },
        {
          "name": "stderr",
          "output_type": "stream",
          "text": [
            "100%|██████████| 219/219 [00:08<00:00, 25.99it/s]\n"
          ]
        },
        {
          "name": "stdout",
          "output_type": "stream",
          "text": [
            "Finished processing link 71\n",
            "Successfully saved https://sika-design.com/products/belladonna-nature\n"
          ]
        },
        {
          "name": "stderr",
          "output_type": "stream",
          "text": [
            "100%|██████████| 442/442 [00:18<00:00, 24.39it/s]\n"
          ]
        },
        {
          "name": "stdout",
          "output_type": "stream",
          "text": [
            "Finished processing link 72\n",
            "Failed to retrieve https://www.dimshome.com/products/eave-desk: HTTPSConnectionPool(host='www.dimshome.com', port=443): Max retries exceeded with url: /products/eave-desk (Caused by SSLError(SSLCertVerificationError(1, '[SSL: CERTIFICATE_VERIFY_FAILED] certificate verify failed: certificate has expired (_ssl.c:1006)')))\n",
            "Finished processing link 73\n",
            "Successfully saved https://thebellacottage.com/products/barrel-bar\n"
          ]
        },
        {
          "name": "stderr",
          "output_type": "stream",
          "text": [
            "100%|██████████| 238/238 [00:19<00:00, 12.34it/s]\n"
          ]
        },
        {
          "name": "stdout",
          "output_type": "stream",
          "text": [
            "Finished processing link 74\n",
            "Successfully saved https://www.skandium.com/products/ch24-soft\n"
          ]
        },
        {
          "name": "stderr",
          "output_type": "stream",
          "text": [
            "100%|██████████| 145/145 [00:05<00:00, 25.13it/s]\n"
          ]
        },
        {
          "name": "stdout",
          "output_type": "stream",
          "text": [
            "Finished processing link 75\n",
            "Failed to retrieve https://www.woodwaves.com/products/gray-floating-tv-stand-entertainment-center-eco-geo-lakewood: 404 Client Error: Not Found for url: https://www.woodwaves.com/products/gray-floating-tv-stand-entertainment-center-eco-geo-lakewood\n",
            "Finished processing link 76\n",
            "Failed to retrieve https://sjotime.com/products/notch-desk: 404 Client Error: Not Found for url: https://sjotime.com/products/notch-desk\n",
            "Finished processing link 77\n",
            "Successfully saved https://www.puji.com/www.puji.com/products/urban-industrial-bistro-dining-table\n"
          ]
        },
        {
          "name": "stderr",
          "output_type": "stream",
          "text": [
            "100%|██████████| 3/3 [00:00<00:00, 15.66it/s]\n"
          ]
        },
        {
          "name": "stdout",
          "output_type": "stream",
          "text": [
            "Finished processing link 78\n",
            "Failed to retrieve https://littlepartners.com/products/bentwood: 404 Client Error: Not Found for url: https://littlepartners.com/products/bentwood\n",
            "Finished processing link 79\n",
            "Successfully saved https://jeremiahcollection.com/products/record-storage-console\n"
          ]
        },
        {
          "name": "stderr",
          "output_type": "stream",
          "text": [
            "100%|██████████| 56/56 [00:02<00:00, 22.76it/s]\n"
          ]
        },
        {
          "name": "stdout",
          "output_type": "stream",
          "text": [
            "Finished processing link 80\n",
            "Failed to retrieve https://www.shoptorious.com/products/nova-domus-jagger-modern-dark-grey-walnut-bedroom-set: 404 Client Error: Not Found for url: https://www.shoptorious.com/products/nova-domus-jagger-modern-dark-grey-walnut-bedroom-set\n",
            "Finished processing link 81\n",
            "Successfully saved https://thefinestore.com/products/gift-card\n"
          ]
        },
        {
          "name": "stderr",
          "output_type": "stream",
          "text": [
            "100%|██████████| 1803/1803 [01:19<00:00, 22.75it/s]\n"
          ]
        },
        {
          "name": "stdout",
          "output_type": "stream",
          "text": [
            "Finished processing link 82\n",
            "Successfully saved http://oot-oot.com/products/\n"
          ]
        },
        {
          "name": "stderr",
          "output_type": "stream",
          "text": [
            "100%|██████████| 507/507 [00:55<00:00,  9.20it/s]\n"
          ]
        },
        {
          "name": "stdout",
          "output_type": "stream",
          "text": [
            "Finished processing link 83\n",
            "Successfully saved https://lorfords.com/collections/the-armchair-collection/products/the-bayswater-armchair\n"
          ]
        },
        {
          "name": "stderr",
          "output_type": "stream",
          "text": [
            "100%|██████████| 120/120 [00:06<00:00, 19.98it/s]\n"
          ]
        },
        {
          "name": "stdout",
          "output_type": "stream",
          "text": [
            "Finished processing link 84\n",
            "Failed to retrieve https://www.arighibianchi.co.uk/collections/new-in-homepage/products/birds-coat-rack: 404 Client Error: Not Found for url: https://www.arighibianchi.co.uk/collections/new-in-homepage/products/birds-coat-rack\n",
            "Finished processing link 85\n",
            "Failed to retrieve https://idlehands.design/products/page/2/: 404 Client Error: Not Found for url: https://idlehands.design/products/page/2/\n",
            "Finished processing link 86\n",
            "Failed to retrieve https://www.diyfurniturestore.com/products/inside-out: HTTPSConnectionPool(host='www.diyfurniturestore.com', port=443): Max retries exceeded with url: /products/inside-out (Caused by SSLError(SSLError(1, '[SSL: SSLV3_ALERT_HANDSHAKE_FAILURE] sslv3 alert handshake failure (_ssl.c:1006)')))\n",
            "Finished processing link 87\n",
            "Successfully saved https://pastperfect.sg/products/\n"
          ]
        },
        {
          "name": "stderr",
          "output_type": "stream",
          "text": [
            "100%|██████████| 116/116 [00:09<00:00, 12.59it/s]\n"
          ]
        },
        {
          "name": "stdout",
          "output_type": "stream",
          "text": [
            "Finished processing link 88\n",
            "Failed to retrieve https://bastilleandsons.com.au/products/ottoman-leo: HTTPSConnectionPool(host='bastilleandsons.com.au', port=443): Max retries exceeded with url: /products/ottoman-leo (Caused by NameResolutionError(\"<urllib3.connection.HTTPSConnection object at 0x00000226A2787010>: Failed to resolve 'bastilleandsons.com.au' ([Errno 11001] getaddrinfo failed)\"))\n",
            "Finished processing link 89\n",
            "Successfully saved https://classicwithatwist.com.au/products/1900-bench\n"
          ]
        },
        {
          "name": "stderr",
          "output_type": "stream",
          "text": [
            "100%|██████████| 365/365 [00:18<00:00, 19.40it/s]\n"
          ]
        },
        {
          "name": "stdout",
          "output_type": "stream",
          "text": [
            "Finished processing link 90\n",
            "Failed to retrieve https://apato.com.au/products/work/kobo-st-desk/: 404 Client Error: Not Found for url: https://apato.com.au/products/work/kobo-st-desk/\n",
            "Finished processing link 91\n",
            "Failed to retrieve https://thewoodroom.com.au/products/take-me-back: 404 Client Error: Not Found for url: https://thewoodroom.com.au/products/take-me-back\n",
            "Finished processing link 92\n",
            "Successfully saved https://thebanyantree.com.au/products/gift-card\n"
          ]
        },
        {
          "name": "stderr",
          "output_type": "stream",
          "text": [
            "100%|██████████| 290/290 [00:13<00:00, 21.97it/s]\n"
          ]
        },
        {
          "name": "stdout",
          "output_type": "stream",
          "text": [
            "Finished processing link 93\n",
            "Failed to retrieve https://ardoutdoor.com/products/: 520 Server Error:  for url: https://ardoutdoor.com/products/\n",
            "Finished processing link 94\n",
            "Successfully saved https://hauserstores.com/products/mesa-sofa?view=product-alt\n"
          ]
        },
        {
          "name": "stderr",
          "output_type": "stream",
          "text": [
            "100%|██████████| 19/19 [00:01<00:00, 17.88it/s]\n"
          ]
        },
        {
          "name": "stdout",
          "output_type": "stream",
          "text": [
            "Finished processing link 95\n",
            "Successfully saved https://boahaus.com/products/boahaus-urban-dressing-table\n"
          ]
        },
        {
          "name": "stderr",
          "output_type": "stream",
          "text": [
            "100%|██████████| 179/179 [00:08<00:00, 21.70it/s]\n"
          ]
        },
        {
          "name": "stdout",
          "output_type": "stream",
          "text": [
            "Finished processing link 96\n",
            "Failed to retrieve https://tabularasa-furniture.com/collections/frontpage/products/ohmm-fiesta: 403 Client Error: Forbidden for url: https://tabularasa-furniture.com/collections/frontpage/products/ohmm-fiesta\n",
            "Finished processing link 97\n",
            "Successfully saved https://livingbydesign.net.au/products/sorensen-teak-bench-seat-dining\n"
          ]
        },
        {
          "name": "stderr",
          "output_type": "stream",
          "text": [
            "100%|██████████| 780/780 [00:36<00:00, 21.66it/s]\n"
          ]
        },
        {
          "name": "stdout",
          "output_type": "stream",
          "text": [
            "Finished processing link 98\n",
            "Successfully saved https://www.living-home.co.uk/products/58-07-valencia-side-table\n"
          ]
        },
        {
          "name": "stderr",
          "output_type": "stream",
          "text": [
            "100%|██████████| 112/112 [00:04<00:00, 25.13it/s]\n"
          ]
        },
        {
          "name": "stdout",
          "output_type": "stream",
          "text": [
            "Finished processing link 99\n",
            "Successfully saved https://relm.com.au/products/\n"
          ]
        },
        {
          "name": "stderr",
          "output_type": "stream",
          "text": [
            "100%|██████████| 37/37 [00:01<00:00, 24.56it/s]\n"
          ]
        },
        {
          "name": "stdout",
          "output_type": "stream",
          "text": [
            "Finished processing link 100\n",
            "Successfully saved https://www.harpersproject.com/products/marble-stool\n",
            "Finished processing link 101\n",
            "Failed to retrieve https://www.morningstartrading.ca/pages/products/recycled-treasures-consignment-pieces/hidden-treasure: 404 Client Error: Not Found for url: https://www.morningstartrading.ca/pages/products/recycled-treasures-consignment-pieces/hidden-treasure\n",
            "Finished processing link 102\n",
            "Successfully saved https://www.bellus.com/products/\n"
          ]
        },
        {
          "name": "stderr",
          "output_type": "stream",
          "text": [
            "100%|██████████| 563/563 [00:23<00:00, 24.17it/s]\n"
          ]
        },
        {
          "name": "stdout",
          "output_type": "stream",
          "text": [
            "Finished processing link 103\n",
            "Failed to retrieve https://www.hatihome.com/products/lounge-cane: 404 Client Error: Not Found for url: https://www.hatihome.com/products/lounge-cane\n",
            "Finished processing link 104\n",
            "Failed to retrieve https://www.meta44.com/products/homeland: HTTPSConnectionPool(host='www.meta44.com', port=443): Max retries exceeded with url: /products/homeland (Caused by NewConnectionError('<urllib3.connection.HTTPSConnection object at 0x00000226A1859A50>: Failed to establish a new connection: [WinError 10061] No connection could be made because the target machine actively refused it'))\n",
            "Finished processing link 105\n",
            "Successfully saved https://modernkomfort.ca/products/glen\n"
          ]
        },
        {
          "name": "stderr",
          "output_type": "stream",
          "text": [
            "100%|██████████| 702/702 [00:37<00:00, 18.85it/s]\n"
          ]
        },
        {
          "name": "stdout",
          "output_type": "stream",
          "text": [
            "Finished processing link 106\n",
            "Successfully saved https://www.aarniooriginals.com/collections/shop/products/pony\n"
          ]
        },
        {
          "name": "stderr",
          "output_type": "stream",
          "text": [
            "100%|██████████| 99/99 [00:05<00:00, 18.42it/s]\n"
          ]
        },
        {
          "name": "stdout",
          "output_type": "stream",
          "text": [
            "Finished processing link 107\n",
            "Successfully saved https://chansfurniture.com/products/copy-of-42-tennant-brand-modern-style-beatrice-bathroom-sink-vanity-tb-9433-v42-wenge-color\n"
          ]
        },
        {
          "name": "stderr",
          "output_type": "stream",
          "text": [
            "100%|██████████| 252/252 [00:12<00:00, 20.38it/s]\n"
          ]
        },
        {
          "name": "stdout",
          "output_type": "stream",
          "text": [
            "Finished processing link 108\n",
            "Failed to retrieve https://alasaw.com/products/sample-box: 404 Client Error: Not Found for url: https://alasaw.com/products/sample-box\n",
            "Finished processing link 109\n",
            "Successfully saved https://hedgehousefurniture.com/products/windsor-bed\n"
          ]
        },
        {
          "name": "stderr",
          "output_type": "stream",
          "text": [
            "100%|██████████| 108/108 [00:05<00:00, 19.05it/s]\n"
          ]
        },
        {
          "name": "stdout",
          "output_type": "stream",
          "text": [
            "Finished processing link 110\n",
            "Failed to retrieve http://www.mountainteak.com/products/designer-teak-furniture/: 404 Client Error: Not Found for url: http://www.mountainteak.com/products/designer-teak-furniture/\n",
            "Finished processing link 111\n",
            "Failed to retrieve https://www.lestudiolum.com/us/products/textiles/throws/: 404 Client Error: Not Found for url: https://www.lestudiolum.com/us/products/textiles/throws/\n",
            "Finished processing link 112\n",
            "Failed to retrieve https://www.ameriwoodhome.com/Products/Storage/All/: 404 Client Error: Not Found for url: https://www.ameriwoodhome.com/Products/Storage/All/\n",
            "Finished processing link 113\n",
            "Failed to retrieve https://www.homeandstyle.com.sg/products/richmond-sofa-grey: 404 Client Error: Not Found for url: https://www.homeandstyle.com.sg/products/richmond-sofa-grey\n",
            "Finished processing link 114\n",
            "Successfully saved https://shop.vanillawood.com/products/plume-wallpaper\n"
          ]
        },
        {
          "name": "stderr",
          "output_type": "stream",
          "text": [
            "100%|██████████| 49/49 [00:02<00:00, 20.40it/s]\n"
          ]
        },
        {
          "name": "stdout",
          "output_type": "stream",
          "text": [
            "Finished processing link 115\n",
            "Successfully saved http://modliving.com.ph/products/\n"
          ]
        },
        {
          "name": "stderr",
          "output_type": "stream",
          "text": [
            "100%|██████████| 50/50 [00:03<00:00, 12.50it/s]\n"
          ]
        },
        {
          "name": "stdout",
          "output_type": "stream",
          "text": [
            "Finished processing link 116\n",
            "Failed to retrieve https://curiocavern.ph/products/cow-skull: HTTPSConnectionPool(host='curiocavern.ph', port=443): Max retries exceeded with url: /products/cow-skull (Caused by SSLError(SSLCertVerificationError(1, \"[SSL: CERTIFICATE_VERIFY_FAILED] certificate verify failed: Hostname mismatch, certificate is not valid for 'curiocavern.ph'. (_ssl.c:1006)\")))\n",
            "Finished processing link 117\n",
            "Failed to retrieve https://www.mossmanilahome.com/products/: HTTPSConnectionPool(host='www.mossmanilahome.com', port=443): Max retries exceeded with url: /products/ (Caused by NameResolutionError(\"<urllib3.connection.HTTPSConnection object at 0x000002269EC757D0>: Failed to resolve 'www.mossmanilahome.com' ([Errno 11001] getaddrinfo failed)\"))\n",
            "Finished processing link 118\n",
            "Successfully saved https://oakforless.com/products/gift-card\n"
          ]
        },
        {
          "name": "stderr",
          "output_type": "stream",
          "text": [
            "100%|██████████| 512/512 [00:27<00:00, 18.34it/s]\n"
          ]
        },
        {
          "name": "stdout",
          "output_type": "stream",
          "text": [
            "Finished processing link 119\n",
            "Successfully saved https://www.castlery.com/products/spot-shelf\n"
          ]
        },
        {
          "name": "stderr",
          "output_type": "stream",
          "text": [
            "100%|██████████| 7/7 [00:00<00:00, 15.61it/s]\n"
          ]
        },
        {
          "name": "stdout",
          "output_type": "stream",
          "text": [
            "Finished processing link 120\n",
            "Failed to retrieve https://www.getmycouch.com/collections/sofa/products/sofa-sectional-bed-fn-gmc-008237: 404 Client Error: Not Found for url: https://www.getmycouch.com/collections/sofa/products/sofa-sectional-bed-fn-gmc-008237\n",
            "Finished processing link 121\n",
            "Failed to retrieve https://www.castlery.com.au/products/mico-stool?quantity=1: 404 Client Error: Not Found for url: https://www.castlery.com/au/products/mico-stool?quantity=1\n",
            "Finished processing link 122\n",
            "Successfully saved https://homestreethome.ie/products/zinc-tray\n"
          ]
        },
        {
          "name": "stderr",
          "output_type": "stream",
          "text": [
            "100%|██████████| 982/982 [00:45<00:00, 21.56it/s]\n"
          ]
        },
        {
          "name": "stdout",
          "output_type": "stream",
          "text": [
            "Finished processing link 123\n",
            "Failed to retrieve https://nazzek.myshopify.com/products/wooden-coffee-table: 402 Client Error: Payment Required for url: https://nazzek.myshopify.com/products/wooden-coffee-table\n",
            "Finished processing link 124\n",
            "Successfully saved https://www.myconcept.com.hk/products/moo\n"
          ]
        },
        {
          "name": "stderr",
          "output_type": "stream",
          "text": [
            "100%|██████████| 429/429 [00:20<00:00, 21.37it/s]\n"
          ]
        },
        {
          "name": "stdout",
          "output_type": "stream",
          "text": [
            "Finished processing link 125\n",
            "Failed to retrieve https://newforestrusticfurniture.co.uk/products/rustic-ruler-height-chart: HTTPSConnectionPool(host='newforestrusticfurniture.co.uk', port=443): Max retries exceeded with url: /products/rustic-ruler-height-chart (Caused by SSLError(SSLCertVerificationError(1, \"[SSL: CERTIFICATE_VERIFY_FAILED] certificate verify failed: Hostname mismatch, certificate is not valid for 'newforestrusticfurniture.co.uk'. (_ssl.c:1006)\")))\n",
            "Finished processing link 126\n",
            "Failed to retrieve https://www.starliving.com.sg/products/heather-armchair: 404 Client Error: Not Found for url: https://www.starliving.com.sg/products/heather-armchair\n",
            "Finished processing link 127\n",
            "Successfully saved https://vauntdesign.com/products/forna-plant-stand-small\n"
          ]
        },
        {
          "name": "stderr",
          "output_type": "stream",
          "text": [
            "100%|██████████| 106/106 [00:07<00:00, 15.05it/s]\n"
          ]
        },
        {
          "name": "stdout",
          "output_type": "stream",
          "text": [
            "Finished processing link 128\n",
            "Failed to retrieve https://www.langria.com/products/laptop-desk-cart: 404 Client Error: Not Found for url: https://langria.com/products/laptop-desk-cart\n",
            "Finished processing link 129\n",
            "Failed to retrieve https://www.kolocollection.com/collections/lounging/products/bentley-sofa-in-oyster-weave: 404 Client Error: Not Found for url: https://www.kolocollection.com/collections/lounging/products/bentley-sofa-in-oyster-weave\n",
            "Finished processing link 130\n",
            "Successfully saved https://asianteakfurniture.com/products/bali-teak-bench-atf388\n"
          ]
        },
        {
          "name": "stderr",
          "output_type": "stream",
          "text": [
            "100%|██████████| 178/178 [00:09<00:00, 19.36it/s]\n"
          ]
        },
        {
          "name": "stdout",
          "output_type": "stream",
          "text": [
            "Finished processing link 131\n",
            "Successfully saved https://furnitica-vinova.myshopify.com/products/enim-donec-pede\n"
          ]
        },
        {
          "name": "stderr",
          "output_type": "stream",
          "text": [
            "100%|██████████| 266/266 [00:14<00:00, 18.24it/s]\n"
          ]
        },
        {
          "name": "stdout",
          "output_type": "stream",
          "text": [
            "Finished processing link 132\n",
            "Failed to retrieve https://jordanshome.ca/products/blue-vase: 404 Client Error: Not Found for url: https://jordanshome.ca/products/blue-vase\n",
            "Finished processing link 133\n",
            "Failed to retrieve https://mikazahome.ca/products/page/4/: ('Connection aborted.', RemoteDisconnected('Remote end closed connection without response'))\n",
            "Finished processing link 134\n",
            "Successfully saved https://barnabylane.com.au/products/spensley-tan\n"
          ]
        },
        {
          "name": "stderr",
          "output_type": "stream",
          "text": [
            "100%|██████████| 188/188 [00:12<00:00, 14.84it/s]\n"
          ]
        },
        {
          "name": "stdout",
          "output_type": "stream",
          "text": [
            "Finished processing link 135\n",
            "Failed to retrieve https://urbangalleria.com/products/rowan-pod-swing: 404 Client Error: Not Found for url: https://urbangalleria.com/products/rowan-pod-swing\n",
            "Finished processing link 136\n",
            "Successfully saved https://www.modernfurniture.com.au/collections/on-sale/products/vision-suspended-sunbed\n"
          ]
        },
        {
          "name": "stderr",
          "output_type": "stream",
          "text": [
            "100%|██████████| 483/483 [00:23<00:00, 20.73it/s]\n"
          ]
        },
        {
          "name": "stdout",
          "output_type": "stream",
          "text": [
            "Finished processing link 137\n",
            "Failed to retrieve https://www.granitelane.com.au/products/flourish-print: 404 Client Error: Not Found for url: https://www.granitelane.com.au/products/flourish-print\n",
            "Finished processing link 138\n",
            "Successfully saved https://teak-furniture-singapore.com/products/sweden-side-table\n"
          ]
        },
        {
          "name": "stderr",
          "output_type": "stream",
          "text": [
            "100%|██████████| 82/82 [00:05<00:00, 15.87it/s]\n"
          ]
        },
        {
          "name": "stdout",
          "output_type": "stream",
          "text": [
            "Finished processing link 139\n",
            "Successfully saved https://teak-warehouse-sale.com/products/tws889lt-000-ta-lp\n"
          ]
        },
        {
          "name": "stderr",
          "output_type": "stream",
          "text": [
            "100%|██████████| 162/162 [00:10<00:00, 15.12it/s]\n"
          ]
        },
        {
          "name": "stdout",
          "output_type": "stream",
          "text": [
            "Finished processing link 140\n",
            "Failed to retrieve https://www.countrysideamishfurniture.com/products/home-entertainment-centers/all/P40: 403 Client Error: Forbidden for url: https://www.countrysideamishfurniture.com/products/home-entertainment-centers/all/P40\n",
            "Finished processing link 141\n",
            "Successfully saved https://www.modishstore.com/products/twos-company-sunburst-antiqued-gold-wall-mirror\n"
          ]
        },
        {
          "name": "stderr",
          "output_type": "stream",
          "text": [
            "100%|██████████| 879/879 [01:01<00:00, 14.19it/s]\n"
          ]
        },
        {
          "name": "stdout",
          "output_type": "stream",
          "text": [
            "Finished processing link 142\n",
            "Failed to retrieve https://www.stylemyhome.com.au/products/regency-three-drawer-chest: 404 Client Error: Not Found for url: https://www.stylemyhome.com.au/products/regency-three-drawer-chest\n",
            "Finished processing link 143\n",
            "Successfully saved https://loft-theme-demo-nashville.myshopify.com/products/black-chair\n"
          ]
        },
        {
          "name": "stderr",
          "output_type": "stream",
          "text": [
            "100%|██████████| 434/434 [00:26<00:00, 16.67it/s]\n"
          ]
        },
        {
          "name": "stdout",
          "output_type": "stream",
          "text": [
            "Finished processing link 144\n",
            "Successfully saved https://teakco.com/products/amsterdam-2-drawer-bedside-table-tek168bs-002-ta\n"
          ]
        },
        {
          "name": "stderr",
          "output_type": "stream",
          "text": [
            "100%|██████████| 260/260 [00:12<00:00, 20.15it/s]\n"
          ]
        },
        {
          "name": "stdout",
          "output_type": "stream",
          "text": [
            "Finished processing link 145\n",
            "Failed to retrieve https://www.skovby.com/en-gb/products/tv-cabinets/skovby-86: 404 Client Error: Not Found for url: https://www.skovby.com/en-gb/products/tv-cabinets/skovby-86\n",
            "Finished processing link 146\n",
            "Failed to retrieve https://boulevardoutdoorfurniture.com/products/surin-lounge-set: 404 Client Error: Not Found for url: https://boulevardoutdoorfurniture.com/products/surin-lounge-set\n",
            "Finished processing link 147\n",
            "Successfully saved https://big-sale-furniture.com/products/amsterdam-bench-150-x-35-be-150-35-ta\n"
          ]
        },
        {
          "name": "stderr",
          "output_type": "stream",
          "text": [
            "100%|██████████| 63/63 [00:02<00:00, 21.22it/s]\n"
          ]
        },
        {
          "name": "stdout",
          "output_type": "stream",
          "text": [
            "Finished processing link 148\n",
            "Successfully saved https://taktcph.com/products/\n"
          ]
        },
        {
          "name": "stderr",
          "output_type": "stream",
          "text": [
            "100%|██████████| 160/160 [00:27<00:00,  5.85it/s]\n"
          ]
        },
        {
          "name": "stdout",
          "output_type": "stream",
          "text": [
            "Finished processing link 149\n",
            "Successfully saved https://www.blackmango.com.au/products/gift-card\n"
          ]
        },
        {
          "name": "stderr",
          "output_type": "stream",
          "text": [
            "100%|██████████| 148/148 [00:07<00:00, 20.44it/s]\n"
          ]
        },
        {
          "name": "stdout",
          "output_type": "stream",
          "text": [
            "Finished processing link 150\n",
            "Failed to retrieve https://jnmhome.ca/products/kuma-artwork: ('Connection aborted.', RemoteDisconnected('Remote end closed connection without response'))\n",
            "Finished processing link 151\n",
            "Successfully saved https://candb.ca/products/10-gel-memory-foam-mattress\n"
          ]
        },
        {
          "name": "stderr",
          "output_type": "stream",
          "text": [
            "100%|██████████| 171/171 [00:09<00:00, 18.70it/s]\n"
          ]
        },
        {
          "name": "stdout",
          "output_type": "stream",
          "text": [
            "Finished processing link 152\n",
            "Failed to retrieve https://www.oopenspace.com/products/nova-3: 404 Client Error: Not Found for url: https://www.oopenspace.com/products/nova-3\n",
            "Finished processing link 153\n",
            "Failed to retrieve http://gharwakhri.com/Products/Bed-Room: 404 Client Error: Not Found for url: https://www.gharwakhri.com/Products/Bed-Room\n",
            "Finished processing link 154\n",
            "Successfully saved https://thonet.co.nz/products/all\n"
          ]
        },
        {
          "name": "stderr",
          "output_type": "stream",
          "text": [
            "100%|██████████| 213/213 [00:07<00:00, 29.77it/s]\n"
          ]
        },
        {
          "name": "stdout",
          "output_type": "stream",
          "text": [
            "Finished processing link 155\n",
            "Failed to retrieve https://www.nigbursfinefurniture.com/products/: HTTPSConnectionPool(host='www.nigbursfinefurniture.com', port=443): Max retries exceeded with url: /products/ (Caused by SSLError(SSLCertVerificationError(1, \"[SSL: CERTIFICATE_VERIFY_FAILED] certificate verify failed: Hostname mismatch, certificate is not valid for 'www.nigbursfinefurniture.com'. (_ssl.c:1006)\")))\n",
            "Finished processing link 156\n",
            "Failed to retrieve https://brownandbeam.com/products/hunts-pouf: 404 Client Error: Not Found for url: https://brownandbeam.com/products/hunts-pouf\n",
            "Finished processing link 157\n",
            "Failed to retrieve https://furniturestoresalemoregon.com/products/amish-furniture/style-your-own-syo/: 404 Client Error: Not Found for url: https://furniturestoresalemoregon.com/products/amish-furniture/style-your-own-syo/\n",
            "Finished processing link 158\n",
            "Successfully saved https://www.dengiloutdoorfurniture.com/products/sofa-sets/rattan-sofa-sets/\n",
            "Finished processing link 159\n",
            "Successfully saved https://taeillo.com/products/ada\n"
          ]
        },
        {
          "name": "stderr",
          "output_type": "stream",
          "text": [
            "100%|██████████| 227/227 [00:08<00:00, 27.41it/s]\n"
          ]
        },
        {
          "name": "stdout",
          "output_type": "stream",
          "text": [
            "Finished processing link 160\n",
            "Failed to retrieve https://birba.co.za/products/elkay-coffee-table-with-black-resign-line-detail: HTTPSConnectionPool(host='birba.co.za', port=443): Max retries exceeded with url: /products/elkay-coffee-table-with-black-resign-line-detail (Caused by NameResolutionError(\"<urllib3.connection.HTTPSConnection object at 0x00000226ABBD5790>: Failed to resolve 'birba.co.za' ([Errno 11001] getaddrinfo failed)\"))\n",
            "Finished processing link 161\n",
            "Failed to retrieve https://zenchair.co.za/products/galileo-backrest-for-outdoors: 404 Client Error: Not Found for url: https://www.zenchair.co.za/products/galileo-backrest-for-outdoors\n",
            "Finished processing link 162\n",
            "Successfully saved https://ubikhome.co.za/products/ada-tv-stand\n"
          ]
        },
        {
          "name": "stderr",
          "output_type": "stream",
          "text": [
            "100%|██████████| 18/18 [00:01<00:00, 16.50it/s]\n"
          ]
        },
        {
          "name": "stdout",
          "output_type": "stream",
          "text": [
            "Finished processing link 163\n",
            "Successfully saved https://vintage-etc.com/products/tabeni-coat-stand\n"
          ]
        },
        {
          "name": "stderr",
          "output_type": "stream",
          "text": [
            "100%|██████████| 120/120 [00:06<00:00, 19.93it/s]\n"
          ]
        },
        {
          "name": "stdout",
          "output_type": "stream",
          "text": [
            "Finished processing link 164\n",
            "Failed to retrieve https://www.youngath-art.com/products/free-gift-with-every-kids-bed-purchase: 404 Client Error: Not Found for url: https://www.youngath-art.com/products/free-gift-with-every-kids-bed-purchase\n",
            "Finished processing link 165\n",
            "Successfully saved https://www.hamac-shop.be/products/hamac-brasil-xxl-vert\n"
          ]
        },
        {
          "name": "stderr",
          "output_type": "stream",
          "text": [
            "100%|██████████| 82/82 [00:03<00:00, 21.46it/s]\n"
          ]
        },
        {
          "name": "stdout",
          "output_type": "stream",
          "text": [
            "Finished processing link 166\n",
            "Failed to retrieve https://www.masayacompany.com/collections/featured/products/wood-leather-ottoman: 404 Client Error: Not Found for url: https://www.masayacompany.com/collections/featured/products/wood-leather-ottoman\n",
            "Finished processing link 167\n",
            "Successfully saved https://ikonitaly.com/products/minimaproject-chieut-table\n"
          ]
        },
        {
          "name": "stderr",
          "output_type": "stream",
          "text": [
            "100%|██████████| 378/378 [00:19<00:00, 19.60it/s]\n"
          ]
        },
        {
          "name": "stdout",
          "output_type": "stream",
          "text": [
            "Finished processing link 168\n",
            "Failed to retrieve https://arkaliving.com/products/african-palm-woven-chair: 404 Client Error: Not Found for url: https://arkaliving.com/products/african-palm-woven-chair\n",
            "Finished processing link 169\n",
            "Successfully saved https://www.cmphouse.com/products/huntington%E2%84%A2-8pc-patio-sofa-and-lounge-chair-set\n"
          ]
        },
        {
          "name": "stderr",
          "output_type": "stream",
          "text": [
            "100%|██████████| 1/1 [00:00<00:00, 14.63it/s]"
          ]
        },
        {
          "name": "stdout",
          "output_type": "stream",
          "text": [
            "Finished processing link 170\n"
          ]
        },
        {
          "name": "stderr",
          "output_type": "stream",
          "text": [
            "\n"
          ]
        },
        {
          "name": "stdout",
          "output_type": "stream",
          "text": [
            "Failed to retrieve https://inliving.com/products/: HTTPSConnectionPool(host='inliving.com', port=443): Max retries exceeded with url: /products/ (Caused by SSLError(SSLEOFError(8, '[SSL: UNEXPECTED_EOF_WHILE_READING] EOF occurred in violation of protocol (_ssl.c:1006)')))\n",
            "Finished processing link 171\n",
            "Successfully saved https://www.oakvillage.co.uk/products/woburn-painted-wine-rack%20via%20@//twitter.com/oakvillage\n",
            "Finished processing link 172\n",
            "Successfully saved https://waltercox.co.uk/products/\n"
          ]
        },
        {
          "name": "stderr",
          "output_type": "stream",
          "text": [
            "100%|██████████| 153/153 [00:08<00:00, 18.78it/s]\n"
          ]
        },
        {
          "name": "stdout",
          "output_type": "stream",
          "text": [
            "Finished processing link 173\n",
            "Failed to retrieve https://davidsfurniture.com/collections/quick-ship-furniture/products/craftmaster-bang-bang-sofa: HTTPSConnectionPool(host='davidsfurniture.com', port=443): Max retries exceeded with url: /collections/quick-ship-furniture/products/craftmaster-bang-bang-sofa (Caused by SSLError(SSLCertVerificationError(1, \"[SSL: CERTIFICATE_VERIFY_FAILED] certificate verify failed: Hostname mismatch, certificate is not valid for 'davidsfurniture.com'. (_ssl.c:1006)\")))\n",
            "Finished processing link 174\n",
            "Successfully saved http://www.diamondfurniturepremier.com/products/\n",
            "Finished processing link 175\n",
            "Failed to retrieve https://www.fdxonline.com/en/en/products/chaise-lounge-by-dfn: HTTPSConnectionPool(host='www.fdxonline.com', port=443): Max retries exceeded with url: /en/en/products/chaise-lounge-by-dfn (Caused by NameResolutionError(\"<urllib3.connection.HTTPSConnection object at 0x00000226A576AC90>: Failed to resolve 'www.fdxonline.com' ([Errno 11001] getaddrinfo failed)\"))\n",
            "Finished processing link 176\n",
            "Successfully saved https://www.212concept.com/products/ikon-sofa\n"
          ]
        },
        {
          "name": "stderr",
          "output_type": "stream",
          "text": [
            "100%|██████████| 203/203 [00:10<00:00, 19.75it/s]\n"
          ]
        },
        {
          "name": "stdout",
          "output_type": "stream",
          "text": [
            "Finished processing link 177\n",
            "Failed to retrieve https://www.stacksfurniture.co.nz/products/rapaki3seatsofa-fog: 404 Client Error: Not Found for url: https://www.stacksfurniture.co.nz/products/rapaki3seatsofa-fog\n",
            "Finished processing link 178\n",
            "Successfully saved https://vintagehomeboutique.ca/products/zinolin-teak-oil\n"
          ]
        },
        {
          "name": "stderr",
          "output_type": "stream",
          "text": [
            "100%|██████████| 313/313 [00:16<00:00, 19.03it/s]\n"
          ]
        },
        {
          "name": "stdout",
          "output_type": "stream",
          "text": [
            "Finished processing link 179\n",
            "Failed to retrieve https://bydesignmodern.com/products/dining-chairs-314-080: 404 Client Error: Not Found for url: https://bydesignmodern.com/products/dining-chairs-314-080\n",
            "Finished processing link 180\n",
            "Successfully saved https://www.couchpotatocompany.com/collections/best-sellers/products/ro-armchair\n"
          ]
        },
        {
          "name": "stderr",
          "output_type": "stream",
          "text": [
            "100%|██████████| 413/413 [00:23<00:00, 17.82it/s]\n"
          ]
        },
        {
          "name": "stdout",
          "output_type": "stream",
          "text": [
            "Finished processing link 181\n",
            "Failed to retrieve https://www.bfelix.com/products/lanceros-sofa: HTTPSConnectionPool(host='www.bfelix.com', port=443): Max retries exceeded with url: /products/lanceros-sofa (Caused by SSLError(SSLError(1, '[SSL: SSLV3_ALERT_HANDSHAKE_FAILURE] sslv3 alert handshake failure (_ssl.c:1006)')))\n",
            "Finished processing link 182\n",
            "Successfully saved https://mueblesitaliano.ph/products/\n"
          ]
        },
        {
          "name": "stderr",
          "output_type": "stream",
          "text": [
            "100%|██████████| 68/68 [00:03<00:00, 19.09it/s]\n"
          ]
        },
        {
          "name": "stdout",
          "output_type": "stream",
          "text": [
            "Finished processing link 183\n",
            "Successfully saved https://www.laura-james.co.uk/products/coffee-table-corona\n"
          ]
        },
        {
          "name": "stderr",
          "output_type": "stream",
          "text": [
            "100%|██████████| 606/606 [00:32<00:00, 18.88it/s]\n"
          ]
        },
        {
          "name": "stdout",
          "output_type": "stream",
          "text": [
            "Finished processing link 184\n",
            "Successfully saved https://emesfurnishop.co.uk/products/ivo-wardrobe\n",
            "Finished processing link 185\n",
            "Successfully saved https://mossgardenhome.com/products/woodland-puzzle\n"
          ]
        },
        {
          "name": "stderr",
          "output_type": "stream",
          "text": [
            "100%|██████████| 868/868 [00:40<00:00, 21.36it/s]\n"
          ]
        },
        {
          "name": "stdout",
          "output_type": "stream",
          "text": [
            "Finished processing link 186\n",
            "Failed to retrieve https://www.amcfurniture.co.uk/products/1-6m-loui-dining-table-with-4-nicole-chairs: 404 Client Error: Not Found for url: https://www.amcfurniture.co.uk/products/1-6m-loui-dining-table-with-4-nicole-chairs\n",
            "Finished processing link 187\n",
            "Failed to retrieve https://timelessdesign.com.my/products/l-a-lcw-lounge-chair: 404 Client Error: Not Found for url: https://timelessdesign.com.my/products/l-a-lcw-lounge-chair\n",
            "Finished processing link 188\n",
            "Failed to retrieve https://atomi.shop/products/wallpaper: 404 Client Error: Not Found for url: https://atomi.shop/products/wallpaper\n",
            "Finished processing link 189\n",
            "Failed to retrieve https://www.houzzconcept.com.au/products/ino-sideboard: HTTPSConnectionPool(host='www.houzzconcept.com.au', port=443): Max retries exceeded with url: /products/ino-sideboard (Caused by NameResolutionError(\"<urllib3.connection.HTTPSConnection object at 0x00000226A2475510>: Failed to resolve 'www.houzzconcept.com.au' ([Errno 11001] getaddrinfo failed)\"))\n",
            "Finished processing link 190\n",
            "Successfully saved https://lesa.com.my/website2019/products/living/\n"
          ]
        },
        {
          "name": "stderr",
          "output_type": "stream",
          "text": [
            "100%|██████████| 18/18 [00:00<00:00, 20.81it/s]\n"
          ]
        },
        {
          "name": "stdout",
          "output_type": "stream",
          "text": [
            "Finished processing link 191\n",
            "Failed to retrieve https://kenittifurniture.com/products/tv-cabinet-mn681: HTTPSConnectionPool(host='kenittifurniture.com', port=443): Max retries exceeded with url: /products/tv-cabinet-mn681 (Caused by NameResolutionError(\"<urllib3.connection.HTTPSConnection object at 0x00000226A576E2D0>: Failed to resolve 'kenittifurniture.com' ([Errno 11001] getaddrinfo failed)\"))\n",
            "Finished processing link 192\n",
            "Failed to retrieve https://www.mfdesign.com.my/collections/sales-05/products/mf-design-sofa-3-seater-sales-05: 404 Client Error: Not Found for url: https://www.mfdesign.com.my/collections/sales-05/products/mf-design-sofa-3-seater-sales-05\n",
            "Finished processing link 193\n",
            "Successfully saved https://nyfurnitureoutlets.com/products/acme-furniture-versailles-classic-bed-king\n"
          ]
        },
        {
          "name": "stderr",
          "output_type": "stream",
          "text": [
            "100%|██████████| 305/305 [00:15<00:00, 19.52it/s]\n"
          ]
        },
        {
          "name": "stdout",
          "output_type": "stream",
          "text": [
            "Finished processing link 194\n",
            "Successfully saved https://www.mydiscountmalta.com/products/mdm-wardrobe\n"
          ]
        },
        {
          "name": "stderr",
          "output_type": "stream",
          "text": [
            "100%|██████████| 156/156 [00:08<00:00, 18.85it/s]\n"
          ]
        },
        {
          "name": "stdout",
          "output_type": "stream",
          "text": [
            "Finished processing link 195\n",
            "Successfully saved http://www.muuduufurniture.com/products/frame-material/wood/\n"
          ]
        },
        {
          "name": "stderr",
          "output_type": "stream",
          "text": [
            "100%|██████████| 362/362 [00:23<00:00, 15.58it/s]\n"
          ]
        },
        {
          "name": "stdout",
          "output_type": "stream",
          "text": [
            "Finished processing link 196\n",
            "Successfully saved https://ifurnituresupply.com/products/spray-adhesive\n"
          ]
        },
        {
          "name": "stderr",
          "output_type": "stream",
          "text": [
            "100%|██████████| 29/29 [00:01<00:00, 23.67it/s]\n"
          ]
        },
        {
          "name": "stdout",
          "output_type": "stream",
          "text": [
            "Finished processing link 197\n",
            "Successfully saved https://lazysusansusa.com/products/ls-16-myr-16-inches-in-diameter\n"
          ]
        },
        {
          "name": "stderr",
          "output_type": "stream",
          "text": [
            "100%|██████████| 54/54 [00:03<00:00, 15.29it/s]\n"
          ]
        },
        {
          "name": "stdout",
          "output_type": "stream",
          "text": [
            "Finished processing link 198\n",
            "Failed to retrieve https://www.pacificlifestyledecor.com/products/outdoor-patio-pool-and-garden-wicker-storage-box: HTTPSConnectionPool(host='www.pacificlifestyledecor.com', port=443): Max retries exceeded with url: /products/outdoor-patio-pool-and-garden-wicker-storage-box (Caused by NameResolutionError(\"<urllib3.connection.HTTPSConnection object at 0x00000226A5FAD310>: Failed to resolve 'www.pacificlifestyledecor.com' ([Errno 11001] getaddrinfo failed)\"))\n",
            "Finished processing link 199\n",
            "Successfully saved https://www.willowcreekteak.com/products/8pc-venice\n"
          ]
        },
        {
          "name": "stderr",
          "output_type": "stream",
          "text": [
            "100%|██████████| 171/171 [00:08<00:00, 20.02it/s]\n"
          ]
        },
        {
          "name": "stdout",
          "output_type": "stream",
          "text": [
            "Finished processing link 200\n",
            "Successfully saved https://www.furnitureworldsaskatoon.com/products/\n"
          ]
        },
        {
          "name": "stderr",
          "output_type": "stream",
          "text": [
            "100%|██████████| 215/215 [00:11<00:00, 18.28it/s]\n"
          ]
        },
        {
          "name": "stdout",
          "output_type": "stream",
          "text": [
            "Finished processing link 201\n",
            "Successfully saved https://hklivingusa.com/products/marble-terrazzo-board-multi-color\n"
          ]
        },
        {
          "name": "stderr",
          "output_type": "stream",
          "text": [
            "100%|██████████| 173/173 [00:09<00:00, 18.91it/s]\n"
          ]
        },
        {
          "name": "stdout",
          "output_type": "stream",
          "text": [
            "Finished processing link 202\n",
            "Successfully saved https://foxwoodmerchants.com/products/v-table-need-info\n",
            "Finished processing link 203\n",
            "Successfully saved https://scenicdecor.ca/products/grasshopper-storage-bin\n"
          ]
        },
        {
          "name": "stderr",
          "output_type": "stream",
          "text": [
            "100%|██████████| 92/92 [00:05<00:00, 15.64it/s]\n"
          ]
        },
        {
          "name": "stdout",
          "output_type": "stream",
          "text": [
            "Finished processing link 204\n",
            "Failed to retrieve https://rusticcraft.ca/products/rocking-chair: HTTPSConnectionPool(host='rusticcraft.ca', port=443): Max retries exceeded with url: /products/rocking-chair (Caused by SSLError(SSLCertVerificationError(1, \"[SSL: CERTIFICATE_VERIFY_FAILED] certificate verify failed: Hostname mismatch, certificate is not valid for 'rusticcraft.ca'. (_ssl.c:1006)\")))\n",
            "Finished processing link 205\n",
            "Failed to retrieve https://rusteak.com/products/sofa: 404 Client Error: Not Found for url: https://www.rusteakwinebar.com/products/sofa\n",
            "Finished processing link 206\n",
            "Failed to retrieve https://www.ambersfurniture.com/products/win-table: 404 Client Error: Not Found for url: https://www.ambersfurniture.com/products/win-table\n",
            "Finished processing link 207\n",
            "Failed to retrieve https://fredericksgallery.ca/collections/bars/products/sonoma-695-064: 404 Client Error: Not Found for url: https://fredericksgallery.ca/collections/bars/products/sonoma-695-064\n",
            "Finished processing link 208\n",
            "Successfully saved https://www.18karatstore.com/collections/new/products/argea\n"
          ]
        },
        {
          "name": "stderr",
          "output_type": "stream",
          "text": [
            "100%|██████████| 70/70 [00:02<00:00, 25.99it/s]\n"
          ]
        },
        {
          "name": "stdout",
          "output_type": "stream",
          "text": [
            "Finished processing link 209\n",
            "Successfully saved https://mesasilla.ca/products/\n"
          ]
        },
        {
          "name": "stderr",
          "output_type": "stream",
          "text": [
            "100%|██████████| 4/4 [00:00<00:00, 26.37it/s]"
          ]
        },
        {
          "name": "stdout",
          "output_type": "stream",
          "text": [
            "Finished processing link 210\n"
          ]
        },
        {
          "name": "stderr",
          "output_type": "stream",
          "text": [
            "\n"
          ]
        },
        {
          "name": "stdout",
          "output_type": "stream",
          "text": [
            "Failed to retrieve https://www.herashome.com/products/462: HTTPSConnectionPool(host='www.herashome.com', port=443): Max retries exceeded with url: /products/462 (Caused by SSLError(SSLCertVerificationError(1, \"[SSL: CERTIFICATE_VERIFY_FAILED] certificate verify failed: Hostname mismatch, certificate is not valid for 'www.herashome.com'. (_ssl.c:1006)\")))\n",
            "Finished processing link 211\n",
            "Failed to retrieve https://minimalandmodern.ca/products/moes-home-collection-raw-city-at-large-wp-1105-37: HTTPSConnectionPool(host='minimalandmodern.ca', port=443): Max retries exceeded with url: /products/moes-home-collection-raw-city-at-large-wp-1105-37 (Caused by NameResolutionError(\"<urllib3.connection.HTTPSConnection object at 0x00000226A766EE90>: Failed to resolve 'minimalandmodern.ca' ([Errno 11001] getaddrinfo failed)\"))\n",
            "Finished processing link 212\n",
            "Failed to retrieve https://www.equilibriumfurnishings.com/products/abby-walnut-credenza: 404 Client Error: Not Found for url: https://www.equilibriumfurnishings.com/products/abby-walnut-credenza\n",
            "Finished processing link 213\n",
            "Failed to retrieve https://htinteriors.ca/products/cross-bench: HTTPSConnectionPool(host='htinteriors.ca', port=443): Max retries exceeded with url: /products/cross-bench (Caused by NameResolutionError(\"<urllib3.connection.HTTPSConnection object at 0x00000226A76A5B50>: Failed to resolve 'htinteriors.ca' ([Errno 11001] getaddrinfo failed)\"))\n",
            "Finished processing link 214\n",
            "Failed to retrieve https://designhouse.com/products/pig-bank: 404 Client Error: Not Found for url: https://designhouse.com/products/pig-bank\n",
            "Finished processing link 215\n",
            "Failed to retrieve https://mildanmarket.com/products/bling-mirror-30: 404 Client Error: Not Found for url: https://mildanmarket.com/products/beads-mirror-30\n",
            "Finished processing link 216\n",
            "Successfully saved https://varkoa.com/products/sven-chair\n",
            "Finished processing link 217\n",
            "Successfully saved https://treaclegeorge.com/products/gift-voucher\n"
          ]
        },
        {
          "name": "stderr",
          "output_type": "stream",
          "text": [
            "100%|██████████| 9/9 [00:00<00:00, 30.27it/s]\n"
          ]
        },
        {
          "name": "stdout",
          "output_type": "stream",
          "text": [
            "Finished processing link 218\n",
            "Successfully saved http://veranda.com.au/products/#outdoor-anchor\n"
          ]
        },
        {
          "name": "stderr",
          "output_type": "stream",
          "text": [
            "100%|██████████| 251/251 [00:19<00:00, 13.20it/s]\n"
          ]
        },
        {
          "name": "stdout",
          "output_type": "stream",
          "text": [
            "Finished processing link 219\n",
            "Successfully saved https://syscomseatings.com/products/workstation-manufacturers-bangalore/tile/\n"
          ]
        },
        {
          "name": "stderr",
          "output_type": "stream",
          "text": [
            "100%|██████████| 291/291 [00:17<00:00, 16.73it/s]\n"
          ]
        },
        {
          "name": "stdout",
          "output_type": "stream",
          "text": [
            "Finished processing link 220\n",
            "Failed to retrieve https://www.50-online.com/products/wooden-house-ornament: 404 Client Error: Not Found for url: https://50-online.com/products/wooden-house-ornament\n",
            "Finished processing link 221\n",
            "Failed to retrieve http://thomsonfurnitureonline.com/products/: 404 Client Error: Not Found for url: http://thomsonfurnitureonline.com/products/\n",
            "Finished processing link 222\n",
            "Failed to retrieve http://www.bycollage.com/products/?product_tag=flux: HTTPConnectionPool(host='www.bycollage.com', port=80): Max retries exceeded with url: /products/?product_tag=flux (Caused by NameResolutionError(\"<urllib3.connection.HTTPConnection object at 0x00000226A5F32890>: Failed to resolve 'www.bycollage.com' ([Errno 11002] getaddrinfo failed)\"))\n",
            "Finished processing link 223\n",
            "Failed to retrieve https://boneinlayhome.com.au/products/bone-inlay-french-drawers-floral-grey: HTTPSConnectionPool(host='boneinlayhome.com.au', port=443): Max retries exceeded with url: /products/bone-inlay-french-drawers-floral-grey (Caused by SSLError(SSLCertVerificationError(1, \"[SSL: CERTIFICATE_VERIFY_FAILED] certificate verify failed: Hostname mismatch, certificate is not valid for 'boneinlayhome.com.au'. (_ssl.c:1006)\")))\n",
            "Finished processing link 224\n",
            "Successfully saved https://www.insaraf.com/products/solid-wood-coasters\n"
          ]
        },
        {
          "name": "stderr",
          "output_type": "stream",
          "text": [
            "100%|██████████| 483/483 [00:31<00:00, 15.41it/s]\n"
          ]
        },
        {
          "name": "stdout",
          "output_type": "stream",
          "text": [
            "Finished processing link 225\n",
            "Failed to retrieve https://homedesignstoreflorida.com/products/rebecca-bed-king-size: 404 Client Error: Not Found for url: https://homedesignstoreflorida.com/products/rebecca-bed-king-size\n",
            "Finished processing link 226\n",
            "Failed to retrieve https://www.lakkadhaara.com/products/sheesham-made-wooden-khat: 404 Client Error: Not Found for url: https://www.lakkadhaara.com/products/sheesham-made-wooden-khat\n",
            "Finished processing link 227\n",
            "Failed to retrieve https://www.kid2youth.in/products/duo-ergonomic-chair: HTTPSConnectionPool(host='www.kid2youth.in', port=443): Max retries exceeded with url: /products/duo-ergonomic-chair (Caused by NameResolutionError(\"<urllib3.connection.HTTPSConnection object at 0x00000226A2748F10>: Failed to resolve 'www.kid2youth.in' ([Errno 11001] getaddrinfo failed)\"))\n",
            "Finished processing link 228\n",
            "Successfully saved https://www.nsquarestudio.com/products/odin-bedside-table\n"
          ]
        },
        {
          "name": "stderr",
          "output_type": "stream",
          "text": [
            "100%|██████████| 82/82 [00:03<00:00, 20.88it/s]\n"
          ]
        },
        {
          "name": "stdout",
          "output_type": "stream",
          "text": [
            "Finished processing link 229\n",
            "Successfully saved https://lovenlight.eu/products/page/3/\n"
          ]
        },
        {
          "name": "stderr",
          "output_type": "stream",
          "text": [
            "100%|██████████| 172/172 [00:12<00:00, 13.31it/s]\n"
          ]
        },
        {
          "name": "stdout",
          "output_type": "stream",
          "text": [
            "Finished processing link 230\n",
            "Failed to retrieve http://www.komodromos.com.cy/products/special-offers/page/2/: 404 Client Error: Not Found for url: http://komodromos.com.cy/products/special-offers/page/2/\n",
            "Finished processing link 231\n",
            "Failed to retrieve https://bedesign.fi/products/gift-card: 404 Client Error: Not Found for url: https://bedesign.fi/products/gift-card\n",
            "Finished processing link 232\n",
            "Successfully saved https://scanteak.com.sg/products/apen-bookcase\n"
          ]
        },
        {
          "name": "stderr",
          "output_type": "stream",
          "text": [
            "100%|██████████| 103/103 [00:05<00:00, 19.13it/s]\n"
          ]
        },
        {
          "name": "stdout",
          "output_type": "stream",
          "text": [
            "Finished processing link 233\n",
            "Failed to retrieve https://www.elementsconcept.com.sg/collections/lighting/products/light-shade: HTTPSConnectionPool(host='www.elementsconcept.com.sg', port=443): Max retries exceeded with url: /collections/lighting/products/light-shade (Caused by SSLError(SSLCertVerificationError(1, \"[SSL: CERTIFICATE_VERIFY_FAILED] certificate verify failed: Hostname mismatch, certificate is not valid for 'www.elementsconcept.com.sg'. (_ssl.c:1006)\")))\n",
            "Finished processing link 234\n",
            "Successfully saved http://roomyroom.com/collections/writing-table/products/french-riviera-paris-3-drawer-desk-rmy238\n"
          ]
        },
        {
          "name": "stderr",
          "output_type": "stream",
          "text": [
            "100%|██████████| 173/173 [00:08<00:00, 20.97it/s]\n"
          ]
        },
        {
          "name": "stdout",
          "output_type": "stream",
          "text": [
            "Finished processing link 235\n",
            "Successfully saved https://www.finnavenue.com/products/carrara-round-dining-table\n"
          ]
        },
        {
          "name": "stderr",
          "output_type": "stream",
          "text": [
            "100%|██████████| 188/188 [00:07<00:00, 25.69it/s]\n"
          ]
        },
        {
          "name": "stdout",
          "output_type": "stream",
          "text": [
            "Finished processing link 236\n",
            "Failed to retrieve https://singaporetradingpost.com/products/decorative-white-carved-console: 404 Client Error: Not Found for url: https://singaporetradingpost.com/products/decorative-white-carved-console\n",
            "Finished processing link 237\n",
            "Successfully saved https://singapore-furniture-sale.com/products/naples-teak-coffee-table-40x60x100-sfs638ct-000-ta\n"
          ]
        },
        {
          "name": "stderr",
          "output_type": "stream",
          "text": [
            "100%|██████████| 136/136 [00:06<00:00, 21.70it/s]\n"
          ]
        },
        {
          "name": "stdout",
          "output_type": "stream",
          "text": [
            "Finished processing link 238\n",
            "Failed to retrieve https://www.ministryofchair.com/products/cushion-lapland: 404 Client Error: Not Found for url: https://www.ministryofchair.com/products/cushion-lapland\n",
            "Finished processing link 239\n",
            "Successfully saved https://1outdoorfurniture.com/products/asmund-outdoor-console-table-with-2-sink-set-1tf168inx-console-table-2-sink-set\n"
          ]
        },
        {
          "name": "stderr",
          "output_type": "stream",
          "text": [
            "100%|██████████| 47/47 [00:02<00:00, 19.05it/s]\n"
          ]
        },
        {
          "name": "stdout",
          "output_type": "stream",
          "text": [
            "Finished processing link 240\n",
            "Successfully saved https://wholesaleclassicfurniture.com/products/lyon-french-victorian-lamp-table-bedside-timber-bedside-table-white-wcf168bs-101-pn-wh_1\n"
          ]
        },
        {
          "name": "stderr",
          "output_type": "stream",
          "text": [
            "100%|██████████| 61/61 [00:03<00:00, 19.83it/s]\n"
          ]
        },
        {
          "name": "stdout",
          "output_type": "stream",
          "text": [
            "Finished processing link 241\n",
            "Successfully saved https://www.novena.com.sg/collections/stayhome-collection-for-immediate-delivery/products/altas-dining-set-solid-wood\n"
          ]
        },
        {
          "name": "stderr",
          "output_type": "stream",
          "text": [
            "100%|██████████| 724/724 [00:47<00:00, 15.37it/s]\n"
          ]
        },
        {
          "name": "stdout",
          "output_type": "stream",
          "text": [
            "Finished processing link 242\n",
            "Failed to retrieve https://taylorbdesign.com/products/hb-1441: HTTPSConnectionPool(host='taylorbdesign.com', port=443): Max retries exceeded with url: /products/hb-1441 (Caused by SSLError(SSLCertVerificationError(1, \"[SSL: CERTIFICATE_VERIFY_FAILED] certificate verify failed: Hostname mismatch, certificate is not valid for 'taylorbdesign.com'. (_ssl.c:1006)\")))\n",
            "Finished processing link 243\n",
            "Successfully saved https://houseofanli.com/products/gift-card\n"
          ]
        },
        {
          "name": "stderr",
          "output_type": "stream",
          "text": [
            "100%|██████████| 269/269 [00:11<00:00, 23.44it/s]\n"
          ]
        },
        {
          "name": "stdout",
          "output_type": "stream",
          "text": [
            "Finished processing link 244\n",
            "Successfully saved https://hemma.sg/products/flower-planter?_pos=1&_sid=7be5737ba&_ss=r\n"
          ]
        },
        {
          "name": "stderr",
          "output_type": "stream",
          "text": [
            "100%|██████████| 134/134 [00:07<00:00, 18.40it/s]\n"
          ]
        },
        {
          "name": "stdout",
          "output_type": "stream",
          "text": [
            "Finished processing link 245\n",
            "Successfully saved https://wholesaleteakcompany.com/collections/frontpage/products/sonoma-los-angeles-mirror-back-teak-glass-display-cabinet-wtc288dc-200-mr-pnm\n"
          ]
        },
        {
          "name": "stderr",
          "output_type": "stream",
          "text": [
            "100%|██████████| 95/95 [00:04<00:00, 19.66it/s]\n"
          ]
        },
        {
          "name": "stdout",
          "output_type": "stream",
          "text": [
            "Finished processing link 246\n",
            "Failed to retrieve https://www.bibliotek.co/collections/featured/products/bird-oak-large: HTTPSConnectionPool(host='www.bibliotek.co', port=443): Max retries exceeded with url: /collections/featured/products/bird-oak-large (Caused by SSLError(SSLCertVerificationError(1, \"[SSL: CERTIFICATE_VERIFY_FAILED] certificate verify failed: Hostname mismatch, certificate is not valid for 'www.bibliotek.co'. (_ssl.c:1006)\")))\n",
            "Finished processing link 247\n",
            "Failed to retrieve https://warehaus.sg/products/boris-chair: 404 Client Error: Not Found for url: https://warehaus.sg/products/boris-chair\n",
            "Finished processing link 248\n",
            "Failed to retrieve https://home99.sg/products/l-shape-half-leather-sofa-lp860: HTTPSConnectionPool(host='home99.sg', port=443): Max retries exceeded with url: /products/l-shape-half-leather-sofa-lp860 (Caused by NameResolutionError(\"<urllib3.connection.HTTPSConnection object at 0x00000226A266F350>: Failed to resolve 'home99.sg' ([Errno 11001] getaddrinfo failed)\"))\n",
            "Finished processing link 249\n",
            "Failed to retrieve https://hmezsofa.sg/products/marble-tray: HTTPSConnectionPool(host='hmezsofa.sg', port=443): Max retries exceeded with url: /products/marble-tray (Caused by NameResolutionError(\"<urllib3.connection.HTTPSConnection object at 0x00000226A55DEE90>: Failed to resolve 'hmezsofa.sg' ([Errno 11001] getaddrinfo failed)\"))\n",
            "Finished processing link 250\n",
            "Failed to retrieve https://www.nookandcranny.com/products/valda-sofa: 404 Client Error: Not Found for url: https://www.nookandcranny.com/products/valda-sofa\n",
            "Finished processing link 251\n",
            "Successfully saved https://www.vetrohome.com/products/dice-sofa\n"
          ]
        },
        {
          "name": "stderr",
          "output_type": "stream",
          "text": [
            "100%|██████████| 62/62 [00:02<00:00, 25.53it/s]\n"
          ]
        },
        {
          "name": "stdout",
          "output_type": "stream",
          "text": [
            "Finished processing link 252\n",
            "Failed to retrieve https://www.gowanusfurniture.com/www.gowanusfurniture.com/products/class-make-your-own-custom-cutting-board: 404 Client Error: Not Found for url: https://www.gowanusfurniture.com/www.gowanusfurniture.com/products/class-make-your-own-custom-cutting-board\n",
            "Finished processing link 253\n",
            "Failed to retrieve https://epilog.co.id/products/telephone-box: HTTPSConnectionPool(host='epilog.co.id', port=443): Max retries exceeded with url: /products/telephone-box (Caused by SSLError(SSLCertVerificationError(1, \"[SSL: CERTIFICATE_VERIFY_FAILED] certificate verify failed: Hostname mismatch, certificate is not valid for 'epilog.co.id'. (_ssl.c:1006)\")))\n",
            "Finished processing link 254\n",
            "Successfully saved https://gingerjarfurniture.com/products/page/3/\n"
          ]
        },
        {
          "name": "stderr",
          "output_type": "stream",
          "text": [
            "100%|██████████| 678/678 [00:34<00:00, 19.51it/s]\n"
          ]
        },
        {
          "name": "stdout",
          "output_type": "stream",
          "text": [
            "Finished processing link 255\n",
            "Successfully saved https://solidaustin.com/products/cooks-sofa\n"
          ]
        },
        {
          "name": "stderr",
          "output_type": "stream",
          "text": [
            "100%|██████████| 591/591 [00:27<00:00, 21.71it/s]\n"
          ]
        },
        {
          "name": "stdout",
          "output_type": "stream",
          "text": [
            "Finished processing link 256\n",
            "Successfully saved https://alteriors.ca/collections/herman-miller/products/nelson-saucer-bubble-lamp\n"
          ]
        },
        {
          "name": "stderr",
          "output_type": "stream",
          "text": [
            "100%|██████████| 250/250 [00:17<00:00, 14.06it/s]\n"
          ]
        },
        {
          "name": "stdout",
          "output_type": "stream",
          "text": [
            "Finished processing link 257\n",
            "Failed to retrieve http://www.italiafurniture.com/products/ellis-dining-collection: 404 Client Error: Not Found for url: https://italiafurniture.com/products/ellis-dining-collection\n",
            "Finished processing link 258\n",
            "Failed to retrieve https://onske.co.uk/products/gift-card: 404 Client Error: Not Found for url: https://onske.co.uk/products/gift-card\n",
            "Finished processing link 259\n",
            "Failed to retrieve https://ilrestaurato.com/products/chrome-counter-bar-stools-1970s: 404 Client Error: Not Found for url: https://ilrestaurato.com/products/chrome-counter-bar-stools-1970s\n",
            "Finished processing link 260\n",
            "Successfully saved https://www.eurohausfurniture.com/products/novaluna-parigi-platform-bed\n"
          ]
        },
        {
          "name": "stderr",
          "output_type": "stream",
          "text": [
            "100%|██████████| 98/98 [00:04<00:00, 23.41it/s]\n"
          ]
        },
        {
          "name": "stdout",
          "output_type": "stream",
          "text": [
            "Finished processing link 261\n",
            "Successfully saved https://www.ultimateliving.co.nz/products/adam\n"
          ]
        },
        {
          "name": "stderr",
          "output_type": "stream",
          "text": [
            "100%|██████████| 111/111 [00:05<00:00, 19.02it/s]\n"
          ]
        },
        {
          "name": "stdout",
          "output_type": "stream",
          "text": [
            "Finished processing link 262\n",
            "Successfully saved https://www.rimufurniture.co.nz/products/riviera-1900-hutch-2/\n"
          ]
        },
        {
          "name": "stderr",
          "output_type": "stream",
          "text": [
            "100%|██████████| 26/26 [00:01<00:00, 18.17it/s]\n"
          ]
        },
        {
          "name": "stdout",
          "output_type": "stream",
          "text": [
            "Finished processing link 263\n",
            "Successfully saved https://www.zavedo.nz/collections/wall-hooks/products/soho-hook-50\n"
          ]
        },
        {
          "name": "stderr",
          "output_type": "stream",
          "text": [
            "100%|██████████| 110/110 [00:04<00:00, 22.86it/s]\n"
          ]
        },
        {
          "name": "stdout",
          "output_type": "stream",
          "text": [
            "Finished processing link 264\n",
            "Failed to retrieve https://polini.co.nz/products/changing-table-polini-simple-1080-white: HTTPSConnectionPool(host='polini.co.nz', port=443): Max retries exceeded with url: /products/changing-table-polini-simple-1080-white (Caused by SSLError(SSLCertVerificationError(1, \"[SSL: CERTIFICATE_VERIFY_FAILED] certificate verify failed: Hostname mismatch, certificate is not valid for 'polini.co.nz'. (_ssl.c:1006)\")))\n",
            "Finished processing link 265\n",
            "Failed to retrieve https://basefurniture.co.nz/products/pegboard: HTTPSConnectionPool(host='basefurniture.co.nz', port=443): Max retries exceeded with url: /products/pegboard (Caused by NameResolutionError(\"<urllib3.connection.HTTPSConnection object at 0x00000226A19E84D0>: Failed to resolve 'basefurniture.co.nz' ([Errno 11001] getaddrinfo failed)\"))\n",
            "Finished processing link 266\n",
            "Failed to retrieve https://www.hammockshop.co.nz/products/childrens-hammock-chair: 404 Client Error: Not Found for url: https://www.hammockshop.co.nz/products/childrens-hammock-chair\n",
            "Finished processing link 267\n",
            "Failed to retrieve https://www.attichomestore.co.nz/products/maori-hand-carved-wooden-taiha: HTTPSConnectionPool(host='www.attichomestore.co.nz', port=443): Max retries exceeded with url: /products/maori-hand-carved-wooden-taiha (Caused by NameResolutionError(\"<urllib3.connection.HTTPSConnection object at 0x00000226A19EB250>: Failed to resolve 'www.attichomestore.co.nz' ([Errno 11001] getaddrinfo failed)\"))\n",
            "Finished processing link 268\n",
            "Failed to retrieve https://urban-beach.co.nz/products/sofa-mica?view=quick: HTTPSConnectionPool(host='urban-beach.co.nz', port=443): Max retries exceeded with url: /products/sofa-mica?view=quick (Caused by NameResolutionError(\"<urllib3.connection.HTTPSConnection object at 0x00000226A5FD3850>: Failed to resolve 'urban-beach.co.nz' ([Errno 11001] getaddrinfo failed)\"))\n",
            "Finished processing link 269\n",
            "Failed to retrieve https://countrylife.co.nz/commerce/products/2890977554284032/?rt=9&referral_code=page_shop_tab&ref=page_shop_tab: 404 Client Error: Not Found for url: https://countrylife.co.nz/commerce/products/2890977554284032/?rt=9&referral_code=page_shop_tab&ref=page_shop_tab\n",
            "Finished processing link 270\n",
            "Failed to retrieve https://www.jardin.co.nz/clearance/products/costa-chair-~-verbena/: 404 Client Error: Not Found for url: https://www.jardin.co.nz/clearance/products/costa-chair-~-verbena/\n",
            "Finished processing link 271\n",
            "Failed to retrieve https://www.corcovado.co.nz/products/the-corcovado-kea-sofa: 404 Client Error: Not Found for url: https://www.corcovado.co.nz/products/the-corcovado-kea-sofa\n",
            "Finished processing link 272\n",
            "Successfully saved https://www.lujo.co.nz/products/bean-bag-hook\n"
          ]
        },
        {
          "name": "stderr",
          "output_type": "stream",
          "text": [
            "100%|██████████| 225/225 [00:11<00:00, 19.67it/s]\n"
          ]
        },
        {
          "name": "stdout",
          "output_type": "stream",
          "text": [
            "Finished processing link 273\n",
            "Successfully saved https://www.lujoliving.com/products/bean-bag-hook\n"
          ]
        },
        {
          "name": "stderr",
          "output_type": "stream",
          "text": [
            "100%|██████████| 233/233 [00:11<00:00, 20.12it/s]\n"
          ]
        },
        {
          "name": "stdout",
          "output_type": "stream",
          "text": [
            "Finished processing link 274\n",
            "Failed to retrieve https://www.shopden-la.com/products/single-metal-grated-pendant-lamp-by-the-feldman-company: 404 Client Error: Not Found for url: https://www.shopden-la.com/products/single-metal-grated-pendant-lamp-by-the-feldman-company\n",
            "Finished processing link 275\n",
            "Successfully saved https://wrightsfurnitures.com/products/\n"
          ]
        },
        {
          "name": "stderr",
          "output_type": "stream",
          "text": [
            "100%|██████████| 51/51 [00:02<00:00, 23.86it/s]\n"
          ]
        },
        {
          "name": "stdout",
          "output_type": "stream",
          "text": [
            "Finished processing link 276\n",
            "Failed to retrieve https://bohovalley.com.au/products/fern-daybed: HTTPSConnectionPool(host='bohovalley.com.au', port=443): Max retries exceeded with url: /products/fern-daybed (Caused by NameResolutionError(\"<urllib3.connection.HTTPSConnection object at 0x00000226A5779650>: Failed to resolve 'bohovalley.com.au' ([Errno 11001] getaddrinfo failed)\"))\n",
            "Finished processing link 277\n",
            "Failed to retrieve https://www.lounj.com.au/products/kiki-carver-chair: HTTPSConnectionPool(host='www.lounj.com.au', port=443): Max retries exceeded with url: /products/kiki-carver-chair (Caused by NameResolutionError(\"<urllib3.connection.HTTPSConnection object at 0x00000226A589DB50>: Failed to resolve 'www.lounj.com.au' ([Errno 11001] getaddrinfo failed)\"))\n",
            "Finished processing link 278\n",
            "Failed to retrieve https://sofasandmore.co.nz/products/entertainment-unit-tv-unit: 404 Client Error: Not Found for url: https://sofasandmore.co.nz/products/entertainment-unit-tv-unit\n",
            "Finished processing link 279\n",
            "Failed to retrieve https://australianchildrensfurniture.com.au/products/modular-sectional-unit: HTTPSConnectionPool(host='australianchildrensfurniture.com.au', port=443): Max retries exceeded with url: /products/modular-sectional-unit (Caused by NameResolutionError(\"<urllib3.connection.HTTPSConnection object at 0x00000226A7895BD0>: Failed to resolve 'australianchildrensfurniture.com.au' ([Errno 11001] getaddrinfo failed)\"))\n",
            "Finished processing link 280\n",
            "Failed to retrieve https://www.bandhinidesign.com/products/norway: 404 Client Error: Not Found for url: https://www.bandhinidesign.com/products/norway\n",
            "Finished processing link 281\n",
            "Failed to retrieve https://www.case22.com.au/products/moooi-chess-table: 404 Client Error: Not Found for url: https://www.case22.com.au/products/moooi-chess-table\n",
            "Finished processing link 282\n",
            "Failed to retrieve https://www.kwikshopnship.com.au/products/rede-de-dormir-hammock: HTTPSConnectionPool(host='www.kwikshopnship.com.au', port=443): Max retries exceeded with url: /products/rede-de-dormir-hammock (Caused by SSLError(SSLError(1, '[SSL: SSLV3_ALERT_HANDSHAKE_FAILURE] sslv3 alert handshake failure (_ssl.c:1006)')))\n",
            "Finished processing link 283\n",
            "Successfully saved https://modernhomefurniture.com.au/products/albert-sofa\n"
          ]
        },
        {
          "name": "stderr",
          "output_type": "stream",
          "text": [
            "100%|██████████| 107/107 [00:05<00:00, 19.94it/s]\n"
          ]
        },
        {
          "name": "stdout",
          "output_type": "stream",
          "text": [
            "Finished processing link 284\n",
            "Failed to retrieve https://nestz.com.au/products/classic-chess-board: 404 Client Error: Not Found for url: https://momentousliving.com.au/products/classic-chess-board\n",
            "Finished processing link 285\n",
            "Failed to retrieve https://kubekfurniture.com/products/pearl-day-bed&title=Pearl%20Day%20Bed%20-%20Reserve%20one%20from%20June/July%20stock%20with%20just%20a%20deposit%20-%20CONTACT%20US: 404 Client Error: Not Found for url: https://kubekfurniture.com/products/pearl-day-bed&title=Pearl%20Day%20Bed%20-%20Reserve%20one%20from%20June/July%20stock%20with%20just%20a%20deposit%20-%20CONTACT%20US\n",
            "Finished processing link 286\n",
            "Failed to retrieve https://www.koernerfurniture.com/products/La-Z-Boy/lazboy/010563.html: 404 Client Error: Not Found for url: https://www.koernerfurniture.com/products/La-Z-Boy/lazboy/010563.html\n",
            "Finished processing link 287\n",
            "Failed to retrieve https://razoutlets.com/products/table-lamp: HTTPSConnectionPool(host='razoutlets.com', port=443): Max retries exceeded with url: /products/table-lamp (Caused by NameResolutionError(\"<urllib3.connection.HTTPSConnection object at 0x00000226A577ADD0>: Failed to resolve 'razoutlets.com' ([Errno 11001] getaddrinfo failed)\"))\n",
            "Finished processing link 288\n",
            "Failed to retrieve https://all3loops.com/products/personalized-coozies: HTTPSConnectionPool(host='all3loops.com', port=443): Max retries exceeded with url: /products/personalized-coozies (Caused by NameResolutionError(\"<urllib3.connection.HTTPSConnection object at 0x00000226A530EA50>: Failed to resolve 'all3loops.com' ([Errno 11001] getaddrinfo failed)\"))\n",
            "Finished processing link 289\n",
            "Failed to retrieve https://augustusbrandt.co.uk/products/seating-2/204315/: 404 Client Error: Not Found for url: https://augustusbrandt.co.uk/products/seating-2/204315/\n",
            "Finished processing link 290\n",
            "Successfully saved https://www.konfoliving.com/products/miami-bean-bag-chair\n",
            "Finished processing link 291\n",
            "Successfully saved https://www.zipchair.com/products/stealth-recliner-with-boston-bruins-logo\n"
          ]
        },
        {
          "name": "stderr",
          "output_type": "stream",
          "text": [
            "100%|██████████| 181/181 [00:09<00:00, 20.10it/s]\n"
          ]
        },
        {
          "name": "stdout",
          "output_type": "stream",
          "text": [
            "Finished processing link 292\n",
            "Failed to retrieve https://gousesfurniture.com/products/: 403 Client Error: Forbidden for url: https://gousesfurniture.com/products/\n",
            "Finished processing link 293\n",
            "Failed to retrieve https://maximahouse.com/products/denver-tv-set: 404 Client Error: Not Found for url: https://maximahouse.com/products/denver-tv-set\n",
            "Finished processing link 294\n",
            "Failed to retrieve https://www.conceptuscollection.com/products/kyu-dining-chair: HTTPSConnectionPool(host='www.conceptuscollection.com', port=443): Max retries exceeded with url: /products/kyu-dining-chair (Caused by SSLError(SSLError(1, '[SSL: SSLV3_ALERT_HANDSHAKE_FAILURE] sslv3 alert handshake failure (_ssl.c:1006)')))\n",
            "Finished processing link 295\n",
            "Failed to retrieve https://woodaction.com/products/folding-wardrobe: 404 Client Error: Not Found for url: https://woodaction.com/products/folding-wardrobe\n",
            "Finished processing link 296\n",
            "Failed to retrieve https://homesteadfurniturebc.com/products/zane-bedroom-collection-please-contact-us-for-black-friday-pricing&via=hsfbc&text=Zane%20Bedroom%20Collection: 404 Client Error: Not Found for url: https://homesteadfurniturebc.com/products/zane-bedroom-collection-please-contact-us-for-black-friday-pricing&via=hsfbc&text=Zane%20Bedroom%20Collection\n",
            "Finished processing link 297\n",
            "Failed to retrieve https://popstrukt.com/products/steel-shelf-standard: 404 Client Error: Not Found for url: https://popstrukt.com/products/steel-shelf-standard\n",
            "Finished processing link 298\n",
            "Successfully saved https://dkmodernfurniture.com/products/novah-desks?variant=20650194534470\n"
          ]
        },
        {
          "name": "stderr",
          "output_type": "stream",
          "text": [
            "100%|██████████| 89/89 [00:03<00:00, 22.52it/s]\n"
          ]
        },
        {
          "name": "stdout",
          "output_type": "stream",
          "text": [
            "Finished processing link 299\n",
            "Failed to retrieve https://woodtribe.co.nz/products/wood-framed-signs: HTTPSConnectionPool(host='woodtribe.co.nz', port=443): Max retries exceeded with url: /products/wood-framed-signs (Caused by NameResolutionError(\"<urllib3.connection.HTTPSConnection object at 0x00000226A233C050>: Failed to resolve 'woodtribe.co.nz' ([Errno 11001] getaddrinfo failed)\"))\n",
            "Finished processing link 300\n",
            "Failed to retrieve https://www.project82.com.au/products/palermo-rug-by-armadilloampco: 404 Client Error: Not Found for url: https://project82.com.au/products/palermo-rug-by-armadilloampco\n",
            "Finished processing link 301\n",
            "Successfully saved http://position-collective.com/skill/products/\n"
          ]
        },
        {
          "name": "stderr",
          "output_type": "stream",
          "text": [
            "100%|██████████| 51/51 [00:02<00:00, 23.66it/s]\n"
          ]
        },
        {
          "name": "stdout",
          "output_type": "stream",
          "text": [
            "Finished processing link 302\n",
            "Failed to retrieve https://www.jaimesfurniture.com/products/junior-beds-1: HTTPSConnectionPool(host='www.jaimesfurniture.com', port=443): Max retries exceeded with url: /products/junior-beds-1 (Caused by ConnectTimeoutError(<urllib3.connection.HTTPSConnection object at 0x00000226A1878C50>, 'Connection to www.jaimesfurniture.com timed out. (connect timeout=None)'))\n",
            "Finished processing link 303\n",
            "Successfully saved https://driftingwood.in/products/driftingwood-room-garden-love-folding-table-black\n"
          ]
        },
        {
          "name": "stderr",
          "output_type": "stream",
          "text": [
            "100%|██████████| 140/140 [00:05<00:00, 24.40it/s]\n"
          ]
        },
        {
          "name": "stdout",
          "output_type": "stream",
          "text": [
            "Finished processing link 304\n",
            "Failed to retrieve https://studioydesign.ca/products/ontario-classic-storage-bed: 404 Client Error: Not Found for url: https://studioydesign.ca/products/ontario-classic-storage-bed\n",
            "Finished processing link 305\n",
            "Failed to retrieve https://pure-patio.com/products/braxton-bar-arm-chair: 404 Client Error: Not Found for url: https://pure-patio.com/products/braxton-bar-arm-chair\n",
            "Finished processing link 306\n",
            "Successfully saved https://jubileefurniturelv.com/products/anette-modern-leather-bed\n"
          ]
        },
        {
          "name": "stderr",
          "output_type": "stream",
          "text": [
            "100%|██████████| 160/160 [00:06<00:00, 23.35it/s]\n"
          ]
        },
        {
          "name": "stdout",
          "output_type": "stream",
          "text": [
            "Finished processing link 307\n",
            "Successfully saved https://www.madebyhame.com/products/ladder\n"
          ]
        },
        {
          "name": "stderr",
          "output_type": "stream",
          "text": [
            "100%|██████████| 19/19 [00:01<00:00, 14.59it/s]\n"
          ]
        },
        {
          "name": "stdout",
          "output_type": "stream",
          "text": [
            "Finished processing link 308\n",
            "Failed to retrieve https://www.skyhomedecor.com/collections/kids/products/the-rug-market-doodle-71287-area-rug: HTTPSConnectionPool(host='www.skyhomedecor.com', port=443): Max retries exceeded with url: /collections/kids/products/the-rug-market-doodle-71287-area-rug (Caused by SSLError(SSLCertVerificationError(1, \"[SSL: CERTIFICATE_VERIFY_FAILED] certificate verify failed: Hostname mismatch, certificate is not valid for 'www.skyhomedecor.com'. (_ssl.c:1006)\")))\n",
            "Finished processing link 309\n",
            "Successfully saved https://interiorsinvogue.com/products/side-sofa-table-silver-finish-har189\n"
          ]
        },
        {
          "name": "stderr",
          "output_type": "stream",
          "text": [
            "100%|██████████| 336/336 [00:15<00:00, 21.03it/s]\n"
          ]
        },
        {
          "name": "stdout",
          "output_type": "stream",
          "text": [
            "Finished processing link 310\n",
            "Failed to retrieve https://elegantoak.co.uk/products/abbert-5ft-bed: HTTPSConnectionPool(host='elegantoak.co.uk', port=443): Max retries exceeded with url: /products/abbert-5ft-bed (Caused by SSLError(SSLCertVerificationError(1, \"[SSL: CERTIFICATE_VERIFY_FAILED] certificate verify failed: Hostname mismatch, certificate is not valid for 'elegantoak.co.uk'. (_ssl.c:1006)\")))\n",
            "Finished processing link 311\n",
            "Failed to retrieve https://emvy.gr/products/: HTTPSConnectionPool(host='emvy.gr', port=443): Max retries exceeded with url: /products/ (Caused by NameResolutionError(\"<urllib3.connection.HTTPSConnection object at 0x00000226A561A190>: Failed to resolve 'emvy.gr' ([Errno 11001] getaddrinfo failed)\"))\n",
            "Finished processing link 312\n",
            "Failed to retrieve https://em-say.com/products/gift-card: HTTPSConnectionPool(host='em-say.com', port=443): Max retries exceeded with url: /products/gift-card (Caused by SSLError(SSLCertVerificationError(1, \"[SSL: CERTIFICATE_VERIFY_FAILED] certificate verify failed: Hostname mismatch, certificate is not valid for 'em-say.com'. (_ssl.c:1006)\")))\n",
            "Finished processing link 313\n",
            "Successfully saved https://rileysrealwood.com/products/detail/magnistretch-12\n"
          ]
        },
        {
          "name": "stderr",
          "output_type": "stream",
          "text": [
            "100%|██████████| 176/176 [00:08<00:00, 19.61it/s]\n"
          ]
        },
        {
          "name": "stdout",
          "output_type": "stream",
          "text": [
            "Finished processing link 314\n",
            "Failed to retrieve https://www.allaboutproduct.net/products/live-edge-86-metal-base-dining-table-with-matching-2-chairs-1-bench: 404 Client Error: Not Found for url: https://allaboutproduct.net/products/live-edge-86-metal-base-dining-table-with-matching-2-chairs-1-bench\n",
            "Finished processing link 315\n",
            "Successfully saved https://rigersfitness.com/products/professional-wooden-rocker-balance-board\n",
            "Finished processing link 316\n",
            "Failed to retrieve https://houseofdurante.co.uk/products/libra-bronze-boar-sculpture: HTTPSConnectionPool(host='houseofdurante.co.uk', port=443): Max retries exceeded with url: /products/libra-bronze-boar-sculpture (Caused by SSLError(SSLCertVerificationError(1, \"[SSL: CERTIFICATE_VERIFY_FAILED] certificate verify failed: Hostname mismatch, certificate is not valid for 'houseofdurante.co.uk'. (_ssl.c:1006)\")))\n",
            "Finished processing link 317\n",
            "Failed to retrieve https://shop-ames-interiors.com/products/gift-card: 404 Client Error: Not Found for url: https://shop-ames-interiors.com/products/gift-card\n",
            "Finished processing link 318\n",
            "Failed to retrieve https://www.royalgarden.com/products/russel-4pc-seating-set: 404 Client Error: Not Found for url: https://royalgarden.com/products/russel-4pc-seating-set\n",
            "Finished processing link 319\n",
            "Failed to retrieve https://ezzo.co.uk/collections/home-page-products/products/garret-3-seat-sofa: 404 Client Error: Not Found for url: https://ezzo.co.uk/collections/home-page-products/products/garret-3-seat-sofa\n",
            "Finished processing link 320\n",
            "Successfully saved https://homedesires.com/products/gift-card\n",
            "Finished processing link 321\n",
            "Failed to retrieve https://sakhome.co.uk/collections/best-sellers-1/products/bibi-candle-holder-rouge: 404 Client Error: Not Found for url: https://sakhome.co.uk/collections/best-sellers-1/products/bibi-candle-holder-rouge\n",
            "Finished processing link 322\n",
            "Failed to retrieve https://www.astellahrela.com/products/narla-tray: HTTPConnectionPool(host='vrshen.com', port=80): Max retries exceeded with url: /products/narla-tray (Caused by NameResolutionError(\"<urllib3.connection.HTTPConnection object at 0x00000226A75AECD0>: Failed to resolve 'vrshen.com' ([Errno 11002] getaddrinfo failed)\"))\n",
            "Finished processing link 323\n",
            "Failed to retrieve https://huxlo.co.uk/products/desk: 404 Client Error: Not Found for url: https://huxlo.co.uk/products/desk\n",
            "Finished processing link 324\n",
            "Failed to retrieve https://centralcoastfurniture.com/collections/desks/products/lewis-desk: HTTPSConnectionPool(host='centralcoastfurniture.com', port=443): Max retries exceeded with url: /collections/desks/products/lewis-desk (Caused by SSLError(SSLCertVerificationError(1, \"[SSL: CERTIFICATE_VERIFY_FAILED] certificate verify failed: Hostname mismatch, certificate is not valid for 'centralcoastfurniture.com'. (_ssl.c:1006)\")))\n",
            "Finished processing link 325\n",
            "Failed to retrieve https://mandai-design.com/products/led-einbaustrahler-boston-downlight: 404 Client Error: Not Found for url: https://www.mandai-design.com/products/led-einbaustrahler-boston-downlight\n",
            "Finished processing link 326\n",
            "Failed to retrieve https://www.furnituresales.com.au/products/200573469: 404 Client Error: Not Found for url: https://www.furnituresales.com.au/products/200573469\n",
            "Finished processing link 327\n",
            "Failed to retrieve https://www.jarrahmarri.com.au/products/corner-tv-unit: 404 Client Error: Not Found for url: https://www.directfurniturewa.com.au/products/corner-tv-unit\n",
            "Finished processing link 328\n",
            "Successfully saved https://www.henryandoliverco.com/products/gift-vouchers\n"
          ]
        },
        {
          "name": "stderr",
          "output_type": "stream",
          "text": [
            "100%|██████████| 155/155 [00:07<00:00, 20.38it/s]\n"
          ]
        },
        {
          "name": "stdout",
          "output_type": "stream",
          "text": [
            "Finished processing link 329\n",
            "Successfully saved https://outonthepatio.com.au/products/aria\n",
            "Finished processing link 330\n",
            "Successfully saved https://avehome.com/products/aria-desk\n"
          ]
        },
        {
          "name": "stderr",
          "output_type": "stream",
          "text": [
            "100%|██████████| 81/81 [00:03<00:00, 25.18it/s]\n"
          ]
        },
        {
          "name": "stdout",
          "output_type": "stream",
          "text": [
            "Finished processing link 331\n",
            "Successfully saved https://elephanthead.co.uk/products/colourful-markers-cushion-cover\n"
          ]
        },
        {
          "name": "stderr",
          "output_type": "stream",
          "text": [
            "100%|██████████| 178/178 [00:08<00:00, 21.17it/s]\n"
          ]
        },
        {
          "name": "stdout",
          "output_type": "stream",
          "text": [
            "Finished processing link 332\n",
            "Failed to retrieve https://www.mantrafurnishings.com/products/5285-01-chair: 404 Client Error: Not Found for url: https://www.mantrafurnishings.com/products/5285-01-chair\n",
            "Finished processing link 333\n",
            "Successfully saved https://www.coolstuffandaccessories.com/products/white-wood-dining-table\n"
          ]
        },
        {
          "name": "stderr",
          "output_type": "stream",
          "text": [
            "100%|██████████| 291/291 [00:14<00:00, 20.58it/s]\n"
          ]
        },
        {
          "name": "stdout",
          "output_type": "stream",
          "text": [
            "Finished processing link 334\n",
            "Failed to retrieve https://thecooldepot.com/products/3d-cement-wall-planter: HTTPSConnectionPool(host='thecooldepot.com', port=443): Max retries exceeded with url: /products/3d-cement-wall-planter (Caused by NameResolutionError(\"<urllib3.connection.HTTPSConnection object at 0x00000226A75F9C10>: Failed to resolve 'thecooldepot.com' ([Errno 11001] getaddrinfo failed)\"))\n",
            "Finished processing link 335\n",
            "Successfully saved https://ifortifi.ca/products/pl103\n"
          ]
        },
        {
          "name": "stderr",
          "output_type": "stream",
          "text": [
            "100%|██████████| 251/251 [00:12<00:00, 20.39it/s]\n"
          ]
        },
        {
          "name": "stdout",
          "output_type": "stream",
          "text": [
            "Finished processing link 336\n",
            "Failed to retrieve https://denvermodern.com/products/chula-outdoor-rug: 404 Client Error: Not Found for url: https://denvermodern.com/products/chula-outdoor-rug\n",
            "Finished processing link 337\n",
            "Failed to retrieve https://famgizmo.co.uk/products/1800w-log-burning-flame-effect-stove-electric-fire-heater-fireplace-standing: HTTPSConnectionPool(host='famgizmo.co.uk', port=443): Max retries exceeded with url: /products/1800w-log-burning-flame-effect-stove-electric-fire-heater-fireplace-standing (Caused by SSLError(SSLCertVerificationError(1, \"[SSL: CERTIFICATE_VERIFY_FAILED] certificate verify failed: Hostname mismatch, certificate is not valid for 'famgizmo.co.uk'. (_ssl.c:1006)\")))\n",
            "Finished processing link 338\n",
            "Failed to retrieve https://www.interiorliving.ca/products/elaine-chair-1: 404 Client Error: Not Found for url: https://www.interiorliving.ca/products/elaine-chair-1\n",
            "Finished processing link 339\n",
            "Failed to retrieve https://www.bbdgstore.com/products/bed-pillows: 410 Client Error: Gone for url: https://www.bbdgstore.com/products/bed-pillows\n",
            "Finished processing link 340\n",
            "Successfully saved https://french-classic-furniture.com/products/french-round-back-dining-chair-white-fcf688ch-000-rd-qa-wh_1\n"
          ]
        },
        {
          "name": "stderr",
          "output_type": "stream",
          "text": [
            "100%|██████████| 149/149 [00:07<00:00, 19.17it/s]\n"
          ]
        },
        {
          "name": "stdout",
          "output_type": "stream",
          "text": [
            "Finished processing link 341\n",
            "Successfully saved https://habitekshop.com/products/model-5-oak\n"
          ]
        },
        {
          "name": "stderr",
          "output_type": "stream",
          "text": [
            "100%|██████████| 46/46 [00:02<00:00, 18.70it/s]\n"
          ]
        },
        {
          "name": "stdout",
          "output_type": "stream",
          "text": [
            "Finished processing link 342\n",
            "Failed to retrieve https://homeandpatioliving.com/products/mib: 404 Client Error: Not Found for url: https://homeandpatioliving.com/products/mib\n",
            "Finished processing link 343\n",
            "Failed to retrieve https://www.savetheplanetfurniture.com/products/lantern-silver-cube: HTTPSConnectionPool(host='www.savetheplanetfurniture.com', port=443): Max retries exceeded with url: /products/lantern-silver-cube (Caused by SSLError(SSLError(1, '[SSL: SSLV3_ALERT_HANDSHAKE_FAILURE] sslv3 alert handshake failure (_ssl.c:1006)')))\n",
            "Finished processing link 344\n",
            "Failed to retrieve https://www.greensladesfurniture.co.nz/collections/rugs/products/nebraska-floor-rug-ash: 404 Client Error: Not Found for url: https://www.greensladesfurniture.co.nz/collections/rugs/products/nebraska-floor-rug-ash\n",
            "Finished processing link 345\n",
            "Successfully saved https://www.loomlan.com/collections/modern-furniture-sofa-loveseat-tufted-leather-blue-velvet/products/dean-92-california-casual-sofa\n"
          ]
        },
        {
          "name": "stderr",
          "output_type": "stream",
          "text": [
            "100%|██████████| 373/373 [00:15<00:00, 23.48it/s]\n"
          ]
        },
        {
          "name": "stdout",
          "output_type": "stream",
          "text": [
            "Finished processing link 346\n",
            "Successfully saved https://plankandpipe.co.uk/products/copper-pipe-clothes-hanger-hooks\n"
          ]
        },
        {
          "name": "stderr",
          "output_type": "stream",
          "text": [
            "100%|██████████| 92/92 [00:04<00:00, 19.27it/s]\n"
          ]
        },
        {
          "name": "stdout",
          "output_type": "stream",
          "text": [
            "Finished processing link 347\n",
            "Failed to retrieve https://www.pizzazzhub.com.au/products/4-tier-tv-media-stand: HTTPSConnectionPool(host='www.pizzazzhub.com.au', port=443): Max retries exceeded with url: /products/4-tier-tv-media-stand (Caused by NameResolutionError(\"<urllib3.connection.HTTPSConnection object at 0x00000226A738B2D0>: Failed to resolve 'www.pizzazzhub.com.au' ([Errno 11001] getaddrinfo failed)\"))\n",
            "Finished processing link 348\n",
            "Successfully saved https://www.polyteakoutdoor.com/products/polyteak-curved-outdoor-rocking-chair\n"
          ]
        },
        {
          "name": "stderr",
          "output_type": "stream",
          "text": [
            "100%|██████████| 308/308 [00:14<00:00, 21.56it/s]\n"
          ]
        },
        {
          "name": "stdout",
          "output_type": "stream",
          "text": [
            "Finished processing link 349\n",
            "Failed to retrieve https://www.souk.co.nz/products/sumatra-chair%20via%20@https://twitter.com/Souk_Collective: 404 Client Error: Not Found for url: https://www.souk.co.nz/products/sumatra-chair%20via%20@https://twitter.com/Souk_Collective\n",
            "Finished processing link 350\n",
            "Successfully saved https://modholic.com/products/tulip-bar-table\n"
          ]
        },
        {
          "name": "stderr",
          "output_type": "stream",
          "text": [
            "100%|██████████| 152/152 [00:09<00:00, 15.58it/s]\n"
          ]
        },
        {
          "name": "stdout",
          "output_type": "stream",
          "text": [
            "Finished processing link 351\n",
            "Failed to retrieve https://walkeredisonshop.com/products/jackson-slat-entry-table: 404 Client Error: Not Found for url: https://walkeredison.com/products/jackson-slat-entry-table\n",
            "Finished processing link 352\n",
            "Failed to retrieve https://stylefurniture.com.sg/products/lucas-armchair: HTTPSConnectionPool(host='stylefurniture.com.sg', port=443): Max retries exceeded with url: /products/lucas-armchair (Caused by NameResolutionError(\"<urllib3.connection.HTTPSConnection object at 0x00000226A73CD350>: Failed to resolve 'stylefurniture.com.sg' ([Errno 11001] getaddrinfo failed)\"))\n",
            "Finished processing link 353\n",
            "Failed to retrieve https://www.walteralice.com/products/wool-alpaca-poly-blend-check-fireside-chair?variant=8105538551900: HTTPSConnectionPool(host='www.walteralice.com', port=443): Max retries exceeded with url: /products/wool-alpaca-poly-blend-check-fireside-chair?variant=8105538551900 (Caused by NewConnectionError('<urllib3.connection.HTTPSConnection object at 0x00000226A5103350>: Failed to establish a new connection: [WinError 10061] No connection could be made because the target machine actively refused it'))\n",
            "Finished processing link 354\n",
            "Failed to retrieve https://veroabode.com/products/adjustable-vintage-retro-rustic-bar-stool: 404 Client Error: Not Found for url: https://veroabode.com/products/adjustable-vintage-retro-rustic-bar-stool\n",
            "Finished processing link 355\n",
            "Failed to retrieve https://www.kotihome.com.au/collections/tv/products/new-devanti-40-inch-smart-led-tv-2k-full-hd-lcd-slim-screen-black: HTTPSConnectionPool(host='www.kotihome.com.au', port=443): Max retries exceeded with url: /collections/tv/products/new-devanti-40-inch-smart-led-tv-2k-full-hd-lcd-slim-screen-black (Caused by NameResolutionError(\"<urllib3.connection.HTTPSConnection object at 0x00000226A73A60D0>: Failed to resolve 'www.kotihome.com.au' ([Errno 11001] getaddrinfo failed)\"))\n",
            "Finished processing link 356\n",
            "Failed to retrieve https://www.novomodern.com/products/avenue-chair: 404 Client Error: Not Found for url: https://novomodern.com/products/avenue-chair\n",
            "Finished processing link 357\n",
            "Successfully saved https://yoyo.co.nz/products/yoyo-gift-voucher\n"
          ]
        },
        {
          "name": "stderr",
          "output_type": "stream",
          "text": [
            "100%|██████████| 213/213 [00:09<00:00, 22.15it/s]\n"
          ]
        },
        {
          "name": "stdout",
          "output_type": "stream",
          "text": [
            "Finished processing link 358\n",
            "Successfully saved https://newstartfurniture.com.au/products/4-four-poster-king-bed-frame\n"
          ]
        },
        {
          "name": "stderr",
          "output_type": "stream",
          "text": [
            "100%|██████████| 278/278 [00:15<00:00, 18.25it/s]\n"
          ]
        },
        {
          "name": "stdout",
          "output_type": "stream",
          "text": [
            "Finished processing link 359\n",
            "Failed to retrieve https://workspaceluxe.com.au/products/6ixty-zine-desk: HTTPSConnectionPool(host='workspaceluxe.com.au', port=443): Max retries exceeded with url: /products/6ixty-zine-desk (Caused by NameResolutionError(\"<urllib3.connection.HTTPSConnection object at 0x00000226A73DC5D0>: Failed to resolve 'workspaceluxe.com.au' ([Errno 11001] getaddrinfo failed)\"))\n",
            "Finished processing link 360\n",
            "Failed to retrieve https://www.newleafupcycled.com.au/products/rustic-shabby-chic-bookcase: HTTPSConnectionPool(host='www.newleafupcycled.com.au', port=443): Max retries exceeded with url: /products/rustic-shabby-chic-bookcase (Caused by NameResolutionError(\"<urllib3.connection.HTTPSConnection object at 0x00000226A57B8C10>: Failed to resolve 'www.newleafupcycled.com.au' ([Errno 11001] getaddrinfo failed)\"))\n",
            "Finished processing link 361\n",
            "Failed to retrieve https://www.thedesignedit.com.au/products/daria-cushion: 404 Client Error: Not Found for url: https://www.thedesignedit.com.au/products/daria-cushion\n",
            "Finished processing link 362\n",
            "Failed to retrieve https://www.therusticfurniturestore.com/products/global-floor-lamp: 404 Client Error: Not Found for url: https://www.therusticfurniturestore.com/products/global-floor-lamp\n",
            "Finished processing link 363\n",
            "Failed to retrieve https://dormahome.com/products/seaford-shelf-black: 404 Client Error: Not Found for url: https://dormahome.com/products/seaford-shelf-black\n",
            "Finished processing link 364\n",
            "Failed to retrieve https://www.paetry.com/products/catalina-chair: HTTPSConnectionPool(host='www.paetry.com', port=443): Max retries exceeded with url: /products/catalina-chair (Caused by NameResolutionError(\"<urllib3.connection.HTTPSConnection object at 0x00000226BC2ABE90>: Failed to resolve 'www.paetry.com' ([Errno 11001] getaddrinfo failed)\"))\n",
            "Finished processing link 365\n",
            "Successfully saved https://panana.co.uk/products/3-seater-sofa-bed\n"
          ]
        },
        {
          "name": "stderr",
          "output_type": "stream",
          "text": [
            "100%|██████████| 650/650 [00:22<00:00, 28.47it/s]\n"
          ]
        },
        {
          "name": "stdout",
          "output_type": "stream",
          "text": [
            "Finished processing link 366\n",
            "Successfully saved https://mahliainteriors.com.au/collections/mothers-day-15-off-sale/products/bone-inlay-floral-box-black\n"
          ]
        },
        {
          "name": "stderr",
          "output_type": "stream",
          "text": [
            "100%|██████████| 193/193 [00:11<00:00, 17.22it/s]\n"
          ]
        },
        {
          "name": "stdout",
          "output_type": "stream",
          "text": [
            "Finished processing link 367\n",
            "Failed to retrieve https://reclaimedcharm.co/products/2-day-designs-dartboard-cabinet: HTTPSConnectionPool(host='reclaimedcharm.co', port=443): Max retries exceeded with url: /products/2-day-designs-dartboard-cabinet (Caused by NameResolutionError(\"<urllib3.connection.HTTPSConnection object at 0x00000226A78A4B90>: Failed to resolve 'reclaimedcharm.co' ([Errno 11001] getaddrinfo failed)\"))\n",
            "Finished processing link 368\n",
            "Failed to retrieve https://luxstreet.com.au/collections/outdoor/products/whitehaven-dining-chair-white-frame-white-wicker-seat: 404 Client Error: Not Found for url: https://luxstreet.com.au/collections/outdoor/products/whitehaven-dining-chair-white-frame-white-wicker-seat\n",
            "Finished processing link 369\n",
            "Successfully saved https://choufani.com/products/primavera-bed\n"
          ]
        },
        {
          "name": "stderr",
          "output_type": "stream",
          "text": [
            "100%|██████████| 171/171 [00:08<00:00, 20.43it/s]\n"
          ]
        },
        {
          "name": "stdout",
          "output_type": "stream",
          "text": [
            "Finished processing link 370\n",
            "Successfully saved https://copperbarnhome.com/products/gift-card\n"
          ]
        },
        {
          "name": "stderr",
          "output_type": "stream",
          "text": [
            "100%|██████████| 334/334 [00:22<00:00, 14.83it/s]\n"
          ]
        },
        {
          "name": "stdout",
          "output_type": "stream",
          "text": [
            "Finished processing link 371\n",
            "Failed to retrieve https://wazofurniture.com/collections/sofa/products/grant-blue-fabric-sofa: 404 Client Error: Not Found for url: https://www.wazofurniture.com/collections/sofa/products/grant-blue-fabric-sofa\n",
            "Finished processing link 372\n",
            "Successfully saved https://www.ofo.com.au/products/hanging-pod-chair\n"
          ]
        },
        {
          "name": "stderr",
          "output_type": "stream",
          "text": [
            "100%|██████████| 339/339 [00:13<00:00, 24.23it/s]\n"
          ]
        },
        {
          "name": "stdout",
          "output_type": "stream",
          "text": [
            "Finished processing link 373\n",
            "Failed to retrieve https://www.unitedoutdoorfurniture.com.au/products/scarlett-indoor-timber-buffet-sideboard%20via%20@https://twitter.com/UnitedHouse1: 404 Client Error: Not Found for url: https://unitedoutdoorfurniture.com.au/products/scarlett-indoor-timber-buffet-sideboard%20via%20@https:/twitter.com/UnitedHouse1\n",
            "Finished processing link 374\n",
            "Successfully saved https://www.furniturecontracts.com.au/products/\n"
          ]
        },
        {
          "name": "stderr",
          "output_type": "stream",
          "text": [
            "100%|██████████| 233/233 [00:10<00:00, 23.03it/s]\n"
          ]
        },
        {
          "name": "stdout",
          "output_type": "stream",
          "text": [
            "Finished processing link 375\n",
            "Successfully saved https://www.innerspace.net.au/products/STOOLS-5414\n"
          ]
        },
        {
          "name": "stderr",
          "output_type": "stream",
          "text": [
            "100%|██████████| 85/85 [00:03<00:00, 21.43it/s]\n"
          ]
        },
        {
          "name": "stdout",
          "output_type": "stream",
          "text": [
            "Finished processing link 376\n",
            "Failed to retrieve https://www.generalstorefurniture.com.au/products/design-customise-your-own-timber-dining-table: 404 Client Error: Not Found for url: https://www.generalstorefurniture.com.au/products/design-customise-your-own-timber-dining-table\n",
            "Finished processing link 377\n",
            "Failed to retrieve https://www.simpli-home.com/products/braxton-desk: 404 Client Error: Not Found for url: https://www.simpli-home.com/products/braxton-desk\n",
            "Finished processing link 378\n",
            "Successfully saved https://americanwholesalefurniturewi.com/products/\n"
          ]
        },
        {
          "name": "stderr",
          "output_type": "stream",
          "text": [
            "100%|██████████| 41/41 [00:01<00:00, 25.60it/s]\n"
          ]
        },
        {
          "name": "stdout",
          "output_type": "stream",
          "text": [
            "Finished processing link 379\n",
            "Successfully saved https://www.mykahome.com.au/products/zee-back-cushion\n"
          ]
        },
        {
          "name": "stderr",
          "output_type": "stream",
          "text": [
            "100%|██████████| 761/761 [00:34<00:00, 21.76it/s]\n"
          ]
        },
        {
          "name": "stdout",
          "output_type": "stream",
          "text": [
            "Finished processing link 380\n",
            "Failed to retrieve https://mrnanyang.com/products/cushioned-soft-leather-chair: 404 Client Error: Not Found for url: https://mrnanyang.com/products/cushioned-soft-leather-chair\n",
            "Finished processing link 381\n",
            "Successfully saved https://www.naturalgeo.com/products/natural-geo-jasmine-modern-wavy-abstract-gray-black-area-rug\n"
          ]
        },
        {
          "name": "stderr",
          "output_type": "stream",
          "text": [
            "100%|██████████| 165/165 [00:08<00:00, 19.34it/s]\n"
          ]
        },
        {
          "name": "stdout",
          "output_type": "stream",
          "text": [
            "Finished processing link 382\n",
            "Failed to retrieve https://home-evolution.com/products/one-storys-not-enough/: ('Connection aborted.', RemoteDisconnected('Remote end closed connection without response'))\n",
            "Finished processing link 383\n",
            "Successfully saved https://hamptonsstyle.com.au/products/hamptons-style-gift-card\n"
          ]
        },
        {
          "name": "stderr",
          "output_type": "stream",
          "text": [
            "100%|██████████| 341/341 [00:15<00:00, 21.54it/s]\n"
          ]
        },
        {
          "name": "stdout",
          "output_type": "stream",
          "text": [
            "Finished processing link 384\n",
            "Successfully saved https://www.henkalab.com/products/kaona-table\n"
          ]
        },
        {
          "name": "stderr",
          "output_type": "stream",
          "text": [
            "100%|██████████| 119/119 [00:05<00:00, 21.47it/s]\n"
          ]
        },
        {
          "name": "stdout",
          "output_type": "stream",
          "text": [
            "Finished processing link 385\n",
            "Failed to retrieve https://www.bilberry-furniture.co.uk/products/test: HTTPSConnectionPool(host='www.bilberry-furniture.co.uk', port=443): Max retries exceeded with url: /products/test (Caused by NameResolutionError(\"<urllib3.connection.HTTPSConnection object at 0x00000226A47E2ED0>: Failed to resolve 'www.bilberry-furniture.co.uk' ([Errno 11001] getaddrinfo failed)\"))\n",
            "Finished processing link 386\n",
            "Failed to retrieve https://bostonwoods.co.za/products/kr3-pedestal: HTTPSConnectionPool(host='bostonwoods.co.za', port=443): Max retries exceeded with url: /products/kr3-pedestal (Caused by NameResolutionError(\"<urllib3.connection.HTTPSConnection object at 0x00000226A4747F50>: Failed to resolve 'bostonwoods.co.za' ([Errno 11001] getaddrinfo failed)\"))\n",
            "Finished processing link 387\n",
            "Successfully saved https://www.blockandchisel.co.za/products/special-features/promotion-53\n"
          ]
        },
        {
          "name": "stderr",
          "output_type": "stream",
          "text": [
            "100%|██████████| 259/259 [00:09<00:00, 26.15it/s]\n"
          ]
        },
        {
          "name": "stdout",
          "output_type": "stream",
          "text": [
            "Finished processing link 388\n",
            "Failed to retrieve https://humelabamerica.com/products/clea: HTTPSConnectionPool(host='humelabamerica.com', port=443): Max retries exceeded with url: /products/clea (Caused by NameResolutionError(\"<urllib3.connection.HTTPSConnection object at 0x00000226A72C3D90>: Failed to resolve 'humelabamerica.com' ([Errno 11001] getaddrinfo failed)\"))\n",
            "Finished processing link 389\n",
            "Failed to retrieve https://sghomefurnishing.com/collections/study-room/products/alvise-working-desk: 404 Client Error: Not Found for url: https://www.sghomefurnishing.com/collections/study-room/products/alvise-working-desk\n",
            "Finished processing link 390\n",
            "Failed to retrieve https://bydesigntexas.com/products/bdimargo%E2%84%A2-5229-media-cabinet-6-colors?_pos=1&_sid=81298bf3f&_ss=r: 404 Client Error: Not Found for url: https://bydesigntexas.com/products/bdimargo%E2%84%A2-5229-media-cabinet-6-colors?_pos=1&_sid=81298bf3f&_ss=r\n",
            "Finished processing link 391\n",
            "Failed to retrieve https://furnitureshop.net/products/curvy-chair: 404 Client Error: Not Found for url: https://furnitureshop.net/products/curvy-chair\n",
            "Finished processing link 392\n",
            "Failed to retrieve https://www.mooradians.com/products/?filter_brand=fairfield-chair-company: 404 Client Error:  for url: https://www.mooradians.com/products?filter_brand=fairfield-chair-company\n",
            "Finished processing link 393\n",
            "Failed to retrieve https://rawmaterials.eu/products/acaciawood-curved-wall-shelf-80-cm: 404 Client Error: Not Found for url: https://rawmaterials.eu/products/acaciawood-curved-wall-shelf-80-cm\n",
            "Finished processing link 394\n",
            "Failed to retrieve https://grandads-shed.com/products/daintree-mugs: 404 Client Error: Not Found for url: https://grandads-shed.com/products/daintree-mugs\n",
            "Finished processing link 395\n",
            "Failed to retrieve https://popularstores.co.za/products/te-6011: HTTPSConnectionPool(host='popularstores.co.za', port=443): Max retries exceeded with url: /products/te-6011 (Caused by NameResolutionError(\"<urllib3.connection.HTTPSConnection object at 0x00000226A59839D0>: Failed to resolve 'popularstores.co.za' ([Errno 11001] getaddrinfo failed)\"))\n",
            "Finished processing link 396\n",
            "Failed to retrieve https://lavida-furniture.com/products/lua: 404 Client Error: Not Found for url: https://lavida-furniture.com/products/lua\n",
            "Finished processing link 397\n",
            "Failed to retrieve https://mydesignrepublic.com/collections/all/products/antika-rug: 404 Client Error: Not Found for url: https://www.mydesignrepublic.com/collections/all/products/antika-rug\n",
            "Finished processing link 398\n",
            "Failed to retrieve https://www.alwaysabargain.co.uk/products/talladale-3-over-4-chest-of-drawers: HTTPSConnectionPool(host='www.alwaysabargain.co.uk', port=443): Max retries exceeded with url: /products/talladale-3-over-4-chest-of-drawers (Caused by SSLError(SSLError(1, '[SSL: SSLV3_ALERT_HANDSHAKE_FAILURE] sslv3 alert handshake failure (_ssl.c:1006)')))\n",
            "Finished processing link 399\n",
            "Successfully saved https://mintffe.com.au/products/\n"
          ]
        },
        {
          "name": "stderr",
          "output_type": "stream",
          "text": [
            "100%|██████████| 239/239 [00:18<00:00, 12.93it/s]\n"
          ]
        },
        {
          "name": "stdout",
          "output_type": "stream",
          "text": [
            "Finished processing link 400\n",
            "Failed to retrieve https://mikisew.ca/products/futon-mattress: HTTPSConnectionPool(host='mikisew.ca', port=443): Max retries exceeded with url: /products/futon-mattress (Caused by SSLError(SSLCertVerificationError(1, \"[SSL: CERTIFICATE_VERIFY_FAILED] certificate verify failed: Hostname mismatch, certificate is not valid for 'mikisew.ca'. (_ssl.c:1006)\")))\n",
            "Finished processing link 401\n",
            "Successfully saved https://modernityvintage.com/products/wilhelm-renz-metamorphic-coffee-table\n"
          ]
        },
        {
          "name": "stderr",
          "output_type": "stream",
          "text": [
            "100%|██████████| 579/579 [00:27<00:00, 20.86it/s]\n"
          ]
        },
        {
          "name": "stdout",
          "output_type": "stream",
          "text": [
            "Finished processing link 402\n",
            "Successfully saved https://mybellas.com/products/paolo-bench\n",
            "Finished processing link 403\n",
            "Successfully saved https://www.smallspaceplus.com/products/scube\n"
          ]
        },
        {
          "name": "stderr",
          "output_type": "stream",
          "text": [
            "100%|██████████| 289/289 [00:14<00:00, 20.05it/s]\n"
          ]
        },
        {
          "name": "stdout",
          "output_type": "stream",
          "text": [
            "Finished processing link 404\n",
            "Failed to retrieve https://limitedabode.co.uk/products/pink-art: 404 Client Error: Not Found for url: https://limitedabode.co.uk/products/pink-art\n",
            "Finished processing link 405\n",
            "Failed to retrieve https://shabbystore.co.uk/products/the-ritz-bed%20via%20@https://twitter.com/ShabbyStore: HTTPSConnectionPool(host='shabbystore.co.uk', port=443): Max retries exceeded with url: /products/the-ritz-bed%20via%20@https://twitter.com/ShabbyStore (Caused by ConnectTimeoutError(<urllib3.connection.HTTPSConnection object at 0x00000226A5024F10>, 'Connection to shabbystore.co.uk timed out. (connect timeout=None)'))\n",
            "Finished processing link 406\n",
            "Failed to retrieve https://welcometohome.com.au/products/peyton: 402 Client Error: Payment Required for url: https://welcometohome.com.au/products/peyton\n",
            "Finished processing link 407\n",
            "Successfully saved https://www.totemroad.com/products/gift-card\n"
          ]
        },
        {
          "name": "stderr",
          "output_type": "stream",
          "text": [
            "100%|██████████| 184/184 [00:07<00:00, 23.87it/s]\n"
          ]
        },
        {
          "name": "stdout",
          "output_type": "stream",
          "text": [
            "Finished processing link 408\n",
            "Failed to retrieve https://allstatefurniturenj.com/products/bayonne-bedroom-collection: HTTPSConnectionPool(host='allstatefurniturenj.com', port=443): Max retries exceeded with url: /products/bayonne-bedroom-collection (Caused by ConnectTimeoutError(<urllib3.connection.HTTPSConnection object at 0x00000226A72961D0>, 'Connection to allstatefurniturenj.com timed out. (connect timeout=None)'))\n",
            "Finished processing link 409\n",
            "Successfully saved https://whataroom.com/collections/new-arrival-rugs/products/arsene-r3475-aqu000\n"
          ]
        },
        {
          "name": "stderr",
          "output_type": "stream",
          "text": [
            "100%|██████████| 208/208 [00:13<00:00, 15.34it/s]\n"
          ]
        },
        {
          "name": "stdout",
          "output_type": "stream",
          "text": [
            "Finished processing link 410\n",
            "Failed to retrieve http://www.odinlifestyle.com/products/collections/tyr/: 404 Client Error: Not Found for url: https://odinlifestyle.com/products/collections/tyr/\n",
            "Finished processing link 411\n",
            "Failed to retrieve https://perfectforthehome.co.uk/collections/occasional/products/maison-velvet-chair: 404 Client Error: Not Found for url: https://www.perfectforthehome.co.uk/collections/occasional/products/maison-velvet-chair\n",
            "Finished processing link 412\n",
            "Failed to retrieve https://penelopesgarden.us/products/cbd-starter-kit-save-5: HTTPSConnectionPool(host='penelopesgarden.us', port=443): Max retries exceeded with url: /products/cbd-starter-kit-save-5 (Caused by SSLError(SSLCertVerificationError(1, \"[SSL: CERTIFICATE_VERIFY_FAILED] certificate verify failed: Hostname mismatch, certificate is not valid for 'penelopesgarden.us'. (_ssl.c:1006)\")))\n",
            "Finished processing link 413\n",
            "Failed to retrieve https://www.wrights-furniture.com/products/La-Z-Boy/lazboy/440521.html: 404 Client Error: Not Found for url: https://www.wrights-furniture.com/products/La-Z-Boy/lazboy/440521.html\n",
            "Finished processing link 414\n",
            "Successfully saved https://jeffjonesfurniture.net/products/Ashley-Furniture/ashley/b69746.html\n"
          ]
        },
        {
          "name": "stderr",
          "output_type": "stream",
          "text": [
            "100%|██████████| 604/604 [00:25<00:00, 23.55it/s]\n"
          ]
        },
        {
          "name": "stdout",
          "output_type": "stream",
          "text": [
            "Finished processing link 415\n",
            "Failed to retrieve https://www.klinnerfurniture.com/products/simmons/beautysleepdauphinislandtighttopplushking.html: 404 Client Error: Not Found for url: https://www.klinnerfurniture.com/products/simmons/beautysleepdauphinislandtighttopplushking.html\n",
            "Finished processing link 416\n",
            "Failed to retrieve https://www.lastersfurniture.com/products/surya/a10858.html: 404 Client Error: Not Found for url: https://lastersfurniture.com/products/surya/a10858.html\n",
            "Finished processing link 417\n",
            "Failed to retrieve https://www.grainwoodfurniture.com/products/shaker-twin-panel-platform-bed: 404 Client Error: Not Found for url: https://grainwoodfurniture.com/products/shaker-twin-panel-platform-bed\n",
            "Finished processing link 418\n",
            "Failed to retrieve https://davishomefurniture.com/products/office/desk/: 403 Client Error: Forbidden for url: https://davishomefurniture.com/products/office/desk/\n",
            "Finished processing link 419\n",
            "Successfully saved https://idsfurniture.com/categories/563349/simon/products/sim-s-ch/simon-side-chair\n"
          ]
        },
        {
          "name": "stderr",
          "output_type": "stream",
          "text": [
            "100%|██████████| 192/192 [00:07<00:00, 27.24it/s]\n"
          ]
        },
        {
          "name": "stdout",
          "output_type": "stream",
          "text": [
            "Finished processing link 420\n",
            "Successfully saved https://www.byronbayhangingchairs.com.au/products/weekender\n"
          ]
        },
        {
          "name": "stderr",
          "output_type": "stream",
          "text": [
            "100%|██████████| 112/112 [00:05<00:00, 20.72it/s]\n"
          ]
        },
        {
          "name": "stdout",
          "output_type": "stream",
          "text": [
            "Finished processing link 421\n",
            "Successfully saved https://www.homebarsusa.com/products/howard-miller-niagara-bar-693-001\n"
          ]
        },
        {
          "name": "stderr",
          "output_type": "stream",
          "text": [
            "100%|██████████| 239/239 [00:10<00:00, 22.70it/s]\n"
          ]
        },
        {
          "name": "stdout",
          "output_type": "stream",
          "text": [
            "Finished processing link 422\n",
            "Successfully saved https://www.wellhunghammocks.com/products/mexican-hammock\n"
          ]
        },
        {
          "name": "stderr",
          "output_type": "stream",
          "text": [
            "100%|██████████| 171/171 [00:06<00:00, 24.82it/s]\n"
          ]
        },
        {
          "name": "stdout",
          "output_type": "stream",
          "text": [
            "Finished processing link 423\n",
            "Failed to retrieve https://nofred.com/products/wall-bug: 404 Client Error: Not Found for url: https://nofred.com/products/wall-bugs\n",
            "Finished processing link 424\n",
            "Failed to retrieve https://brisbanefurniture.com.au/products/linear-desk: 404 Client Error: Not Found for url: https://brisbanefurniture.com.au/products/linear-desk\n",
            "Finished processing link 425\n",
            "Successfully saved https://midcenturymasters.com/products/sculptural-ebonized-credenza-with-silver-leafed-front\n"
          ]
        },
        {
          "name": "stderr",
          "output_type": "stream",
          "text": [
            "100%|██████████| 99/99 [00:04<00:00, 21.91it/s]\n"
          ]
        },
        {
          "name": "stdout",
          "output_type": "stream",
          "text": [
            "Finished processing link 426\n",
            "Successfully saved https://primrosehomeware.co.uk/products/pulley-clothes-airer-5-lath\n",
            "Finished processing link 427\n",
            "Successfully saved https://www.ledecostyle.com/collections/featured-products/products/1970s-sputnik-suspension-lamp-made-in-murano-in-star-form\n"
          ]
        },
        {
          "name": "stderr",
          "output_type": "stream",
          "text": [
            "100%|██████████| 83/83 [00:03<00:00, 23.65it/s]\n"
          ]
        },
        {
          "name": "stdout",
          "output_type": "stream",
          "text": [
            "Finished processing link 428\n",
            "Successfully saved https://www.classic2modern.com/products/100-sofa\n"
          ]
        },
        {
          "name": "stderr",
          "output_type": "stream",
          "text": [
            "100%|██████████| 153/153 [00:05<00:00, 27.66it/s]\n"
          ]
        },
        {
          "name": "stdout",
          "output_type": "stream",
          "text": [
            "Finished processing link 429\n",
            "Successfully saved https://www.mrandmrswhite.net/products/gift-card-2\n"
          ]
        },
        {
          "name": "stderr",
          "output_type": "stream",
          "text": [
            "100%|██████████| 133/133 [00:05<00:00, 22.96it/s]\n"
          ]
        },
        {
          "name": "stdout",
          "output_type": "stream",
          "text": [
            "Finished processing link 430\n",
            "Failed to retrieve https://www.theimporter.co.nz/products/bookshelf-rosewood: 404 Client Error: Not Found for url: https://www.theimporter.co.nz/products/bookshelf-rosewood\n",
            "Finished processing link 431\n",
            "Failed to retrieve https://galaxiemodern.com/products/jens-risom-sofa: 404 Client Error: Not Found for url: https://galaxiemodern.com/products/jens-risom-sofa\n",
            "Finished processing link 432\n",
            "Successfully saved https://www.theteakplace.com.au/products/garden-bench-cushions\n"
          ]
        },
        {
          "name": "stderr",
          "output_type": "stream",
          "text": [
            "100%|██████████| 175/175 [00:09<00:00, 18.17it/s]\n"
          ]
        },
        {
          "name": "stdout",
          "output_type": "stream",
          "text": [
            "Finished processing link 433\n",
            "Failed to retrieve https://opulencehome.com/products/lucas-leather-chair: HTTPSConnectionPool(host='opulencehome.com', port=443): Max retries exceeded with url: /products/lucas-leather-chair (Caused by SSLError(SSLCertVerificationError(1, \"[SSL: CERTIFICATE_VERIFY_FAILED] certificate verify failed: Hostname mismatch, certificate is not valid for 'opulencehome.com'. (_ssl.c:1006)\")))\n",
            "Finished processing link 434\n",
            "Failed to retrieve https://www.mymoderndecor.com/sales@mymoderndecor.com/products/slim-bookcase-800923: HTTPSConnectionPool(host='www.mymoderndecor.com', port=443): Max retries exceeded with url: /sales@mymoderndecor.com/products/slim-bookcase-800923 (Caused by SSLError(SSLCertVerificationError(1, \"[SSL: CERTIFICATE_VERIFY_FAILED] certificate verify failed: Hostname mismatch, certificate is not valid for 'www.mymoderndecor.com'. (_ssl.c:1006)\")))\n",
            "Finished processing link 435\n",
            "Failed to retrieve https://circa60.com/products/mid-century-modern-walnut-hanging-floating-cabinet&text=Mid%20Century%20Modern%20Walnut%20HANGING%20%20/%20FLOATING%20CABINET: 404 Client Error: Not Found for url: https://circa60.com/products/mid-century-modern-walnut-hanging-floating-cabinet&text=Mid%20Century%20Modern%20Walnut%20HANGING%20%20/%20FLOATING%20CABINET\n",
            "Finished processing link 436\n",
            "Failed to retrieve https://www.stil.ie/products/butterfly-stool: HTTPSConnectionPool(host='www.stil.ie', port=443): Max retries exceeded with url: /products/butterfly-stool (Caused by NameResolutionError(\"<urllib3.connection.HTTPSConnection object at 0x00000226A76C3ED0>: Failed to resolve 'www.stil.ie' ([Errno 11002] getaddrinfo failed)\"))\n",
            "Finished processing link 437\n",
            "Failed to retrieve https://www.elanfurniturecorp.com/products/elan-furniture-port-indoor-60-bench%20via%20@//twitter.com/elanfurniture: HTTPSConnectionPool(host='www.elanfurniturecorp.com', port=443): Max retries exceeded with url: /products/elan-furniture-port-indoor-60-bench%20via%20@//twitter.com/elanfurniture (Caused by NameResolutionError(\"<urllib3.connection.HTTPSConnection object at 0x00000226A78F8E10>: Failed to resolve 'www.elanfurniturecorp.com' ([Errno 11001] getaddrinfo failed)\"))\n",
            "Finished processing link 438\n",
            "Failed to retrieve https://thecountryfurniture.com/products/sequoia: 404 Client Error: Not Found for url: https://thecountryfurniture.com/products/sequoia\n",
            "Finished processing link 439\n",
            "Successfully saved https://lamporia.com/products/tbl4229a\n",
            "Finished processing link 440\n",
            "Successfully saved https://reecefurniture.com/products/jonkoping-sofa\n"
          ]
        },
        {
          "name": "stderr",
          "output_type": "stream",
          "text": [
            "100%|██████████| 383/383 [00:15<00:00, 25.39it/s]\n"
          ]
        },
        {
          "name": "stdout",
          "output_type": "stream",
          "text": [
            "Finished processing link 441\n",
            "Successfully saved https://ulfertskids.com/products/rectangle-6\n",
            "Finished processing link 442\n",
            "Failed to retrieve https://www.turquoise.co.uk/collections/walnut/products/walnut-glass-dining-table-h1096: HTTPSConnectionPool(host='www.turquoise.co.uk', port=443): Max retries exceeded with url: /collections/walnut/products/walnut-glass-dining-table-h1096 (Caused by SSLError(SSLError(1, '[SSL: SSLV3_ALERT_HANDSHAKE_FAILURE] sslv3 alert handshake failure (_ssl.c:1006)')))\n",
            "Finished processing link 443\n",
            "Successfully saved https://www.thecurious.mx/collections/products/products/arcos-chair\n"
          ]
        },
        {
          "name": "stderr",
          "output_type": "stream",
          "text": [
            "100%|██████████| 51/51 [00:02<00:00, 23.79it/s]\n"
          ]
        },
        {
          "name": "stdout",
          "output_type": "stream",
          "text": [
            "Finished processing link 444\n",
            "Successfully saved https://www.prestige-affairs.com/products/wishbone-y-chair\n"
          ]
        },
        {
          "name": "stderr",
          "output_type": "stream",
          "text": [
            "100%|██████████| 423/423 [00:15<00:00, 27.17it/s]\n"
          ]
        },
        {
          "name": "stdout",
          "output_type": "stream",
          "text": [
            "Finished processing link 445\n",
            "Failed to retrieve https://www.patiocottage.com/collections/patio-chairs/products/back-pack-chair: HTTPSConnectionPool(host='www.patiocottage.com', port=443): Max retries exceeded with url: /collections/patio-chairs/products/back-pack-chair (Caused by SSLError(SSLError(1, '[SSL: SSLV3_ALERT_HANDSHAKE_FAILURE] sslv3 alert handshake failure (_ssl.c:1006)')))\n",
            "Finished processing link 446\n",
            "Successfully saved https://vanspecial.com/products/self-planner\n"
          ]
        },
        {
          "name": "stderr",
          "output_type": "stream",
          "text": [
            "100%|██████████| 181/181 [00:07<00:00, 24.00it/s]\n"
          ]
        },
        {
          "name": "stdout",
          "output_type": "stream",
          "text": [
            "Finished processing link 447\n",
            "Failed to retrieve https://www.smithmade.com.au/products/spargo-armchair: 404 Client Error: Not Found for url: https://www.smithmade.com.au/products/spargo-armchair\n",
            "Finished processing link 448\n",
            "Successfully saved https://www.wbjamieson.com/products/string-system\n"
          ]
        },
        {
          "name": "stderr",
          "output_type": "stream",
          "text": [
            "100%|██████████| 13/13 [00:00<00:00, 15.84it/s]\n"
          ]
        },
        {
          "name": "stdout",
          "output_type": "stream",
          "text": [
            "Finished processing link 449\n",
            "Failed to retrieve https://theoutdoorpatiostore.com/products/gazebo-8x8: HTTPSConnectionPool(host='theoutdoorpatiostore.com', port=443): Max retries exceeded with url: /products/gazebo-8x8 (Caused by ConnectTimeoutError(<urllib3.connection.HTTPSConnection object at 0x00000226ABB4E090>, 'Connection to theoutdoorpatiostore.com timed out. (connect timeout=None)'))\n",
            "Finished processing link 450\n",
            "Failed to retrieve https://www.eventsuber.com/products/resin-folding-chairs-vinyl-pad&text=1000%20lb.%20Capacity%20Resin%20Folding%20Chair%20w/%20Vinyl%20Padded%20Seat: HTTPSConnectionPool(host='www.eventsuber.com', port=443): Max retries exceeded with url: /products/resin-folding-chairs-vinyl-pad&text=1000%20lb.%20Capacity%20Resin%20Folding%20Chair%20w/%20Vinyl%20Padded%20Seat (Caused by SSLError(SSLError(1, '[SSL: SSLV3_ALERT_HANDSHAKE_FAILURE] sslv3 alert handshake failure (_ssl.c:1006)')))\n",
            "Finished processing link 451\n",
            "Successfully saved https://www.canvasinteriors.com/collections/rugs/products/lia\n"
          ]
        },
        {
          "name": "stderr",
          "output_type": "stream",
          "text": [
            "100%|██████████| 146/146 [00:06<00:00, 23.78it/s]\n"
          ]
        },
        {
          "name": "stdout",
          "output_type": "stream",
          "text": [
            "Finished processing link 452\n",
            "Failed to retrieve https://www.autonomousfurniture.com/collections/frontpage/products/pod11-1: 404 Client Error: Not Found for url: https://www.autonomousfurniture.com/collections/frontpage/products/pod11-1\n",
            "Finished processing link 453\n",
            "Failed to retrieve https://parliamentinteriors.com/products/accessories-and-decor: 404 Client Error: Not Found for url: https://parliamentinteriors.com/products/accessories-and-decor\n",
            "Finished processing link 454\n",
            "Successfully saved https://www.sunshinefurniture.com.au/products/albert-sofa\n"
          ]
        },
        {
          "name": "stderr",
          "output_type": "stream",
          "text": [
            "100%|██████████| 105/105 [00:05<00:00, 20.68it/s]\n"
          ]
        },
        {
          "name": "stdout",
          "output_type": "stream",
          "text": [
            "Finished processing link 455\n",
            "Failed to retrieve https://www.bbfurniturestore.co.uk/products/sareer-3000-pocket-sprung-mattress: HTTPSConnectionPool(host='www.bbfurniturestore.co.uk', port=443): Max retries exceeded with url: /products/sareer-3000-pocket-sprung-mattress (Caused by SSLError(SSLError(1, '[SSL: SSLV3_ALERT_HANDSHAKE_FAILURE] sslv3 alert handshake failure (_ssl.c:1006)')))\n",
            "Finished processing link 456\n",
            "Failed to retrieve https://baskdesign.com/collections/new-products/products/social-1: HTTPSConnectionPool(host='baskdesign.com', port=443): Max retries exceeded with url: /collections/new-products/products/social-1 (Caused by NewConnectionError('<urllib3.connection.HTTPSConnection object at 0x00000226A23D6550>: Failed to establish a new connection: [WinError 10061] No connection could be made because the target machine actively refused it'))\n",
            "Finished processing link 457\n",
            "Successfully saved https://elinahome.com/products/18-x-18-inch-satin-napkins-rhinestone-napkin-rings-party-supplies-christmas-decorations-wedding-birthday-baby-shower\n"
          ]
        },
        {
          "name": "stderr",
          "output_type": "stream",
          "text": [
            "100%|██████████| 259/259 [00:10<00:00, 24.33it/s]\n"
          ]
        },
        {
          "name": "stdout",
          "output_type": "stream",
          "text": [
            "Finished processing link 458\n",
            "Successfully saved https://finditstyleithome.com.au/products/dahlia-mirror-gold-1\n"
          ]
        },
        {
          "name": "stderr",
          "output_type": "stream",
          "text": [
            "100%|██████████| 168/168 [00:07<00:00, 23.45it/s]\n"
          ]
        },
        {
          "name": "stdout",
          "output_type": "stream",
          "text": [
            "Finished processing link 459\n",
            "Successfully saved https://medleyhome.com/products/ridge-accent-chair\n"
          ]
        },
        {
          "name": "stderr",
          "output_type": "stream",
          "text": [
            "100%|██████████| 290/290 [00:18<00:00, 15.52it/s]\n"
          ]
        },
        {
          "name": "stdout",
          "output_type": "stream",
          "text": [
            "Finished processing link 460\n",
            "Failed to retrieve https://www.modernisedliving.com.au/products/3-sets-tank-pots-grey: HTTPSConnectionPool(host='www.modernisedliving.com.au', port=443): Max retries exceeded with url: /products/3-sets-tank-pots-grey (Caused by NameResolutionError(\"<urllib3.connection.HTTPSConnection object at 0x000002269EDEA650>: Failed to resolve 'www.modernisedliving.com.au' ([Errno 11001] getaddrinfo failed)\"))\n",
            "Finished processing link 461\n",
            "Successfully saved https://shop.humblecrew.com/products/lucky-theory-metal-chair\n"
          ]
        },
        {
          "name": "stderr",
          "output_type": "stream",
          "text": [
            "100%|██████████| 85/85 [00:03<00:00, 23.28it/s]\n"
          ]
        },
        {
          "name": "stdout",
          "output_type": "stream",
          "text": [
            "Finished processing link 462\n",
            "Failed to retrieve https://www.simplyfurnishing.co.uk/products/4kids-1-door-desk-mobile-with-lemon-handles: HTTPSConnectionPool(host='www.simplyfurnishing.co.uk', port=443): Max retries exceeded with url: /products/4kids-1-door-desk-mobile-with-lemon-handles (Caused by NameResolutionError(\"<urllib3.connection.HTTPSConnection object at 0x00000226A1916C10>: Failed to resolve 'www.simplyfurnishing.co.uk' ([Errno 11001] getaddrinfo failed)\"))\n",
            "Finished processing link 463\n",
            "Failed to retrieve https://uniqwafurniture.com.au/collections/decorative-decor/products/bwindi-wall-art: 404 Client Error: Not Found for url: https://uniqwacollections.com.au/collections/decorative-decor/products/bwindi-wall-art\n",
            "Finished processing link 464\n",
            "Successfully saved https://woodshopfogoisland.ca/products/bertha-chair\n"
          ]
        },
        {
          "name": "stderr",
          "output_type": "stream",
          "text": [
            "100%|██████████| 194/194 [00:08<00:00, 23.33it/s]\n"
          ]
        },
        {
          "name": "stdout",
          "output_type": "stream",
          "text": [
            "Finished processing link 465\n",
            "Failed to retrieve https://profilesny.com/collections/art/products/bleach-scarf: 404 Client Error: Not Found for url: https://profilesny.com/collections/art/products/bleach-scarf\n",
            "Finished processing link 466\n",
            "Failed to retrieve https://www.hanaleyinteriors.co.uk/products/page/3/: HTTPSConnectionPool(host='www.hanaleyinteriors.co.uk', port=443): Max retries exceeded with url: /products/page/3/ (Caused by NameResolutionError(\"<urllib3.connection.HTTPSConnection object at 0x00000226A5528050>: Failed to resolve 'www.hanaleyinteriors.co.uk' ([Errno 11001] getaddrinfo failed)\"))\n",
            "Finished processing link 467\n",
            "Successfully saved https://www.thefurniturefactory.org.uk/products/warwick-dining-set\n"
          ]
        },
        {
          "name": "stderr",
          "output_type": "stream",
          "text": [
            "100%|██████████| 178/178 [00:08<00:00, 20.70it/s]\n"
          ]
        },
        {
          "name": "stdout",
          "output_type": "stream",
          "text": [
            "Finished processing link 468\n",
            "Failed to retrieve http://mollanbros.co.uk/products/page/4/: 404 Client Error: Not Found for url: https://mollanbros.co.uk/products/page/4\n",
            "Finished processing link 469\n",
            "Failed to retrieve https://atouchoffurniture.co.uk/products/alton-3-seat-sofa: 404 Client Error: Not Found for url: https://atouchoffurniture.co.uk/products/alton-3-seat-sofa\n",
            "Finished processing link 470\n",
            "Successfully saved https://tiger-oak.com/products/skovby-portable-bar\n"
          ]
        },
        {
          "name": "stderr",
          "output_type": "stream",
          "text": [
            "100%|██████████| 93/93 [00:03<00:00, 23.73it/s]\n"
          ]
        },
        {
          "name": "stdout",
          "output_type": "stream",
          "text": [
            "Finished processing link 471\n",
            "Successfully saved https://www.georgestreet.co.uk/products/e1-flush-3-light-ceiling-light/\n"
          ]
        },
        {
          "name": "stderr",
          "output_type": "stream",
          "text": [
            "100%|██████████| 630/630 [00:38<00:00, 16.53it/s]\n"
          ]
        },
        {
          "name": "stdout",
          "output_type": "stream",
          "text": [
            "Finished processing link 472\n",
            "Failed to retrieve https://www.needlerock.co.uk/products/chairs: 404 Client Error: Not Found for url: https://needlerock.co.uk/products/chairs\n",
            "Finished processing link 473\n",
            "Successfully saved https://jordansinteriors.ca/products/park-slope-desk\n"
          ]
        },
        {
          "name": "stderr",
          "output_type": "stream",
          "text": [
            "100%|██████████| 119/119 [00:04<00:00, 28.75it/s]\n"
          ]
        },
        {
          "name": "stdout",
          "output_type": "stream",
          "text": [
            "Finished processing link 474\n",
            "Successfully saved http://camerich-bd.com/products/\n"
          ]
        },
        {
          "name": "stderr",
          "output_type": "stream",
          "text": [
            "100%|██████████| 31/31 [00:01<00:00, 25.79it/s]\n"
          ]
        },
        {
          "name": "stdout",
          "output_type": "stream",
          "text": [
            "Finished processing link 475\n",
            "Successfully saved https://coastalhomecollective.com.au/products/wooden-tray\n",
            "Finished processing link 476\n",
            "Successfully saved https://bestfurniture.co.nz/products/linea-sideboard\n"
          ]
        },
        {
          "name": "stderr",
          "output_type": "stream",
          "text": [
            "100%|██████████| 236/236 [00:10<00:00, 22.58it/s]\n"
          ]
        },
        {
          "name": "stdout",
          "output_type": "stream",
          "text": [
            "Finished processing link 477\n",
            "Failed to retrieve https://www.imfurniturestore.com/products/sofa: HTTPSConnectionPool(host='www.imfurniturestore.com', port=443): Max retries exceeded with url: /products/sofa (Caused by NameResolutionError(\"<urllib3.connection.HTTPSConnection object at 0x00000226A5F636D0>: Failed to resolve 'www.imfurniturestore.com' ([Errno 11001] getaddrinfo failed)\"))\n",
            "Finished processing link 478\n",
            "Failed to retrieve https://pastoesales.com/products/vision-sideboard-5: HTTPSConnectionPool(host='pastoesales.com', port=443): Max retries exceeded with url: /products/vision-sideboard-5 (Caused by SSLError(SSLCertVerificationError(1, '[SSL: CERTIFICATE_VERIFY_FAILED] certificate verify failed: self-signed certificate (_ssl.c:1006)')))\n",
            "Finished processing link 479\n",
            "Failed to retrieve https://lexiconhome.com/products/h181000a70wh&via=&text=Chai%20Accent%20Chest%20w/%20Mirror%20Door: 404 Client Error: Not Found for url: https://lexiconhome.com/products/h181000a70wh&via=&text=Chai%20Accent%20Chest%20w/%20Mirror%20Door\n",
            "Finished processing link 480\n",
            "Failed to retrieve https://www.soleilcollective.com/collections/beds/products/driade-edward-i-double-panel-bed: HTTPSConnectionPool(host='www.soleilcollective.com', port=443): Max retries exceeded with url: /collections/beds/products/driade-edward-i-double-panel-bed (Caused by SSLError(SSLError(1, '[SSL: SSLV3_ALERT_HANDSHAKE_FAILURE] sslv3 alert handshake failure (_ssl.c:1006)')))\n",
            "Finished processing link 481\n",
            "Failed to retrieve https://www.valaray.com/collections/all/products/scandormi-sofa: HTTPSConnectionPool(host='www.valaray.com', port=443): Max retries exceeded with url: /collections/all/products/scandormi-sofa (Caused by SSLError(SSLError(1, '[SSL: SSLV3_ALERT_HANDSHAKE_FAILURE] sslv3 alert handshake failure (_ssl.c:1006)')))\n",
            "Finished processing link 482\n",
            "Failed to retrieve https://empirefurniture.co.nz/products/recliner-lounge-suite: HTTPSConnectionPool(host='empirefurniture.co.nz', port=443): Max retries exceeded with url: /products/recliner-lounge-suite (Caused by NameResolutionError(\"<urllib3.connection.HTTPSConnection object at 0x00000226A76C0690>: Failed to resolve 'empirefurniture.co.nz' ([Errno 11001] getaddrinfo failed)\"))\n",
            "Finished processing link 483\n",
            "Successfully saved https://adona.in/products/adona-adonica-fusion-king-bed-plywood\n"
          ]
        },
        {
          "name": "stderr",
          "output_type": "stream",
          "text": [
            "100%|██████████| 240/240 [00:09<00:00, 24.26it/s]\n"
          ]
        },
        {
          "name": "stdout",
          "output_type": "stream",
          "text": [
            "Finished processing link 484\n",
            "Failed to retrieve https://timleveson.shop/products/nico-sofa-1750-urban: HTTPSConnectionPool(host='timleveson.shop', port=443): Max retries exceeded with url: /products/nico-sofa-1750-urban (Caused by NameResolutionError(\"<urllib3.connection.HTTPSConnection object at 0x0000022699F93710>: Failed to resolve 'timleveson.shop' ([Errno 11001] getaddrinfo failed)\"))\n",
            "Finished processing link 485\n",
            "Successfully saved https://shop.gubi.com/products/epic-dining-table\n"
          ]
        },
        {
          "name": "stderr",
          "output_type": "stream",
          "text": [
            "100%|██████████| 552/552 [01:01<00:00,  8.98it/s]\n"
          ]
        },
        {
          "name": "stdout",
          "output_type": "stream",
          "text": [
            "Finished processing link 486\n",
            "Successfully saved https://nativelifestyle.co.uk/products/cons-cesar01\n"
          ]
        },
        {
          "name": "stderr",
          "output_type": "stream",
          "text": [
            "100%|██████████| 91/91 [00:03<00:00, 26.44it/s]\n"
          ]
        },
        {
          "name": "stdout",
          "output_type": "stream",
          "text": [
            "Finished processing link 487\n",
            "Failed to retrieve https://gibsonpatioshop.com/products/index.html: 404 Client Error: Not Found for url: https://www.gibsonpatioshop.com/products/index.html\n",
            "Finished processing link 488\n",
            "Failed to retrieve https://hoomefurniture.com/products/page/2/: HTTPSConnectionPool(host='hoomefurniture.com', port=443): Max retries exceeded with url: /products/page/2/ (Caused by NameResolutionError(\"<urllib3.connection.HTTPSConnection object at 0x00000226A18DE050>: Failed to resolve 'hoomefurniture.com' ([Errno 11001] getaddrinfo failed)\"))\n",
            "Finished processing link 489\n",
            "Failed to retrieve https://www.thenineschools.co.uk/collections/trunk/products/oriental-decorated-blue-trunk: 404 Client Error: Not Found for url: https://www.thenineschools.co.uk/collections/trunk/products/oriental-decorated-blue-trunk\n",
            "Finished processing link 490\n",
            "Failed to retrieve https://us.alexandrallewellyn.com/products/leaf: 404 Client Error: Not Found for url: https://alexandrallewellyn.com/products/backgammon/full-size-boards/leaf-backgammon-set/\n",
            "Finished processing link 491\n",
            "Failed to retrieve https://yourpatiostore.com/products/zara-loveseat: 404 Client Error: Not Found for url: https://yourpatiostore.com/products/zara-loveseat\n",
            "Finished processing link 492\n",
            "Successfully saved https://bohincstudio.com/collections/vases/products/jupiter-vase\n"
          ]
        },
        {
          "name": "stderr",
          "output_type": "stream",
          "text": [
            "100%|██████████| 326/326 [00:15<00:00, 20.72it/s]\n"
          ]
        },
        {
          "name": "stdout",
          "output_type": "stream",
          "text": [
            "Finished processing link 493\n",
            "Failed to retrieve https://austinleathergallerytx.com/products/: HTTPSConnectionPool(host='austinleathergallerytx.com', port=443): Max retries exceeded with url: /products/ (Caused by NameResolutionError(\"<urllib3.connection.HTTPSConnection object at 0x00000226A768E390>: Failed to resolve 'austinleathergallerytx.com' ([Errno 11002] getaddrinfo failed)\"))\n",
            "Finished processing link 494\n",
            "Failed to retrieve https://www.idealfurnishings.co.uk/products/amsterdam-double-bedstead: 404 Client Error: Not Found for url: https://idealfurnishings.co.uk/products/amsterdam-double-bedstead\n",
            "Finished processing link 495\n",
            "Failed to retrieve https://www.villalane.com.au/products/gift-card: HTTPSConnectionPool(host='www.villalane.com.au', port=443): Max retries exceeded with url: /products/gift-card (Caused by ConnectTimeoutError(<urllib3.connection.HTTPSConnection object at 0x00000226BC2AF750>, 'Connection to www.villalane.com.au timed out. (connect timeout=None)'))\n",
            "Finished processing link 496\n",
            "Failed to retrieve https://ingoodcompany.com.au/collections/new-arrivals/products/kuru-bowl-ceramic-37cm-grey: 404 Client Error: Not Found for url: https://ingoodcompany.com.au/collections/new-arrivals/products/kuru-bowl-ceramic-37cm-grey\n",
            "Finished processing link 497\n",
            "Failed to retrieve https://rutherford-romaguera2611.myshopify.com/products/teddy-rug%20via%20@//twitter.com/undergrndmedia: 404 Client Error: Not Found for url: https://rutherford-romaguera2611.myshopify.com/products/teddy-rug%20via%20@//twitter.com/undergrndmedia\n",
            "Finished processing link 498\n",
            "Failed to retrieve http://olgunstore.com/en/products/sleeping-products/toppers/: 404 Client Error: Not Found for url: http://olgunstore.com/en/products/sleeping-products/toppers/\n",
            "Finished processing link 499\n",
            "Successfully saved https://www.saladinostyle.com/products/nature\n"
          ]
        },
        {
          "name": "stderr",
          "output_type": "stream",
          "text": [
            "100%|██████████| 286/286 [00:10<00:00, 27.86it/s]\n"
          ]
        },
        {
          "name": "stdout",
          "output_type": "stream",
          "text": [
            "Finished processing link 500\n",
            "Successfully saved https://finelinefurnitureandaccessories.com/products/colosso-woven-neoprene-hand-knotted-basket\n"
          ]
        },
        {
          "name": "stderr",
          "output_type": "stream",
          "text": [
            "100%|██████████| 173/173 [00:07<00:00, 23.60it/s]\n"
          ]
        },
        {
          "name": "stdout",
          "output_type": "stream",
          "text": [
            "Finished processing link 501\n",
            "Failed to retrieve https://bungalowfurniture.com/products/bath-mat: 404 Client Error: Not Found for url: https://bungalowfurniture.com/products/bath-mat\n",
            "Finished processing link 502\n",
            "Failed to retrieve https://ajnaliving.com/products/provence-sofa: HTTPSConnectionPool(host='ajnaliving.com', port=443): Max retries exceeded with url: /products/provence-sofa (Caused by SSLError(SSLCertVerificationError(1, \"[SSL: CERTIFICATE_VERIFY_FAILED] certificate verify failed: Hostname mismatch, certificate is not valid for 'ajnaliving.com'. (_ssl.c:1006)\")))\n",
            "Finished processing link 503\n",
            "Successfully saved https://camerichseattle.com/products/rugs/\n"
          ]
        },
        {
          "name": "stderr",
          "output_type": "stream",
          "text": [
            "100%|██████████| 80/80 [00:06<00:00, 11.94it/s]\n"
          ]
        },
        {
          "name": "stdout",
          "output_type": "stream",
          "text": [
            "Finished processing link 504\n",
            "Failed to retrieve https://www.countrytime.ca/products/: 404 Client Error: Not Found for url: https://countrytime.ca/products/\n",
            "Finished processing link 505\n",
            "Failed to retrieve https://domedeco.us/categories/639951/carpets/products/zu140200{slash}an/woolen-carpet-_singlequotes_zubair_singlequotes_: 404 Client Error: Not Found for url: https://domedeco.us/categories/639951/carpets/products/zu140200%7Bslash%7Dan/woolen-carpet-_singlequotes_zubair_singlequotes_\n",
            "Finished processing link 506\n",
            "Successfully saved https://donar.si/products/collodi\n"
          ]
        },
        {
          "name": "stderr",
          "output_type": "stream",
          "text": [
            "100%|██████████| 165/165 [00:07<00:00, 22.74it/s]\n"
          ]
        },
        {
          "name": "stdout",
          "output_type": "stream",
          "text": [
            "Finished processing link 507\n",
            "Failed to retrieve https://foldsmart.co.uk/collections/frontpage/products/deep-double-bookcase: HTTPSConnectionPool(host='foldsmart.co.uk', port=443): Max retries exceeded with url: /collections/frontpage/products/deep-double-bookcase (Caused by SSLError(SSLCertVerificationError(1, \"[SSL: CERTIFICATE_VERIFY_FAILED] certificate verify failed: Hostname mismatch, certificate is not valid for 'foldsmart.co.uk'. (_ssl.c:1006)\")))\n",
            "Finished processing link 508\n",
            "Failed to retrieve https://foreverfurniture.ca/products/living/palliser-furniture/india-leather-sofa: 404 Client Error: Not Found for url: https://foreverfurniture.ca/products/living/palliser-furniture/india-leather-sofa\n",
            "Finished processing link 509\n",
            "Successfully saved https://www.gblfurniture.com/products/provence-1door-cabinet\n"
          ]
        },
        {
          "name": "stderr",
          "output_type": "stream",
          "text": [
            "100%|██████████| 319/319 [00:12<00:00, 24.62it/s]\n"
          ]
        },
        {
          "name": "stdout",
          "output_type": "stream",
          "text": [
            "Finished processing link 510\n",
            "Failed to retrieve https://sigmanmills.com/products/gift-card: 404 Client Error: Not Found for url: https://www.sigmanmills.com/products/gift-card\n",
            "Finished processing link 511\n",
            "Successfully saved https://www.thechesterfieldshop.com/products/sofas/\n"
          ]
        },
        {
          "name": "stderr",
          "output_type": "stream",
          "text": [
            "100%|██████████| 212/212 [00:20<00:00, 10.20it/s]\n"
          ]
        },
        {
          "name": "stdout",
          "output_type": "stream",
          "text": [
            "Finished processing link 512\n",
            "Successfully saved https://westbridgefurniturestoke.co.uk/products/view/890\n"
          ]
        },
        {
          "name": "stderr",
          "output_type": "stream",
          "text": [
            "100%|██████████| 96/96 [00:05<00:00, 18.78it/s]\n"
          ]
        },
        {
          "name": "stdout",
          "output_type": "stream",
          "text": [
            "Finished processing link 513\n",
            "Failed to retrieve https://zulufurniture.com/products/posh: HTTPSConnectionPool(host='zulufurniture.com', port=443): Max retries exceeded with url: /products/posh (Caused by NameResolutionError(\"<urllib3.connection.HTTPSConnection object at 0x00000226A75CAB90>: Failed to resolve 'zulufurniture.com' ([Errno 11001] getaddrinfo failed)\"))\n",
            "Finished processing link 514\n",
            "Successfully saved https://www.hopperstudio.com/products/sofia-nightstand\n",
            "Finished processing link 515\n",
            "Failed to retrieve https://furnituremaddness.com/products/l-shape-leather-lounge: HTTPSConnectionPool(host='furnituremaddness.com', port=443): Max retries exceeded with url: /products/l-shape-leather-lounge (Caused by NameResolutionError(\"<urllib3.connection.HTTPSConnection object at 0x00000226A26269D0>: Failed to resolve 'furnituremaddness.com' ([Errno 11001] getaddrinfo failed)\"))\n",
            "Finished processing link 516\n",
            "Failed to retrieve https://suncoastsitra.shoptiqstore.com.sg/products/footstool&media=https://cdn.store-assets.com/s/257913/i/8659911_480x.jpeg&description=Footstool: HTTPSConnectionPool(host='suncoastsitra.shoptiqstore.com.sg', port=443): Max retries exceeded with url: /products/footstool&media=https://cdn.store-assets.com/s/257913/i/8659911_480x.jpeg&description=Footstool (Caused by NameResolutionError(\"<urllib3.connection.HTTPSConnection object at 0x00000226A2608A90>: Failed to resolve 'suncoastsitra.shoptiqstore.com.sg' ([Errno 11001] getaddrinfo failed)\"))\n",
            "Finished processing link 517\n",
            "Failed to retrieve https://www.therejectshop.sg/products/page/3: 404 Client Error: Not Found for url: https://www.therejectshop.sg/products/page/3\n",
            "Finished processing link 518\n",
            "Successfully saved https://www.angliarecliners.co.uk/products/swan/\n"
          ]
        },
        {
          "name": "stderr",
          "output_type": "stream",
          "text": [
            "100%|██████████| 100/100 [00:04<00:00, 23.68it/s]\n"
          ]
        },
        {
          "name": "stdout",
          "output_type": "stream",
          "text": [
            "Finished processing link 519\n",
            "Failed to retrieve https://www.centralliving.co.uk/products/vik-desk-chair: 404 Client Error: Not Found for url: https://www.centralliving.co.uk/products/vik-desk-chair\n",
            "Finished processing link 520\n",
            "Successfully saved http://www.furnimax.co.uk/products/more-sleep-cadiz-double-complete-set/\n"
          ]
        },
        {
          "name": "stderr",
          "output_type": "stream",
          "text": [
            "100%|██████████| 60/60 [00:02<00:00, 22.20it/s]\n"
          ]
        },
        {
          "name": "stdout",
          "output_type": "stream",
          "text": [
            "Finished processing link 521\n",
            "Failed to retrieve http://www.makebuildmend.co.uk/products/: HTTPConnectionPool(host='www.makebuildmend.co.uk', port=80): Max retries exceeded with url: /products/ (Caused by NameResolutionError(\"<urllib3.connection.HTTPConnection object at 0x00000226A26269D0>: Failed to resolve 'www.makebuildmend.co.uk' ([Errno 11001] getaddrinfo failed)\"))\n",
            "Finished processing link 522\n",
            "Failed to retrieve https://headandhaft.co.uk/products/tir: HTTPSConnectionPool(host='headandhaft.co.uk', port=443): Max retries exceeded with url: /products/tir (Caused by SSLError(SSLCertVerificationError(1, \"[SSL: CERTIFICATE_VERIFY_FAILED] certificate verify failed: Hostname mismatch, certificate is not valid for 'headandhaft.co.uk'. (_ssl.c:1006)\")))\n",
            "Finished processing link 523\n",
            "Successfully saved https://hilaryandflo.co.uk/products/nice-print\n",
            "Finished processing link 524\n",
            "Successfully saved https://pepegarden.co.uk/products/erica-park-bench\n"
          ]
        },
        {
          "name": "stderr",
          "output_type": "stream",
          "text": [
            "100%|██████████| 462/462 [00:44<00:00, 10.34it/s]\n"
          ]
        },
        {
          "name": "stdout",
          "output_type": "stream",
          "text": [
            "Finished processing link 525\n",
            "Failed to retrieve https://pinchdesign.co.uk/products/emil: HTTPSConnectionPool(host='pinchdesign.co.uk', port=443): Max retries exceeded with url: /products/emil (Caused by NameResolutionError(\"<urllib3.connection.HTTPSConnection object at 0x00000226A7363850>: Failed to resolve 'pinchdesign.co.uk' ([Errno 11001] getaddrinfo failed)\"))\n",
            "Finished processing link 526\n",
            "Failed to retrieve https://www.sartra.co.uk/products/beaufort-large-oak-tv-unit: HTTPSConnectionPool(host='www.sartra.co.uk', port=443): Max retries exceeded with url: /products/beaufort-large-oak-tv-unit (Caused by SSLError(SSLError(1, '[SSL: SSLV3_ALERT_HANDSHAKE_FAILURE] sslv3 alert handshake failure (_ssl.c:1006)')))\n",
            "Finished processing link 527\n",
            "Successfully saved https://shannonsales.co.uk/products/special-offers/special-offers-and-sale-items/\n"
          ]
        },
        {
          "name": "stderr",
          "output_type": "stream",
          "text": [
            "100%|██████████| 47/47 [00:01<00:00, 27.90it/s]\n"
          ]
        },
        {
          "name": "stdout",
          "output_type": "stream",
          "text": [
            "Finished processing link 528\n",
            "Successfully saved https://settlehome.co.uk/products/double-pair-of-triple-pinch-pleat-curtains-in-zoffany\n"
          ]
        },
        {
          "name": "stderr",
          "output_type": "stream",
          "text": [
            "100%|██████████| 97/97 [00:05<00:00, 18.22it/s]\n"
          ]
        },
        {
          "name": "stdout",
          "output_type": "stream",
          "text": [
            "Finished processing link 529\n",
            "Successfully saved https://www.simplyhammocks.co.uk/collections/new-products/products/denim-hammock\n"
          ]
        },
        {
          "name": "stderr",
          "output_type": "stream",
          "text": [
            "100%|██████████| 244/244 [00:12<00:00, 19.22it/s]\n"
          ]
        },
        {
          "name": "stdout",
          "output_type": "stream",
          "text": [
            "Finished processing link 530\n",
            "Failed to retrieve https://www.solidoakfurniture.co.uk/products/beds.html: HTTPSConnectionPool(host='www.solidoakfurniture.co.uk', port=443): Max retries exceeded with url: /products/beds.html (Caused by SSLError(SSLCertVerificationError(1, \"[SSL: CERTIFICATE_VERIFY_FAILED] certificate verify failed: Hostname mismatch, certificate is not valid for 'www.solidoakfurniture.co.uk'. (_ssl.c:1006)\")))\n",
            "Finished processing link 531\n",
            "Successfully saved https://tiffanyjayne.co.uk/products/small-hooks\n"
          ]
        },
        {
          "name": "stderr",
          "output_type": "stream",
          "text": [
            "100%|██████████| 109/109 [00:03<00:00, 27.31it/s]\n"
          ]
        },
        {
          "name": "stdout",
          "output_type": "stream",
          "text": [
            "Finished processing link 532\n",
            "Failed to retrieve https://www.whytesofcrossgar.co.uk/products/otto-accent-chair: 404 Client Error: Not Found for url: https://www.whytesofcrossgar.co.uk/products/otto-accent-chair\n",
            "Finished processing link 533\n",
            "Failed to retrieve https://glenwoodfurnishings.co.uk/collections/dining-room/products/cambridge-dining-set: HTTPSConnectionPool(host='glenwoodfurnishings.co.uk', port=443): Max retries exceeded with url: /collections/dining-room/products/cambridge-dining-set (Caused by SSLError(SSLCertVerificationError(1, \"[SSL: CERTIFICATE_VERIFY_FAILED] certificate verify failed: Hostname mismatch, certificate is not valid for 'glenwoodfurnishings.co.uk'. (_ssl.c:1006)\")))\n",
            "Finished processing link 534\n",
            "Failed to retrieve https://furniturebylauren.co.uk/products/mayfair-bedroom/: 404 Client Error: Not Found for url: https://furniturebylauren.co.uk/products/mayfair-bedroom/\n",
            "Finished processing link 535\n",
            "Successfully saved https://thefurniture-house.co.uk/products/new-grey-recliner-sofa\n"
          ]
        },
        {
          "name": "stderr",
          "output_type": "stream",
          "text": [
            "100%|██████████| 1/1 [00:00<00:00, 17.05it/s]"
          ]
        },
        {
          "name": "stdout",
          "output_type": "stream",
          "text": [
            "Finished processing link 536\n"
          ]
        },
        {
          "name": "stderr",
          "output_type": "stream",
          "text": [
            "\n"
          ]
        },
        {
          "name": "stdout",
          "output_type": "stream",
          "text": [
            "Failed to retrieve https://lloydloom-uk.co.uk/products/ellwood: 404 Client Error: Not Found for url: https://lloydloom-uk.co.uk/products/ellwood\n",
            "Finished processing link 537\n",
            "Successfully saved https://www.dillamores.co.uk/products/claremont-two-seater-sherborne/\n",
            "Finished processing link 538\n",
            "Failed to retrieve https://www.royalcraft.co.uk/products/ascot-shed-2: ('Connection aborted.', RemoteDisconnected('Remote end closed connection without response'))\n",
            "Finished processing link 539\n",
            "Failed to retrieve https://www.fireandco.co.uk/products/fire: 404 Client Error: Not Found for url: https://www.cointeriors.co.uk/products/fire\n",
            "Finished processing link 540\n",
            "Successfully saved https://www.askewsfurniture.co.uk/products/disposal-of-old-mattress\n"
          ]
        },
        {
          "name": "stderr",
          "output_type": "stream",
          "text": [
            "100%|██████████| 101/101 [00:04<00:00, 21.81it/s]\n"
          ]
        },
        {
          "name": "stdout",
          "output_type": "stream",
          "text": [
            "Finished processing link 541\n",
            "Failed to retrieve https://www.theattikstannes.co.uk/products/stunning-mid-century-vintage-teak-portwood-sideboard-credenza-1205: 404 Client Error: Not Found for url: https://www.theattikstannes.co.uk/products/stunning-mid-century-vintage-teak-portwood-sideboard-credenza-1205\n",
            "Finished processing link 542\n",
            "Failed to retrieve http://andywilx.co.uk/collections/cushions/products/dreaming-cushion: 404 Client Error: Not Found for url: http://andywilx.co.uk/collections/cushions/products/dreaming-cushion\n",
            "Finished processing link 543\n",
            "Failed to retrieve https://www.bridgnorthfurniture.co.uk/products/verona-chair: 404 Client Error: Not Found for url: https://www.bridgnorthfurniture.co.uk/products/verona-chair\n",
            "Finished processing link 544\n",
            "Successfully saved https://britishhomeinteriors.co.uk/products/mirrored-fireplace\n",
            "Finished processing link 545\n",
            "Successfully saved http://davidmoura.co.uk/products/eight-light-antler-chandelier\n",
            "Finished processing link 546\n",
            "Successfully saved https://www.theurbaneditions.com/products/marston-wide-desk-on-minimalist-square-legs\n"
          ]
        },
        {
          "name": "stderr",
          "output_type": "stream",
          "text": [
            "100%|██████████| 316/316 [00:12<00:00, 25.95it/s]\n"
          ]
        },
        {
          "name": "stdout",
          "output_type": "stream",
          "text": [
            "Finished processing link 547\n",
            "Failed to retrieve http://furniture4lettings.co.uk/../products/sofas/: 404 Client Error: Not Found for url: https://lets-furnish.co.uk/products/sofas\n",
            "Finished processing link 548\n",
            "Failed to retrieve https://furnituredirectonline.co.uk/products/page/2/: 404 Client Error: Not Found for url: https://furnituredirectonline.co.uk/products/page/2/\n",
            "Finished processing link 549\n",
            "Successfully saved https://furniturevilla.co.uk/products/living-room-furniture/desk\n"
          ]
        },
        {
          "name": "stderr",
          "output_type": "stream",
          "text": [
            "100%|██████████| 208/208 [00:08<00:00, 25.56it/s]\n"
          ]
        },
        {
          "name": "stdout",
          "output_type": "stream",
          "text": [
            "Finished processing link 550\n",
            "Successfully saved https://www.grandadsshedbrigg.co.uk/products/living/east-indies-living/\n"
          ]
        },
        {
          "name": "stderr",
          "output_type": "stream",
          "text": [
            "100%|██████████| 153/153 [00:07<00:00, 21.06it/s]\n"
          ]
        },
        {
          "name": "stdout",
          "output_type": "stream",
          "text": [
            "Finished processing link 551\n",
            "Successfully saved https://hanchicsfurniture.co.uk/products/stag-f-b-sideboard\n"
          ]
        },
        {
          "name": "stderr",
          "output_type": "stream",
          "text": [
            "100%|██████████| 78/78 [00:03<00:00, 21.46it/s]\n"
          ]
        },
        {
          "name": "stdout",
          "output_type": "stream",
          "text": [
            "Finished processing link 552\n",
            "Failed to retrieve http://imaginexfurniture.uk/collections/sarah/products/sarah-grey-birch-italian-coffee-table: HTTPConnectionPool(host='imaginexfurniture.uk', port=80): Max retries exceeded with url: /collections/sarah/products/sarah-grey-birch-italian-coffee-table (Caused by NameResolutionError(\"<urllib3.connection.HTTPConnection object at 0x00000226A5E1ECD0>: Failed to resolve 'imaginexfurniture.uk' ([Errno 11001] getaddrinfo failed)\"))\n",
            "Finished processing link 553\n",
            "Failed to retrieve https://limesinteriors.co.uk/collections/popular-items/products/abree-lamp: HTTPSConnectionPool(host='limesinteriors.co.uk', port=443): Max retries exceeded with url: /collections/popular-items/products/abree-lamp (Caused by NameResolutionError(\"<urllib3.connection.HTTPSConnection object at 0x00000226A53EA090>: Failed to resolve 'limesinteriors.co.uk' ([Errno 11001] getaddrinfo failed)\"))\n",
            "Finished processing link 554\n",
            "Failed to retrieve http://m-edition.co.uk/products/ch103-sofa: HTTPConnectionPool(host='m-edition.co.uk', port=80): Max retries exceeded with url: /products/ch103-sofa (Caused by NameResolutionError(\"<urllib3.connection.HTTPConnection object at 0x00000226A47FD450>: Failed to resolve 'm-edition.co.uk' ([Errno 11001] getaddrinfo failed)\"))\n",
            "Finished processing link 555\n",
            "Failed to retrieve http://macquillanhome.co.uk/products/dressing-table-and-mirror-mqfn187.html: 404 Client Error: Not Found for url: http://macquillanhome.co.uk/products/dressing-table-and-mirror-mqfn187.html\n",
            "Finished processing link 556\n",
            "Successfully saved https://www.nabisottomanfurniture.co.uk/products/chesterfield-diamante-bed-frame\n"
          ]
        },
        {
          "name": "stderr",
          "output_type": "stream",
          "text": [
            "100%|██████████| 101/101 [00:04<00:00, 22.87it/s]\n"
          ]
        },
        {
          "name": "stdout",
          "output_type": "stream",
          "text": [
            "Finished processing link 557\n",
            "Failed to retrieve https://paulcaseboutique.co.uk/products/spyder-dining-chair: HTTPSConnectionPool(host='paulcaseboutique.co.uk', port=443): Max retries exceeded with url: /products/spyder-dining-chair (Caused by NameResolutionError(\"<urllib3.connection.HTTPSConnection object at 0x00000226ABB96590>: Failed to resolve 'paulcaseboutique.co.uk' ([Errno 11001] getaddrinfo failed)\"))\n",
            "Finished processing link 558\n",
            "Successfully saved https://www.poppiesfurnituredirect.co.uk/apps/webstore/products/show/5373703\n",
            "Finished processing link 559\n",
            "Successfully saved https://www.reckageathome.co.uk/products/re014\n"
          ]
        },
        {
          "name": "stderr",
          "output_type": "stream",
          "text": [
            "100%|██████████| 5/5 [00:00<00:00, 16.97it/s]\n"
          ]
        },
        {
          "name": "stdout",
          "output_type": "stream",
          "text": [
            "Finished processing link 560\n",
            "Failed to retrieve https://rotherwoodfurniture.com/products/silverton-135cm-bedstead: HTTPSConnectionPool(host='rotherwoodfurniture.com', port=443): Max retries exceeded with url: /products/silverton-135cm-bedstead (Caused by SSLError(SSLCertVerificationError(1, \"[SSL: CERTIFICATE_VERIFY_FAILED] certificate verify failed: Hostname mismatch, certificate is not valid for 'rotherwoodfurniture.com'. (_ssl.c:1006)\")))\n",
            "Finished processing link 561\n",
            "Failed to retrieve https://www.search4furniture.com/products/ritz-bed: HTTPSConnectionPool(host='www.search4furniture.com', port=443): Max retries exceeded with url: /products/ritz-bed (Caused by ConnectTimeoutError(<urllib3.connection.HTTPSConnection object at 0x00000226ABBB3750>, 'Connection to www.search4furniture.com timed out. (connect timeout=None)'))\n",
            "Finished processing link 562\n",
            "Failed to retrieve https://shop4sofas.co.uk/products/rye: HTTPSConnectionPool(host='shop4sofas.co.uk', port=443): Max retries exceeded with url: /products/rye (Caused by SSLError(SSLCertVerificationError(1, \"[SSL: CERTIFICATE_VERIFY_FAILED] certificate verify failed: Hostname mismatch, certificate is not valid for 'shop4sofas.co.uk'. (_ssl.c:1006)\")))\n",
            "Finished processing link 563\n",
            "Failed to retrieve https://www.simplyhomeinteriors.co.uk/products/wiemann-luxor: 404 Client Error: Not Found for url: https://www.simplyhomeinteriors.co.uk/products/wiemann-luxor\n",
            "Finished processing link 564\n",
            "Failed to retrieve http://www.sjdfurniture.co.uk/products/: HTTPConnectionPool(host='www.sjdfurniture.co.uk', port=80): Max retries exceeded with url: /products/ (Caused by NameResolutionError(\"<urllib3.connection.HTTPConnection object at 0x00000226ABBB3C90>: Failed to resolve 'www.sjdfurniture.co.uk' ([Errno 11001] getaddrinfo failed)\"))\n",
            "Finished processing link 565\n",
            "Successfully saved https://thedorsetfurniturecompany.co.uk/products/arctic-white-high-gloss-150cm-shelf\n",
            "Finished processing link 566\n",
            "Failed to retrieve http://thefurnitureshopblackhall.co.uk/products/: HTTPConnectionPool(host='thefurnitureshopblackhall.co.uk', port=80): Max retries exceeded with url: /products/ (Caused by NameResolutionError(\"<urllib3.connection.HTTPConnection object at 0x00000226A594E110>: Failed to resolve 'thefurnitureshopblackhall.co.uk' ([Errno 11001] getaddrinfo failed)\"))\n",
            "Finished processing link 567\n",
            "Failed to retrieve https://www.tobychairs.com/products/toby-table-oak: HTTPSConnectionPool(host='www.tobychairs.com', port=443): Max retries exceeded with url: /products/toby-table-oak (Caused by NameResolutionError(\"<urllib3.connection.HTTPSConnection object at 0x00000226A256F390>: Failed to resolve 'www.tobychairs.com' ([Errno 11001] getaddrinfo failed)\"))\n",
            "Finished processing link 568\n",
            "Successfully saved https://www.littletulip.com/products/set-200-marble-6\n"
          ]
        },
        {
          "name": "stderr",
          "output_type": "stream",
          "text": [
            "100%|██████████| 285/285 [00:10<00:00, 27.13it/s]\n"
          ]
        },
        {
          "name": "stdout",
          "output_type": "stream",
          "text": [
            "Finished processing link 569\n",
            "Failed to retrieve https://uniquehomefurnishing.co.uk/products/hzh330: 404 Client Error: Not Found for url: https://uniquehomefurnishing.co.uk/products/hzh330\n",
            "Finished processing link 570\n",
            "Successfully saved https://urbansize.co.uk/products/hallway-tidy\n"
          ]
        },
        {
          "name": "stderr",
          "output_type": "stream",
          "text": [
            "100%|██████████| 84/84 [00:03<00:00, 21.42it/s]\n"
          ]
        },
        {
          "name": "stdout",
          "output_type": "stream",
          "text": [
            "Finished processing link 571\n",
            "Failed to retrieve https://www.modernfurnituredeals.co.uk/products/ovo: 404 Client Error: Not Found for url: https://www.modernfurnituredeals.co.uk/products/ovo\n",
            "Finished processing link 572\n",
            "Successfully saved https://www.abowed.co.uk/products/oak-four-poster-bed\n"
          ]
        },
        {
          "name": "stderr",
          "output_type": "stream",
          "text": [
            "100%|██████████| 86/86 [00:03<00:00, 23.03it/s]\n"
          ]
        },
        {
          "name": "stdout",
          "output_type": "stream",
          "text": [
            "Finished processing link 573\n",
            "Failed to retrieve https://www.peterboroughreclinercentre.co.uk/products/reno-chair-with-footstool: HTTPSConnectionPool(host='www.peterboroughreclinercentre.co.uk', port=443): Max retries exceeded with url: /products/reno-chair-with-footstool (Caused by SSLError(SSLCertVerificationError(1, \"[SSL: CERTIFICATE_VERIFY_FAILED] certificate verify failed: Hostname mismatch, certificate is not valid for 'www.peterboroughreclinercentre.co.uk'. (_ssl.c:1006)\")))\n",
            "Finished processing link 574\n",
            "Failed to retrieve https://outletbarn.co.uk/collections/corner-sofas/products/ellena-recliner-corner-group-brown-only-limited-stock: 404 Client Error: Not Found for url: https://outletbarn.co.uk/collections/corner-sofas/products/ellena-recliner-corner-group-brown-only-limited-stock\n",
            "Finished processing link 575\n",
            "Failed to retrieve https://www.oaktreeupholstery.co.uk/products/double-headboard-b-fabric: 404 Client Error: Not Found for url: https://www.oaktreeupholstery.co.uk/products/double-headboard-b-fabric\n",
            "Finished processing link 576\n",
            "Failed to retrieve https://www.rightprice.co.uk/collections/all/products/alexis: 404 Client Error: Not Found for url: https://www.rightprice.co.uk/collections/all/products/alexis\n",
            "Finished processing link 577\n",
            "Failed to retrieve https://www.sheridaninteriors.co.uk/products/celine-fabric-bed: HTTPSConnectionPool(host='www.sheridaninteriors.co.uk', port=443): Max retries exceeded with url: /products/celine-fabric-bed (Caused by SSLError(SSLCertVerificationError(1, \"[SSL: CERTIFICATE_VERIFY_FAILED] certificate verify failed: Hostname mismatch, certificate is not valid for 'www.sheridaninteriors.co.uk'. (_ssl.c:1006)\")))\n",
            "Finished processing link 578\n",
            "Failed to retrieve https://www.chattelsfurniture.co.uk/products/bedside-table-two-drawers: HTTPSConnectionPool(host='www.chattelsfurniture.co.uk', port=443): Max retries exceeded with url: /products/bedside-table-two-drawers (Caused by SSLError(SSLCertVerificationError(1, '[SSL: CERTIFICATE_VERIFY_FAILED] certificate verify failed: self-signed certificate (_ssl.c:1006)')))\n",
            "Finished processing link 579\n",
            "Failed to retrieve https://www.maisonandgarden.co.uk/products/28cm-solar-ball: 404 Client Error: Not Found for url: https://www.maisonandgarden.co.uk/products/28cm-solar-ball\n",
            "Finished processing link 580\n",
            "Failed to retrieve https://igigishop.co.uk/products/cotton-rug: HTTPSConnectionPool(host='igigishop.co.uk', port=443): Max retries exceeded with url: /products/cotton-rug (Caused by SSLError(SSLCertVerificationError(1, \"[SSL: CERTIFICATE_VERIFY_FAILED] certificate verify failed: Hostname mismatch, certificate is not valid for 'igigishop.co.uk'. (_ssl.c:1006)\")))\n",
            "Finished processing link 581\n",
            "Failed to retrieve https://divine-interiors.co.uk/products/sofa-deposit: HTTPSConnectionPool(host='divine-interiors.co.uk', port=443): Max retries exceeded with url: /products/sofa-deposit (Caused by NameResolutionError(\"<urllib3.connection.HTTPSConnection object at 0x00000226A1986910>: Failed to resolve 'divine-interiors.co.uk' ([Errno 11001] getaddrinfo failed)\"))\n",
            "Finished processing link 582\n",
            "Failed to retrieve https://shackletonsretail.co.uk/products/: 404 Client Error: Not Found for url: https://www.shackletonsretail.co.uk/products/\n",
            "Finished processing link 583\n",
            "Failed to retrieve https://auburnfox.co.uk/products/iron-and-leather-adjustable-stool: 404 Client Error: Not Found for url: https://www.auburnfox.co.uk/products/iron-and-leather-adjustable-stool\n",
            "Finished processing link 584\n",
            "Failed to retrieve https://www.decoframe.co.uk/products/: 404 Client Error: Not Found for url: https://www.decoframe.co.uk/products/\n",
            "Finished processing link 585\n",
            "Failed to retrieve https://snugathome.co.uk/products/eiffel-dining-chair: HTTPSConnectionPool(host='snugathome.co.uk', port=443): Max retries exceeded with url: /products/eiffel-dining-chair (Caused by NameResolutionError(\"<urllib3.connection.HTTPSConnection object at 0x00000226A78E2650>: Failed to resolve 'snugathome.co.uk' ([Errno 11001] getaddrinfo failed)\"))\n",
            "Finished processing link 586\n",
            "Failed to retrieve https://ashtonandcoleman.co.uk/products/tables/lamp-table: 403 Client Error:  for url: https://ashtonandcoleman.co.uk/products/tables/lamp-table\n",
            "Finished processing link 587\n",
            "Successfully saved https://rusticland.co.uk/products/industrial-2x-handmade-x-dining-table-bench-frame-steel-large-table-pedestal-legs\n"
          ]
        },
        {
          "name": "stderr",
          "output_type": "stream",
          "text": [
            "100%|██████████| 264/264 [00:12<00:00, 21.12it/s]\n"
          ]
        },
        {
          "name": "stdout",
          "output_type": "stream",
          "text": [
            "Finished processing link 588\n",
            "Failed to retrieve https://www.quaysideinteriors.co.uk/products/alexandra-bed-king: 404 Client Error: Not Found for url: https://www.quaysideinteriors.co.uk/products/alexandra-bed-king\n",
            "Finished processing link 589\n",
            "Failed to retrieve https://alidasa.co.uk/products/terra-6-3-drawer-pine-white: HTTPSConnectionPool(host='alidasa.co.uk', port=443): Max retries exceeded with url: /products/terra-6-3-drawer-pine-white (Caused by NameResolutionError(\"<urllib3.connection.HTTPSConnection object at 0x00000226E3104B50>: Failed to resolve 'alidasa.co.uk' ([Errno 11001] getaddrinfo failed)\"))\n",
            "Finished processing link 590\n",
            "Failed to retrieve https://www.lovettandjudge.co.uk/products/worker-bee-picture: HTTPSConnectionPool(host='www.lovettandjudge.co.uk', port=443): Max retries exceeded with url: /products/worker-bee-picture (Caused by NameResolutionError(\"<urllib3.connection.HTTPSConnection object at 0x00000226A18B5090>: Failed to resolve 'www.lovettandjudge.co.uk' ([Errno 11001] getaddrinfo failed)\"))\n",
            "Finished processing link 591\n",
            "Failed to retrieve https://www.toplinestore.co.uk/products/valawhi/products/valawhi&title=Vala%20High%20Gloss%20Coffee%20Tabl...&source=http://www.toplinestore.co.uk/products/valawhi: HTTPSConnectionPool(host='www.toplinestore.co.uk', port=443): Max retries exceeded with url: /products/valawhi/products/valawhi&title=Vala%20High%20Gloss%20Coffee%20Tabl...&source=http://www.toplinestore.co.uk/products/valawhi (Caused by SSLError(SSLCertVerificationError(1, \"[SSL: CERTIFICATE_VERIFY_FAILED] certificate verify failed: Hostname mismatch, certificate is not valid for 'www.toplinestore.co.uk'. (_ssl.c:1006)\")))\n",
            "Finished processing link 592\n",
            "Successfully saved https://chelseafurnishings.co.uk/products/ashton-range\n",
            "Finished processing link 593\n",
            "Failed to retrieve https://windsorbedding.co.uk/products/: HTTPSConnectionPool(host='windsorbedding.co.uk', port=443): Max retries exceeded with url: /products/ (Caused by ConnectTimeoutError(<urllib3.connection.HTTPSConnection object at 0x00000226A753FA50>, 'Connection to windsorbedding.co.uk timed out. (connect timeout=None)'))\n",
            "Finished processing link 594\n",
            "Successfully saved https://www.arfurnishings.co.uk/products/kyoto-quilted-knockerback-chair\n",
            "Finished processing link 595\n",
            "Failed to retrieve https://www.dezilux.co.uk/products/aliya-french-style-console-table: HTTPSConnectionPool(host='www.dezilux.co.uk', port=443): Max retries exceeded with url: /products/aliya-french-style-console-table (Caused by NameResolutionError(\"<urllib3.connection.HTTPSConnection object at 0x00000226ABAC7310>: Failed to resolve 'www.dezilux.co.uk' ([Errno 11001] getaddrinfo failed)\"))\n",
            "Finished processing link 596\n",
            "Successfully saved https://www.harperandfaith.co.uk/products/jupiter-bed\n",
            "Finished processing link 597\n",
            "Failed to retrieve https://elegancehomefurniture.co.uk/products/dylan-crushed-velvet-swivel-cuddle-chair: 404 Client Error: Not Found for url: https://elegancehomefurniture.co.uk/products/dylan-crushed-velvet-swivel-cuddle-chair\n",
            "Finished processing link 598\n",
            "Failed to retrieve https://www.homeaffections.co.uk/products/wide-display-cabinet-540005-bonoca: HTTPSConnectionPool(host='www.homeaffections.co.uk', port=443): Max retries exceeded with url: /products/wide-display-cabinet-540005-bonoca (Caused by NameResolutionError(\"<urllib3.connection.HTTPSConnection object at 0x00000226A753DC10>: Failed to resolve 'www.homeaffections.co.uk' ([Errno 11001] getaddrinfo failed)\"))\n",
            "Finished processing link 599\n",
            "Failed to retrieve https://hemmingandwills.co.uk/products/arne-desk: 404 Client Error: Not Found for url: https://hemmingandwills.co.uk/products/arne-desk\n",
            "Finished processing link 600\n",
            "Failed to retrieve https://jopa-interiors.co.uk/products/black-weave-cushion-with-tag: HTTPSConnectionPool(host='jopa-interiors.co.uk', port=443): Max retries exceeded with url: /products/black-weave-cushion-with-tag (Caused by NameResolutionError(\"<urllib3.connection.HTTPSConnection object at 0x00000226A18B4890>: Failed to resolve 'jopa-interiors.co.uk' ([Errno 11001] getaddrinfo failed)\"))\n",
            "Finished processing link 601\n",
            "Successfully saved https://airfurniture.co.uk/products/zues-pu-storage-bed\n",
            "Finished processing link 602\n",
            "Successfully saved https://derwenthouseliving.co.uk/products/\n"
          ]
        },
        {
          "name": "stderr",
          "output_type": "stream",
          "text": [
            "100%|██████████| 66/66 [00:02<00:00, 23.22it/s]\n"
          ]
        },
        {
          "name": "stdout",
          "output_type": "stream",
          "text": [
            "Finished processing link 603\n",
            "Failed to retrieve https://www.furlon.co.uk/products/194: HTTPSConnectionPool(host='www.furlon.co.uk', port=443): Max retries exceeded with url: /products/194 (Caused by NameResolutionError(\"<urllib3.connection.HTTPSConnection object at 0x00000226A55B1D10>: Failed to resolve 'www.furlon.co.uk' ([Errno 11001] getaddrinfo failed)\"))\n",
            "Finished processing link 604\n",
            "Failed to retrieve https://rustic-furniture.co.uk/products/curved-open-bedside: HTTPSConnectionPool(host='rustic-furniture.co.uk', port=443): Max retries exceeded with url: /products/curved-open-bedside (Caused by NameResolutionError(\"<urllib3.connection.HTTPSConnection object at 0x000002269FE33010>: Failed to resolve 'rustic-furniture.co.uk' ([Errno 11001] getaddrinfo failed)\"))\n",
            "Finished processing link 605\n",
            "Failed to retrieve https://www.skhomedecor.co.uk/products/page/2/: HTTPSConnectionPool(host='www.skhomedecor.co.uk', port=443): Max retries exceeded with url: /products/page/2/ (Caused by NameResolutionError(\"<urllib3.connection.HTTPSConnection object at 0x000002269E4A8D10>: Failed to resolve 'www.skhomedecor.co.uk' ([Errno 11001] getaddrinfo failed)\"))\n",
            "Finished processing link 606\n",
            "Successfully saved https://www.onlydiningchairs.com.au/products/wooden-velvet-retro-grey-dining-chair\n"
          ]
        },
        {
          "name": "stderr",
          "output_type": "stream",
          "text": [
            "100%|██████████| 495/495 [00:27<00:00, 17.84it/s]\n"
          ]
        },
        {
          "name": "stdout",
          "output_type": "stream",
          "text": [
            "Finished processing link 607\n",
            "Failed to retrieve https://www.myharmony.hk/products/woody-slab-table: 404 Client Error: Not Found for url: https://www.myharmony.hk/404\n",
            "Finished processing link 608\n",
            "Failed to retrieve https://afg.us.com/products/ashley-baraga-h410-24: 404 Client Error: Not Found for url: https://afg.us.com/products/ashley-baraga-h410-24\n",
            "Finished processing link 609\n",
            "Successfully saved https://www.collectioni.com/products/noahs-ark-lounge-swivel-chair\n"
          ]
        },
        {
          "name": "stderr",
          "output_type": "stream",
          "text": [
            "100%|██████████| 153/153 [00:06<00:00, 23.71it/s]\n"
          ]
        },
        {
          "name": "stdout",
          "output_type": "stream",
          "text": [
            "Finished processing link 610\n",
            "Failed to retrieve https://noho.co/products/noho-move-chair-topper: 404 Client Error: Not Found for url: https://noho.co/products/noho-move-chair-topper\n",
            "Finished processing link 611\n",
            "Failed to retrieve https://odafurniture.com/products/: 404 Client Error: NOT FOUND for url: https://cunacci.com/products\n",
            "Finished processing link 612\n",
            "Failed to retrieve https://savannahspace.com/products/bo-woven-rug: 404 Client Error: Not Found for url: https://savannahspace.com/products/bo-woven-rug\n",
            "Finished processing link 613\n",
            "Successfully saved https://squarehome.com/products/\n"
          ]
        },
        {
          "name": "stderr",
          "output_type": "stream",
          "text": [
            "100%|██████████| 28/28 [00:01<00:00, 27.03it/s]\n"
          ]
        },
        {
          "name": "stdout",
          "output_type": "stream",
          "text": [
            "Finished processing link 614\n",
            "Failed to retrieve https://www.sundays-company.com/collections/new-arrivals/products/sink-in-sofa-ecru: 404 Client Error: Not Found for url: https://www.sundays-company.com/collections/new-arrivals/products/sink-in-sofa-ecru\n",
            "Finished processing link 615\n",
            "Successfully saved https://thebeachfurniture.com.au/products/gift-card\n"
          ]
        },
        {
          "name": "stderr",
          "output_type": "stream",
          "text": [
            "100%|██████████| 187/187 [00:07<00:00, 24.41it/s]\n"
          ]
        },
        {
          "name": "stdout",
          "output_type": "stream",
          "text": [
            "Finished processing link 616\n",
            "Failed to retrieve https://thedesigndepot.co.nz/products/: 523 Server Error:  for url: https://thedesigndepot.co.nz/products/\n",
            "Finished processing link 617\n",
            "Failed to retrieve https://superdealfurnituregallery.com/products/tristan-5-piece-kitchen-set: 404 Client Error: Not Found for url: https://sdfgallery.ca/products/tristan-5-piece-kitchen-set\n",
            "Finished processing link 618\n",
            "Successfully saved https://signaturefinefurniture.ca/products/jacobson-bed\n"
          ]
        },
        {
          "name": "stderr",
          "output_type": "stream",
          "text": [
            "100%|██████████| 48/48 [00:02<00:00, 23.78it/s]\n"
          ]
        },
        {
          "name": "stdout",
          "output_type": "stream",
          "text": [
            "Finished processing link 619\n",
            "Failed to retrieve http://aonefurniture.in/userdata/products/no%20value: 522 Server Error:  for url: https://aonefurniture.in/userdata/products/no%20value\n",
            "Finished processing link 620\n",
            "Successfully saved https://furnituremama.com/products/three-door-wardrobe-mirror-2\n"
          ]
        },
        {
          "name": "stderr",
          "output_type": "stream",
          "text": [
            "100%|██████████| 80/80 [00:05<00:00, 14.78it/s]\n"
          ]
        },
        {
          "name": "stdout",
          "output_type": "stream",
          "text": [
            "Finished processing link 621\n",
            "Successfully saved https://gfurniture.ca/products/\n"
          ]
        },
        {
          "name": "stderr",
          "output_type": "stream",
          "text": [
            "100%|██████████| 210/210 [00:07<00:00, 26.96it/s]\n"
          ]
        },
        {
          "name": "stdout",
          "output_type": "stream",
          "text": [
            "Finished processing link 622\n",
            "Failed to retrieve https://www.mwfurnitureoutlet.com/products/dresser: 404 Client Error: Not Found for url: https://luxhomedecor.com/products/dresser\n",
            "Finished processing link 623\n"
          ]
        }
      ],
      "source": [
        "import pandas as pd\n",
        "import json\n",
        "\n",
        "with open('result.json', 'r', encoding='utf-8') as f:\n",
        "    elems = json.load(f)\n",
        "\n",
        "# Read the furniture file\n",
        "links = pd.read_csv('furniture_stores_pages.csv')\n",
        "\n",
        "for index, link in enumerate(links['max(page)'][81:]):\n",
        "    elem = process_link(link)\n",
        "    elems.append(elem)\n",
        "    print(f\"Finished processing link {index + 1}\")\n",
        "    \n",
        "    # Save the prime_dataset to a JSON file\n",
        "    json_output_file = 'result.json'\n",
        "    with open(json_output_file, 'w', encoding='utf-8') as f:\n",
        "        json.dump(elems, f, ensure_ascii=False, indent=4)\n"
      ]
    }
  ],
  "metadata": {
    "accelerator": "GPU",
    "colab": {
      "gpuType": "T4",
      "provenance": []
    },
    "kernelspec": {
      "display_name": "Python 3",
      "name": "python3"
    },
    "language_info": {
      "codemirror_mode": {
        "name": "ipython",
        "version": 3
      },
      "file_extension": ".py",
      "mimetype": "text/x-python",
      "name": "python",
      "nbconvert_exporter": "python",
      "pygments_lexer": "ipython3",
      "version": "3.11.9"
    },
    "widgets": {
      "application/vnd.jupyter.widget-state+json": {
        "0678daf5e26f4517a7184b02d13e53bd": {
          "model_module": "@jupyter-widgets/controls",
          "model_module_version": "1.5.0",
          "model_name": "HTMLModel",
          "state": {
            "_dom_classes": [],
            "_model_module": "@jupyter-widgets/controls",
            "_model_module_version": "1.5.0",
            "_model_name": "HTMLModel",
            "_view_count": null,
            "_view_module": "@jupyter-widgets/controls",
            "_view_module_version": "1.5.0",
            "_view_name": "HTMLView",
            "description": "",
            "description_tooltip": null,
            "layout": "IPY_MODEL_20d3e1e2ce2c4872a17102102f1de26f",
            "placeholder": "​",
            "style": "IPY_MODEL_cccf014409e247d49a35cdf86c33aef5",
            "value": " 4716/4716 [00:01&lt;00:00, 3276.26 examples/s]"
          }
        },
        "146c4b41385144408c0cb653294b70b1": {
          "model_module": "@jupyter-widgets/base",
          "model_module_version": "1.2.0",
          "model_name": "LayoutModel",
          "state": {
            "_model_module": "@jupyter-widgets/base",
            "_model_module_version": "1.2.0",
            "_model_name": "LayoutModel",
            "_view_count": null,
            "_view_module": "@jupyter-widgets/base",
            "_view_module_version": "1.2.0",
            "_view_name": "LayoutView",
            "align_content": null,
            "align_items": null,
            "align_self": null,
            "border": null,
            "bottom": null,
            "display": null,
            "flex": null,
            "flex_flow": null,
            "grid_area": null,
            "grid_auto_columns": null,
            "grid_auto_flow": null,
            "grid_auto_rows": null,
            "grid_column": null,
            "grid_gap": null,
            "grid_row": null,
            "grid_template_areas": null,
            "grid_template_columns": null,
            "grid_template_rows": null,
            "height": null,
            "justify_content": null,
            "justify_items": null,
            "left": null,
            "margin": null,
            "max_height": null,
            "max_width": null,
            "min_height": null,
            "min_width": null,
            "object_fit": null,
            "object_position": null,
            "order": null,
            "overflow": null,
            "overflow_x": null,
            "overflow_y": null,
            "padding": null,
            "right": null,
            "top": null,
            "visibility": null,
            "width": null
          }
        },
        "166039ec870c4a1983b439fb9fc6fb40": {
          "model_module": "@jupyter-widgets/controls",
          "model_module_version": "1.5.0",
          "model_name": "DescriptionStyleModel",
          "state": {
            "_model_module": "@jupyter-widgets/controls",
            "_model_module_version": "1.5.0",
            "_model_name": "DescriptionStyleModel",
            "_view_count": null,
            "_view_module": "@jupyter-widgets/base",
            "_view_module_version": "1.2.0",
            "_view_name": "StyleView",
            "description_width": ""
          }
        },
        "20d3e1e2ce2c4872a17102102f1de26f": {
          "model_module": "@jupyter-widgets/base",
          "model_module_version": "1.2.0",
          "model_name": "LayoutModel",
          "state": {
            "_model_module": "@jupyter-widgets/base",
            "_model_module_version": "1.2.0",
            "_model_name": "LayoutModel",
            "_view_count": null,
            "_view_module": "@jupyter-widgets/base",
            "_view_module_version": "1.2.0",
            "_view_name": "LayoutView",
            "align_content": null,
            "align_items": null,
            "align_self": null,
            "border": null,
            "bottom": null,
            "display": null,
            "flex": null,
            "flex_flow": null,
            "grid_area": null,
            "grid_auto_columns": null,
            "grid_auto_flow": null,
            "grid_auto_rows": null,
            "grid_column": null,
            "grid_gap": null,
            "grid_row": null,
            "grid_template_areas": null,
            "grid_template_columns": null,
            "grid_template_rows": null,
            "height": null,
            "justify_content": null,
            "justify_items": null,
            "left": null,
            "margin": null,
            "max_height": null,
            "max_width": null,
            "min_height": null,
            "min_width": null,
            "object_fit": null,
            "object_position": null,
            "order": null,
            "overflow": null,
            "overflow_x": null,
            "overflow_y": null,
            "padding": null,
            "right": null,
            "top": null,
            "visibility": null,
            "width": null
          }
        },
        "2edab05644db4d329869e63cc25f3411": {
          "model_module": "@jupyter-widgets/controls",
          "model_module_version": "1.5.0",
          "model_name": "HTMLModel",
          "state": {
            "_dom_classes": [],
            "_model_module": "@jupyter-widgets/controls",
            "_model_module_version": "1.5.0",
            "_model_name": "HTMLModel",
            "_view_count": null,
            "_view_module": "@jupyter-widgets/controls",
            "_view_module_version": "1.5.0",
            "_view_name": "HTMLView",
            "description": "",
            "description_tooltip": null,
            "layout": "IPY_MODEL_6efbc70f055e4c60a52a7b50738b5b56",
            "placeholder": "​",
            "style": "IPY_MODEL_ed5723b6383847229df9fb8a278968a0",
            "value": " 4624/4624 [00:01&lt;00:00, 3353.07 examples/s]"
          }
        },
        "3f34215bf36f41dd9b377a25b88a288a": {
          "model_module": "@jupyter-widgets/base",
          "model_module_version": "1.2.0",
          "model_name": "LayoutModel",
          "state": {
            "_model_module": "@jupyter-widgets/base",
            "_model_module_version": "1.2.0",
            "_model_name": "LayoutModel",
            "_view_count": null,
            "_view_module": "@jupyter-widgets/base",
            "_view_module_version": "1.2.0",
            "_view_name": "LayoutView",
            "align_content": null,
            "align_items": null,
            "align_self": null,
            "border": null,
            "bottom": null,
            "display": null,
            "flex": null,
            "flex_flow": null,
            "grid_area": null,
            "grid_auto_columns": null,
            "grid_auto_flow": null,
            "grid_auto_rows": null,
            "grid_column": null,
            "grid_gap": null,
            "grid_row": null,
            "grid_template_areas": null,
            "grid_template_columns": null,
            "grid_template_rows": null,
            "height": null,
            "justify_content": null,
            "justify_items": null,
            "left": null,
            "margin": null,
            "max_height": null,
            "max_width": null,
            "min_height": null,
            "min_width": null,
            "object_fit": null,
            "object_position": null,
            "order": null,
            "overflow": null,
            "overflow_x": null,
            "overflow_y": null,
            "padding": null,
            "right": null,
            "top": null,
            "visibility": null,
            "width": null
          }
        },
        "41cd942ea05d4d74a51c07d1c384cc5c": {
          "model_module": "@jupyter-widgets/base",
          "model_module_version": "1.2.0",
          "model_name": "LayoutModel",
          "state": {
            "_model_module": "@jupyter-widgets/base",
            "_model_module_version": "1.2.0",
            "_model_name": "LayoutModel",
            "_view_count": null,
            "_view_module": "@jupyter-widgets/base",
            "_view_module_version": "1.2.0",
            "_view_name": "LayoutView",
            "align_content": null,
            "align_items": null,
            "align_self": null,
            "border": null,
            "bottom": null,
            "display": null,
            "flex": null,
            "flex_flow": null,
            "grid_area": null,
            "grid_auto_columns": null,
            "grid_auto_flow": null,
            "grid_auto_rows": null,
            "grid_column": null,
            "grid_gap": null,
            "grid_row": null,
            "grid_template_areas": null,
            "grid_template_columns": null,
            "grid_template_rows": null,
            "height": null,
            "justify_content": null,
            "justify_items": null,
            "left": null,
            "margin": null,
            "max_height": null,
            "max_width": null,
            "min_height": null,
            "min_width": null,
            "object_fit": null,
            "object_position": null,
            "order": null,
            "overflow": null,
            "overflow_x": null,
            "overflow_y": null,
            "padding": null,
            "right": null,
            "top": null,
            "visibility": null,
            "width": null
          }
        },
        "5a199cacfc364f78b9d623b9c3f33f5b": {
          "model_module": "@jupyter-widgets/controls",
          "model_module_version": "1.5.0",
          "model_name": "ProgressStyleModel",
          "state": {
            "_model_module": "@jupyter-widgets/controls",
            "_model_module_version": "1.5.0",
            "_model_name": "ProgressStyleModel",
            "_view_count": null,
            "_view_module": "@jupyter-widgets/base",
            "_view_module_version": "1.2.0",
            "_view_name": "StyleView",
            "bar_color": null,
            "description_width": ""
          }
        },
        "6ccc4e0bafa44cc3a7e1a0d396bb7668": {
          "model_module": "@jupyter-widgets/controls",
          "model_module_version": "1.5.0",
          "model_name": "DescriptionStyleModel",
          "state": {
            "_model_module": "@jupyter-widgets/controls",
            "_model_module_version": "1.5.0",
            "_model_name": "DescriptionStyleModel",
            "_view_count": null,
            "_view_module": "@jupyter-widgets/base",
            "_view_module_version": "1.2.0",
            "_view_name": "StyleView",
            "description_width": ""
          }
        },
        "6e13e9e2383541f694e31aa8432d1cb2": {
          "model_module": "@jupyter-widgets/controls",
          "model_module_version": "1.5.0",
          "model_name": "HTMLModel",
          "state": {
            "_dom_classes": [],
            "_model_module": "@jupyter-widgets/controls",
            "_model_module_version": "1.5.0",
            "_model_name": "HTMLModel",
            "_view_count": null,
            "_view_module": "@jupyter-widgets/controls",
            "_view_module_version": "1.5.0",
            "_view_name": "HTMLView",
            "description": "",
            "description_tooltip": null,
            "layout": "IPY_MODEL_146c4b41385144408c0cb653294b70b1",
            "placeholder": "​",
            "style": "IPY_MODEL_9bce174dca174064a9da2ce06e0fdfb2",
            "value": "Map: 100%"
          }
        },
        "6efbc70f055e4c60a52a7b50738b5b56": {
          "model_module": "@jupyter-widgets/base",
          "model_module_version": "1.2.0",
          "model_name": "LayoutModel",
          "state": {
            "_model_module": "@jupyter-widgets/base",
            "_model_module_version": "1.2.0",
            "_model_name": "LayoutModel",
            "_view_count": null,
            "_view_module": "@jupyter-widgets/base",
            "_view_module_version": "1.2.0",
            "_view_name": "LayoutView",
            "align_content": null,
            "align_items": null,
            "align_self": null,
            "border": null,
            "bottom": null,
            "display": null,
            "flex": null,
            "flex_flow": null,
            "grid_area": null,
            "grid_auto_columns": null,
            "grid_auto_flow": null,
            "grid_auto_rows": null,
            "grid_column": null,
            "grid_gap": null,
            "grid_row": null,
            "grid_template_areas": null,
            "grid_template_columns": null,
            "grid_template_rows": null,
            "height": null,
            "justify_content": null,
            "justify_items": null,
            "left": null,
            "margin": null,
            "max_height": null,
            "max_width": null,
            "min_height": null,
            "min_width": null,
            "object_fit": null,
            "object_position": null,
            "order": null,
            "overflow": null,
            "overflow_x": null,
            "overflow_y": null,
            "padding": null,
            "right": null,
            "top": null,
            "visibility": null,
            "width": null
          }
        },
        "7638f2c8fef74041ab613021c9c73aaf": {
          "model_module": "@jupyter-widgets/base",
          "model_module_version": "1.2.0",
          "model_name": "LayoutModel",
          "state": {
            "_model_module": "@jupyter-widgets/base",
            "_model_module_version": "1.2.0",
            "_model_name": "LayoutModel",
            "_view_count": null,
            "_view_module": "@jupyter-widgets/base",
            "_view_module_version": "1.2.0",
            "_view_name": "LayoutView",
            "align_content": null,
            "align_items": null,
            "align_self": null,
            "border": null,
            "bottom": null,
            "display": null,
            "flex": null,
            "flex_flow": null,
            "grid_area": null,
            "grid_auto_columns": null,
            "grid_auto_flow": null,
            "grid_auto_rows": null,
            "grid_column": null,
            "grid_gap": null,
            "grid_row": null,
            "grid_template_areas": null,
            "grid_template_columns": null,
            "grid_template_rows": null,
            "height": null,
            "justify_content": null,
            "justify_items": null,
            "left": null,
            "margin": null,
            "max_height": null,
            "max_width": null,
            "min_height": null,
            "min_width": null,
            "object_fit": null,
            "object_position": null,
            "order": null,
            "overflow": null,
            "overflow_x": null,
            "overflow_y": null,
            "padding": null,
            "right": null,
            "top": null,
            "visibility": null,
            "width": null
          }
        },
        "76c883d48bb74690a9bfc7d667638e29": {
          "model_module": "@jupyter-widgets/base",
          "model_module_version": "1.2.0",
          "model_name": "LayoutModel",
          "state": {
            "_model_module": "@jupyter-widgets/base",
            "_model_module_version": "1.2.0",
            "_model_name": "LayoutModel",
            "_view_count": null,
            "_view_module": "@jupyter-widgets/base",
            "_view_module_version": "1.2.0",
            "_view_name": "LayoutView",
            "align_content": null,
            "align_items": null,
            "align_self": null,
            "border": null,
            "bottom": null,
            "display": null,
            "flex": null,
            "flex_flow": null,
            "grid_area": null,
            "grid_auto_columns": null,
            "grid_auto_flow": null,
            "grid_auto_rows": null,
            "grid_column": null,
            "grid_gap": null,
            "grid_row": null,
            "grid_template_areas": null,
            "grid_template_columns": null,
            "grid_template_rows": null,
            "height": null,
            "justify_content": null,
            "justify_items": null,
            "left": null,
            "margin": null,
            "max_height": null,
            "max_width": null,
            "min_height": null,
            "min_width": null,
            "object_fit": null,
            "object_position": null,
            "order": null,
            "overflow": null,
            "overflow_x": null,
            "overflow_y": null,
            "padding": null,
            "right": null,
            "top": null,
            "visibility": null,
            "width": null
          }
        },
        "8202e6924ff94ff79ab89b0cdb41ede5": {
          "model_module": "@jupyter-widgets/controls",
          "model_module_version": "1.5.0",
          "model_name": "FloatProgressModel",
          "state": {
            "_dom_classes": [],
            "_model_module": "@jupyter-widgets/controls",
            "_model_module_version": "1.5.0",
            "_model_name": "FloatProgressModel",
            "_view_count": null,
            "_view_module": "@jupyter-widgets/controls",
            "_view_module_version": "1.5.0",
            "_view_name": "ProgressView",
            "bar_style": "success",
            "description": "",
            "description_tooltip": null,
            "layout": "IPY_MODEL_d0e79020eb5141f987f2ddba3fb6140e",
            "max": 9156,
            "min": 0,
            "orientation": "horizontal",
            "style": "IPY_MODEL_d4ca4940c5b2446e91362410ce27903b",
            "value": 9156
          }
        },
        "9b430b2490f6422ca63df30eed15a505": {
          "model_module": "@jupyter-widgets/controls",
          "model_module_version": "1.5.0",
          "model_name": "FloatProgressModel",
          "state": {
            "_dom_classes": [],
            "_model_module": "@jupyter-widgets/controls",
            "_model_module_version": "1.5.0",
            "_model_name": "FloatProgressModel",
            "_view_count": null,
            "_view_module": "@jupyter-widgets/controls",
            "_view_module_version": "1.5.0",
            "_view_name": "ProgressView",
            "bar_style": "success",
            "description": "",
            "description_tooltip": null,
            "layout": "IPY_MODEL_41cd942ea05d4d74a51c07d1c384cc5c",
            "max": 4624,
            "min": 0,
            "orientation": "horizontal",
            "style": "IPY_MODEL_f6ff2e4d5eb4453c91f498cd04eb803b",
            "value": 4624
          }
        },
        "9bce174dca174064a9da2ce06e0fdfb2": {
          "model_module": "@jupyter-widgets/controls",
          "model_module_version": "1.5.0",
          "model_name": "DescriptionStyleModel",
          "state": {
            "_model_module": "@jupyter-widgets/controls",
            "_model_module_version": "1.5.0",
            "_model_name": "DescriptionStyleModel",
            "_view_count": null,
            "_view_module": "@jupyter-widgets/base",
            "_view_module_version": "1.2.0",
            "_view_name": "StyleView",
            "description_width": ""
          }
        },
        "a2ed002980724cf8ac200ace6041028e": {
          "model_module": "@jupyter-widgets/base",
          "model_module_version": "1.2.0",
          "model_name": "LayoutModel",
          "state": {
            "_model_module": "@jupyter-widgets/base",
            "_model_module_version": "1.2.0",
            "_model_name": "LayoutModel",
            "_view_count": null,
            "_view_module": "@jupyter-widgets/base",
            "_view_module_version": "1.2.0",
            "_view_name": "LayoutView",
            "align_content": null,
            "align_items": null,
            "align_self": null,
            "border": null,
            "bottom": null,
            "display": null,
            "flex": null,
            "flex_flow": null,
            "grid_area": null,
            "grid_auto_columns": null,
            "grid_auto_flow": null,
            "grid_auto_rows": null,
            "grid_column": null,
            "grid_gap": null,
            "grid_row": null,
            "grid_template_areas": null,
            "grid_template_columns": null,
            "grid_template_rows": null,
            "height": null,
            "justify_content": null,
            "justify_items": null,
            "left": null,
            "margin": null,
            "max_height": null,
            "max_width": null,
            "min_height": null,
            "min_width": null,
            "object_fit": null,
            "object_position": null,
            "order": null,
            "overflow": null,
            "overflow_x": null,
            "overflow_y": null,
            "padding": null,
            "right": null,
            "top": null,
            "visibility": null,
            "width": null
          }
        },
        "a78a32ac518d4a34bb6b1355cb4cf8aa": {
          "model_module": "@jupyter-widgets/controls",
          "model_module_version": "1.5.0",
          "model_name": "DescriptionStyleModel",
          "state": {
            "_model_module": "@jupyter-widgets/controls",
            "_model_module_version": "1.5.0",
            "_model_name": "DescriptionStyleModel",
            "_view_count": null,
            "_view_module": "@jupyter-widgets/base",
            "_view_module_version": "1.2.0",
            "_view_name": "StyleView",
            "description_width": ""
          }
        },
        "a7d58e72e10249b794f8aba1ded56218": {
          "model_module": "@jupyter-widgets/base",
          "model_module_version": "1.2.0",
          "model_name": "LayoutModel",
          "state": {
            "_model_module": "@jupyter-widgets/base",
            "_model_module_version": "1.2.0",
            "_model_name": "LayoutModel",
            "_view_count": null,
            "_view_module": "@jupyter-widgets/base",
            "_view_module_version": "1.2.0",
            "_view_name": "LayoutView",
            "align_content": null,
            "align_items": null,
            "align_self": null,
            "border": null,
            "bottom": null,
            "display": null,
            "flex": null,
            "flex_flow": null,
            "grid_area": null,
            "grid_auto_columns": null,
            "grid_auto_flow": null,
            "grid_auto_rows": null,
            "grid_column": null,
            "grid_gap": null,
            "grid_row": null,
            "grid_template_areas": null,
            "grid_template_columns": null,
            "grid_template_rows": null,
            "height": null,
            "justify_content": null,
            "justify_items": null,
            "left": null,
            "margin": null,
            "max_height": null,
            "max_width": null,
            "min_height": null,
            "min_width": null,
            "object_fit": null,
            "object_position": null,
            "order": null,
            "overflow": null,
            "overflow_x": null,
            "overflow_y": null,
            "padding": null,
            "right": null,
            "top": null,
            "visibility": null,
            "width": null
          }
        },
        "ab0d991e60844a3eb359c8507e17ee27": {
          "model_module": "@jupyter-widgets/controls",
          "model_module_version": "1.5.0",
          "model_name": "HTMLModel",
          "state": {
            "_dom_classes": [],
            "_model_module": "@jupyter-widgets/controls",
            "_model_module_version": "1.5.0",
            "_model_name": "HTMLModel",
            "_view_count": null,
            "_view_module": "@jupyter-widgets/controls",
            "_view_module_version": "1.5.0",
            "_view_name": "HTMLView",
            "description": "",
            "description_tooltip": null,
            "layout": "IPY_MODEL_7638f2c8fef74041ab613021c9c73aaf",
            "placeholder": "​",
            "style": "IPY_MODEL_a78a32ac518d4a34bb6b1355cb4cf8aa",
            "value": "Map: 100%"
          }
        },
        "abb4e782a234475893349b626e30a464": {
          "model_module": "@jupyter-widgets/controls",
          "model_module_version": "1.5.0",
          "model_name": "HBoxModel",
          "state": {
            "_dom_classes": [],
            "_model_module": "@jupyter-widgets/controls",
            "_model_module_version": "1.5.0",
            "_model_name": "HBoxModel",
            "_view_count": null,
            "_view_module": "@jupyter-widgets/controls",
            "_view_module_version": "1.5.0",
            "_view_name": "HBoxView",
            "box_style": "",
            "children": [
              "IPY_MODEL_6e13e9e2383541f694e31aa8432d1cb2",
              "IPY_MODEL_fd47aa2210fe46a18e3d30606a6cc042",
              "IPY_MODEL_0678daf5e26f4517a7184b02d13e53bd"
            ],
            "layout": "IPY_MODEL_cdebc05e50904300a682c7a781214f65"
          }
        },
        "bc74092d272749b48f25c7039018022e": {
          "model_module": "@jupyter-widgets/base",
          "model_module_version": "1.2.0",
          "model_name": "LayoutModel",
          "state": {
            "_model_module": "@jupyter-widgets/base",
            "_model_module_version": "1.2.0",
            "_model_name": "LayoutModel",
            "_view_count": null,
            "_view_module": "@jupyter-widgets/base",
            "_view_module_version": "1.2.0",
            "_view_name": "LayoutView",
            "align_content": null,
            "align_items": null,
            "align_self": null,
            "border": null,
            "bottom": null,
            "display": null,
            "flex": null,
            "flex_flow": null,
            "grid_area": null,
            "grid_auto_columns": null,
            "grid_auto_flow": null,
            "grid_auto_rows": null,
            "grid_column": null,
            "grid_gap": null,
            "grid_row": null,
            "grid_template_areas": null,
            "grid_template_columns": null,
            "grid_template_rows": null,
            "height": null,
            "justify_content": null,
            "justify_items": null,
            "left": null,
            "margin": null,
            "max_height": null,
            "max_width": null,
            "min_height": null,
            "min_width": null,
            "object_fit": null,
            "object_position": null,
            "order": null,
            "overflow": null,
            "overflow_x": null,
            "overflow_y": null,
            "padding": null,
            "right": null,
            "top": null,
            "visibility": null,
            "width": null
          }
        },
        "c6772167be344eb99e4ecae0cbea1036": {
          "model_module": "@jupyter-widgets/controls",
          "model_module_version": "1.5.0",
          "model_name": "HBoxModel",
          "state": {
            "_dom_classes": [],
            "_model_module": "@jupyter-widgets/controls",
            "_model_module_version": "1.5.0",
            "_model_name": "HBoxModel",
            "_view_count": null,
            "_view_module": "@jupyter-widgets/controls",
            "_view_module_version": "1.5.0",
            "_view_name": "HBoxView",
            "box_style": "",
            "children": [
              "IPY_MODEL_ab0d991e60844a3eb359c8507e17ee27",
              "IPY_MODEL_9b430b2490f6422ca63df30eed15a505",
              "IPY_MODEL_2edab05644db4d329869e63cc25f3411"
            ],
            "layout": "IPY_MODEL_a2ed002980724cf8ac200ace6041028e"
          }
        },
        "cccf014409e247d49a35cdf86c33aef5": {
          "model_module": "@jupyter-widgets/controls",
          "model_module_version": "1.5.0",
          "model_name": "DescriptionStyleModel",
          "state": {
            "_model_module": "@jupyter-widgets/controls",
            "_model_module_version": "1.5.0",
            "_model_name": "DescriptionStyleModel",
            "_view_count": null,
            "_view_module": "@jupyter-widgets/base",
            "_view_module_version": "1.2.0",
            "_view_name": "StyleView",
            "description_width": ""
          }
        },
        "cdebc05e50904300a682c7a781214f65": {
          "model_module": "@jupyter-widgets/base",
          "model_module_version": "1.2.0",
          "model_name": "LayoutModel",
          "state": {
            "_model_module": "@jupyter-widgets/base",
            "_model_module_version": "1.2.0",
            "_model_name": "LayoutModel",
            "_view_count": null,
            "_view_module": "@jupyter-widgets/base",
            "_view_module_version": "1.2.0",
            "_view_name": "LayoutView",
            "align_content": null,
            "align_items": null,
            "align_self": null,
            "border": null,
            "bottom": null,
            "display": null,
            "flex": null,
            "flex_flow": null,
            "grid_area": null,
            "grid_auto_columns": null,
            "grid_auto_flow": null,
            "grid_auto_rows": null,
            "grid_column": null,
            "grid_gap": null,
            "grid_row": null,
            "grid_template_areas": null,
            "grid_template_columns": null,
            "grid_template_rows": null,
            "height": null,
            "justify_content": null,
            "justify_items": null,
            "left": null,
            "margin": null,
            "max_height": null,
            "max_width": null,
            "min_height": null,
            "min_width": null,
            "object_fit": null,
            "object_position": null,
            "order": null,
            "overflow": null,
            "overflow_x": null,
            "overflow_y": null,
            "padding": null,
            "right": null,
            "top": null,
            "visibility": null,
            "width": null
          }
        },
        "d0e79020eb5141f987f2ddba3fb6140e": {
          "model_module": "@jupyter-widgets/base",
          "model_module_version": "1.2.0",
          "model_name": "LayoutModel",
          "state": {
            "_model_module": "@jupyter-widgets/base",
            "_model_module_version": "1.2.0",
            "_model_name": "LayoutModel",
            "_view_count": null,
            "_view_module": "@jupyter-widgets/base",
            "_view_module_version": "1.2.0",
            "_view_name": "LayoutView",
            "align_content": null,
            "align_items": null,
            "align_self": null,
            "border": null,
            "bottom": null,
            "display": null,
            "flex": null,
            "flex_flow": null,
            "grid_area": null,
            "grid_auto_columns": null,
            "grid_auto_flow": null,
            "grid_auto_rows": null,
            "grid_column": null,
            "grid_gap": null,
            "grid_row": null,
            "grid_template_areas": null,
            "grid_template_columns": null,
            "grid_template_rows": null,
            "height": null,
            "justify_content": null,
            "justify_items": null,
            "left": null,
            "margin": null,
            "max_height": null,
            "max_width": null,
            "min_height": null,
            "min_width": null,
            "object_fit": null,
            "object_position": null,
            "order": null,
            "overflow": null,
            "overflow_x": null,
            "overflow_y": null,
            "padding": null,
            "right": null,
            "top": null,
            "visibility": null,
            "width": null
          }
        },
        "d4ca4940c5b2446e91362410ce27903b": {
          "model_module": "@jupyter-widgets/controls",
          "model_module_version": "1.5.0",
          "model_name": "ProgressStyleModel",
          "state": {
            "_model_module": "@jupyter-widgets/controls",
            "_model_module_version": "1.5.0",
            "_model_name": "ProgressStyleModel",
            "_view_count": null,
            "_view_module": "@jupyter-widgets/base",
            "_view_module_version": "1.2.0",
            "_view_name": "StyleView",
            "bar_color": null,
            "description_width": ""
          }
        },
        "dff67d99a55e4867be339b75fb22e2a3": {
          "model_module": "@jupyter-widgets/controls",
          "model_module_version": "1.5.0",
          "model_name": "HTMLModel",
          "state": {
            "_dom_classes": [],
            "_model_module": "@jupyter-widgets/controls",
            "_model_module_version": "1.5.0",
            "_model_name": "HTMLModel",
            "_view_count": null,
            "_view_module": "@jupyter-widgets/controls",
            "_view_module_version": "1.5.0",
            "_view_name": "HTMLView",
            "description": "",
            "description_tooltip": null,
            "layout": "IPY_MODEL_76c883d48bb74690a9bfc7d667638e29",
            "placeholder": "​",
            "style": "IPY_MODEL_166039ec870c4a1983b439fb9fc6fb40",
            "value": " 9156/9156 [00:02&lt;00:00, 3343.83 examples/s]"
          }
        },
        "e050f6b9f55a45cc9761921897c50844": {
          "model_module": "@jupyter-widgets/controls",
          "model_module_version": "1.5.0",
          "model_name": "HBoxModel",
          "state": {
            "_dom_classes": [],
            "_model_module": "@jupyter-widgets/controls",
            "_model_module_version": "1.5.0",
            "_model_name": "HBoxModel",
            "_view_count": null,
            "_view_module": "@jupyter-widgets/controls",
            "_view_module_version": "1.5.0",
            "_view_name": "HBoxView",
            "box_style": "",
            "children": [
              "IPY_MODEL_ef21109e32734fe1a3cc309106de110a",
              "IPY_MODEL_8202e6924ff94ff79ab89b0cdb41ede5",
              "IPY_MODEL_dff67d99a55e4867be339b75fb22e2a3"
            ],
            "layout": "IPY_MODEL_3f34215bf36f41dd9b377a25b88a288a"
          }
        },
        "ed5723b6383847229df9fb8a278968a0": {
          "model_module": "@jupyter-widgets/controls",
          "model_module_version": "1.5.0",
          "model_name": "DescriptionStyleModel",
          "state": {
            "_model_module": "@jupyter-widgets/controls",
            "_model_module_version": "1.5.0",
            "_model_name": "DescriptionStyleModel",
            "_view_count": null,
            "_view_module": "@jupyter-widgets/base",
            "_view_module_version": "1.2.0",
            "_view_name": "StyleView",
            "description_width": ""
          }
        },
        "ef21109e32734fe1a3cc309106de110a": {
          "model_module": "@jupyter-widgets/controls",
          "model_module_version": "1.5.0",
          "model_name": "HTMLModel",
          "state": {
            "_dom_classes": [],
            "_model_module": "@jupyter-widgets/controls",
            "_model_module_version": "1.5.0",
            "_model_name": "HTMLModel",
            "_view_count": null,
            "_view_module": "@jupyter-widgets/controls",
            "_view_module_version": "1.5.0",
            "_view_name": "HTMLView",
            "description": "",
            "description_tooltip": null,
            "layout": "IPY_MODEL_a7d58e72e10249b794f8aba1ded56218",
            "placeholder": "​",
            "style": "IPY_MODEL_6ccc4e0bafa44cc3a7e1a0d396bb7668",
            "value": "Map: 100%"
          }
        },
        "f6ff2e4d5eb4453c91f498cd04eb803b": {
          "model_module": "@jupyter-widgets/controls",
          "model_module_version": "1.5.0",
          "model_name": "ProgressStyleModel",
          "state": {
            "_model_module": "@jupyter-widgets/controls",
            "_model_module_version": "1.5.0",
            "_model_name": "ProgressStyleModel",
            "_view_count": null,
            "_view_module": "@jupyter-widgets/base",
            "_view_module_version": "1.2.0",
            "_view_name": "StyleView",
            "bar_color": null,
            "description_width": ""
          }
        },
        "fd47aa2210fe46a18e3d30606a6cc042": {
          "model_module": "@jupyter-widgets/controls",
          "model_module_version": "1.5.0",
          "model_name": "FloatProgressModel",
          "state": {
            "_dom_classes": [],
            "_model_module": "@jupyter-widgets/controls",
            "_model_module_version": "1.5.0",
            "_model_name": "FloatProgressModel",
            "_view_count": null,
            "_view_module": "@jupyter-widgets/controls",
            "_view_module_version": "1.5.0",
            "_view_name": "ProgressView",
            "bar_style": "success",
            "description": "",
            "description_tooltip": null,
            "layout": "IPY_MODEL_bc74092d272749b48f25c7039018022e",
            "max": 4716,
            "min": 0,
            "orientation": "horizontal",
            "style": "IPY_MODEL_5a199cacfc364f78b9d623b9c3f33f5b",
            "value": 4716
          }
        }
      }
    }
  },
  "nbformat": 4,
  "nbformat_minor": 0
}
